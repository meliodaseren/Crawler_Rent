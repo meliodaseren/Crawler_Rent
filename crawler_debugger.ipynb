{
 "cells": [
  {
   "cell_type": "code",
   "execution_count": 21,
   "metadata": {
    "collapsed": true
   },
   "outputs": [],
   "source": [
    "import math\n",
    "import requests\n",
    "from bs4 import BeautifulSoup"
   ]
  },
  {
   "cell_type": "code",
   "execution_count": 22,
   "metadata": {
    "collapsed": true
   },
   "outputs": [],
   "source": [
    "res = requests.get(\"http://www.etwarm.com.tw/rent/object_list?area=台北市&keyword=套房\")\n",
    "soup = BeautifulSoup(res.text, \"lxml\")\n",
    "\n",
    "index = \"http://www.etwarm.com.tw/rent/object_list?area=台北市&keyword=套房&page=1\""
   ]
  },
  {
   "cell_type": "markdown",
   "metadata": {},
   "source": [
    "### 取得每個房屋物件的連結"
   ]
  },
  {
   "cell_type": "code",
   "execution_count": 23,
   "metadata": {
    "scrolled": true
   },
   "outputs": [
    {
     "data": {
      "text/plain": [
       "[<div class=\"obj_info\">\n",
       " <h3>\n",
       " <a href=\"http://www.etwarm.com.tw/rent-180985\" target=\"_blank\">\n",
       " \t\t\t        \t\t電梯華廈大<span class=\"search_txt\">套房</span> </a>\n",
       " </h3>\n",
       " <div class=\"obj_content\">台北市中山區松江路</div>\n",
       " <ul class=\"obj_detail\">\n",
       " <li>華廈</li>\n",
       " <li>20坪</li>\n",
       " <li>3/6(總樓層)</li>\n",
       " </ul>\n",
       " </div>, <div class=\"obj_info\">\n",
       " <h3>\n",
       " <a href=\"http://www.etwarm.com.tw/rent-180984\" target=\"_blank\">\n",
       " \t\t\t        \t\t雙連捷運小資電梯<span class=\"search_txt\">套房</span> </a>\n",
       " </h3>\n",
       " <div class=\"obj_content\">台北市大同區民生西路</div>\n",
       " <ul class=\"obj_detail\">\n",
       " <li>華廈</li>\n",
       " <li>5坪</li>\n",
       " <li>10/12(總樓層)</li>\n",
       " </ul>\n",
       " </div>, <div class=\"obj_info\">\n",
       " <h3>\n",
       " <a href=\"http://www.etwarm.com.tw/rent-180804\" target=\"_blank\">\n",
       " \t\t\t        \t\t電梯頂加<span class=\"search_txt\">套房</span>(F6)\t\t\t        \t</a>\n",
       " </h3>\n",
       " <div class=\"obj_content\">台北市中山區中山北路路三段</div>\n",
       " <ul class=\"obj_detail\">\n",
       " <li>華廈</li>\n",
       " <li>開放空間</li>\n",
       " <li>13.17坪</li>\n",
       " <li>9樓</li>\n",
       " </ul>\n",
       " </div>, <div class=\"obj_info\">\n",
       " <h3>\n",
       " <a href=\"http://www.etwarm.com.tw/rent-180778\" target=\"_blank\">\n",
       " \t\t\t        \t\t環境佳交通便利(近捷運龍山寺站)<span class=\"search_txt\">套房</span>出租\t\t\t        \t</a>\n",
       " </h3>\n",
       " <div class=\"obj_content\">台北市萬華區環河南路2段280巷</div>\n",
       " <ul class=\"obj_detail\">\n",
       " <li>公寓</li>\n",
       " <li>8坪</li>\n",
       " <li>4/4(總樓層)</li>\n",
       " </ul>\n",
       " </div>, <div class=\"obj_info\">\n",
       " <h3>\n",
       " <a href=\"http://www.etwarm.com.tw/rent-180765\" target=\"_blank\">\n",
       " \t\t\t        \t\t農安街美<span class=\"search_txt\">套房</span>F50\t\t\t        \t</a>\n",
       " </h3>\n",
       " <div class=\"obj_content\">台北市中山區農安街</div>\n",
       " <ul class=\"obj_detail\">\n",
       " <li>大樓</li>\n",
       " <li>1房1廳1衛</li>\n",
       " <li>9.8坪</li>\n",
       " <li>7 / 6(總樓層)</li>\n",
       " </ul>\n",
       " </div>, <div class=\"obj_info\">\n",
       " <h3>\n",
       " <a href=\"http://www.etwarm.com.tw/rent-180635\" target=\"_blank\">\n",
       " \t\t\t        \t\t12324-聖羅蘭<span class=\"search_txt\">套房</span> </a>\n",
       " </h3>\n",
       " <div class=\"obj_content\">台北市大安區仁愛路仁愛段</div>\n",
       " <ul class=\"obj_detail\">\n",
       " <li>華廈</li>\n",
       " <li>1房1廳1衛</li>\n",
       " <li>12.89坪</li>\n",
       " <li>2 / 11(總樓層)</li>\n",
       " </ul>\n",
       " </div>, <div class=\"obj_info\">\n",
       " <h3>\n",
       " <a href=\"http://www.etwarm.com.tw/rent-180607\" target=\"_blank\">\n",
       " \t\t\t        \t\t花博電梯溫馨<span class=\"search_txt\">套房</span>0926986801\t\t\t        \t</a>\n",
       " </h3>\n",
       " <div class=\"obj_content\">台北市中山區松江路</div>\n",
       " <ul class=\"obj_detail\">\n",
       " <li>華廈</li>\n",
       " <li>11坪</li>\n",
       " <li>3/6(總樓層)</li>\n",
       " </ul>\n",
       " </div>, <div class=\"obj_info\">\n",
       " <h3>\n",
       " <a href=\"http://www.etwarm.com.tw/rent-180564\" target=\"_blank\">\n",
       " \t\t\t        \t\t花博電梯陽光<span class=\"search_txt\">套房</span>0981-395619\t\t\t        \t</a>\n",
       " </h3>\n",
       " <div class=\"obj_content\">台北市中山區松江路</div>\n",
       " <ul class=\"obj_detail\">\n",
       " <li>華廈</li>\n",
       " <li>11坪</li>\n",
       " <li>2/6(總樓層)</li>\n",
       " </ul>\n",
       " </div>, <div class=\"obj_info\">\n",
       " <h3>\n",
       " <a href=\"http://www.etwarm.com.tw/rent-180535\" target=\"_blank\">\n",
       " \t\t\t        \t\t台北市羅斯福路安靜乾淨二樓公寓大<span class=\"search_txt\">套房</span>出租\t\t\t        \t</a>\n",
       " </h3>\n",
       " <div class=\"obj_content\">台北市文山區羅斯福路5段53巷</div>\n",
       " <ul class=\"obj_detail\">\n",
       " <li>公寓</li>\n",
       " <li>9坪</li>\n",
       " <li>2/4(總樓層)</li>\n",
       " </ul>\n",
       " </div>, <div class=\"obj_info\">\n",
       " <h3>\n",
       " <a href=\"http://www.etwarm.com.tw/rent-180534\" target=\"_blank\">\n",
       " \t\t\t        \t\t台北市一樓別墅花園獨立大<span class=\"search_txt\">套房</span>出租近捷運站\t\t\t        \t</a>\n",
       " </h3>\n",
       " <div class=\"obj_content\">台北市文山區興隆路四段1巷</div>\n",
       " <ul class=\"obj_detail\">\n",
       " <li>透天</li>\n",
       " <li>10坪</li>\n",
       " <li>1/3(總樓層)</li>\n",
       " </ul>\n",
       " </div>]"
      ]
     },
     "execution_count": 23,
     "metadata": {},
     "output_type": "execute_result"
    }
   ],
   "source": [
    "# BeautifulSoup(res.text, \"lxml\").select('ul[class=\"obj_list\"]')\n",
    "# soup.select('div[class=\"obj_info\"]')\n",
    "soup.select('div.obj_info')"
   ]
  },
  {
   "cell_type": "code",
   "execution_count": 24,
   "metadata": {
    "scrolled": true
   },
   "outputs": [
    {
     "data": {
      "text/plain": [
       "'http://www.etwarm.com.tw/rent-180534'"
      ]
     },
     "execution_count": 24,
     "metadata": {},
     "output_type": "execute_result"
    }
   ],
   "source": [
    "soup.select('div[class=\"obj_info\"]')[9].select('a')[0]['href']"
   ]
  },
  {
   "cell_type": "markdown",
   "metadata": {},
   "source": [
    "### 取得每個房屋物件的標題"
   ]
  },
  {
   "cell_type": "code",
   "execution_count": 25,
   "metadata": {
    "scrolled": true
   },
   "outputs": [
    {
     "data": {
      "text/plain": [
       "<a href=\"http://www.etwarm.com.tw/rent-180985\" target=\"_blank\">\n",
       "\t\t\t        \t\t電梯華廈大<span class=\"search_txt\">套房</span> </a>"
      ]
     },
     "execution_count": 25,
     "metadata": {},
     "output_type": "execute_result"
    }
   ],
   "source": [
    "soup.select('div[class=\"obj_info\"]')[0].select('a')[0]"
   ]
  },
  {
   "cell_type": "code",
   "execution_count": 35,
   "metadata": {},
   "outputs": [
    {
     "data": {
      "text/plain": [
       "\"['電梯華廈大套房']\""
      ]
     },
     "execution_count": 35,
     "metadata": {},
     "output_type": "execute_result"
    }
   ],
   "source": [
    "title = soup.select('div[class=\"obj_info\"]')[0].select('a')[0].text.split()\n",
    "str(title)"
   ]
  },
  {
   "cell_type": "code",
   "execution_count": 36,
   "metadata": {},
   "outputs": [
    {
     "data": {
      "text/plain": [
       "'電梯華廈大套房'"
      ]
     },
     "execution_count": 36,
     "metadata": {},
     "output_type": "execute_result"
    }
   ],
   "source": [
    "title = str(title).lstrip('[\\'').rstrip('\\']')\n",
    "title"
   ]
  },
  {
   "cell_type": "markdown",
   "metadata": {},
   "source": [
    "### 取得總筆數及頁數"
   ]
  },
  {
   "cell_type": "code",
   "execution_count": 37,
   "metadata": {},
   "outputs": [
    {
     "data": {
      "text/plain": [
       "22"
      ]
     },
     "execution_count": 37,
     "metadata": {},
     "output_type": "execute_result"
    }
   ],
   "source": [
    "totalPieces = int(soup.select('div[class=\"object_mode\"]')[0].select('span')[0].text)\n",
    "totalPieces"
   ]
  },
  {
   "cell_type": "code",
   "execution_count": 38,
   "metadata": {},
   "outputs": [
    {
     "data": {
      "text/plain": [
       "3"
      ]
     },
     "execution_count": 38,
     "metadata": {},
     "output_type": "execute_result"
    }
   ],
   "source": [
    "totalPages = math.ceil(totalPieces / 10)\n",
    "totalPages"
   ]
  },
  {
   "cell_type": "code",
   "execution_count": 39,
   "metadata": {},
   "outputs": [
    {
     "data": {
      "text/plain": [
       "10"
      ]
     },
     "execution_count": 39,
     "metadata": {},
     "output_type": "execute_result"
    }
   ],
   "source": [
    "obj_info = soup.select('div[class=\"obj_info\"]')\n",
    "totalObj = len(obj_info)\n",
    "totalObj"
   ]
  },
  {
   "cell_type": "markdown",
   "metadata": {},
   "source": [
    "## Test 1"
   ]
  },
  {
   "cell_type": "code",
   "execution_count": 40,
   "metadata": {
    "collapsed": true
   },
   "outputs": [],
   "source": [
    "def getTotalPages(href):\n",
    "    res = requests.get(href)\n",
    "    soup = BeautifulSoup(res.text, \"lxml\")\n",
    "    totalPieces = int(soup.select('div[class=\"object_mode\"]')[0].select('span')[0].text)\n",
    "    res.close()\n",
    "    # 10 house objects in each page\n",
    "    totalPages = math.ceil(totalPieces / 10)\n",
    "    return totalPages"
   ]
  },
  {
   "cell_type": "code",
   "execution_count": 41,
   "metadata": {},
   "outputs": [
    {
     "name": "stdout",
     "output_type": "stream",
     "text": [
      "Total Pages: 3\n"
     ]
    }
   ],
   "source": [
    "totalPages = getTotalPages(index)\n",
    "print(\"Total Pages: \" + str(totalPages))"
   ]
  },
  {
   "cell_type": "markdown",
   "metadata": {},
   "source": [
    "## Test 2"
   ]
  },
  {
   "cell_type": "code",
   "execution_count": 42,
   "metadata": {
    "collapsed": true
   },
   "outputs": [],
   "source": [
    "for page in range(1, totalPages + 1):\n",
    "    indexf = index[:-1] + \"{}\"\n",
    "    href = indexf.format(page)\n",
    "    res = requests.get(href)\n",
    "    soup = BeautifulSoup(res.text, \"lxml\")"
   ]
  },
  {
   "cell_type": "code",
   "execution_count": 43,
   "metadata": {},
   "outputs": [
    {
     "data": {
      "text/plain": [
       "'http://www.etwarm.com.tw/rent/object_list?area=台北市&keyword=套房&page=1'"
      ]
     },
     "execution_count": 43,
     "metadata": {},
     "output_type": "execute_result"
    }
   ],
   "source": [
    "indexf = index[:-1] + \"{}\"\n",
    "href = indexf.format(1)\n",
    "href"
   ]
  },
  {
   "cell_type": "code",
   "execution_count": 44,
   "metadata": {
    "collapsed": true
   },
   "outputs": [],
   "source": [
    "res = requests.get(href)\n",
    "soup = BeautifulSoup(res.text, \"lxml\")\n",
    "obj_info = soup.select('div[class=\"obj_info\"]')\n",
    "totalObj = len(obj_info)"
   ]
  },
  {
   "cell_type": "code",
   "execution_count": 45,
   "metadata": {},
   "outputs": [
    {
     "data": {
      "text/plain": [
       "10"
      ]
     },
     "execution_count": 45,
     "metadata": {},
     "output_type": "execute_result"
    }
   ],
   "source": [
    "totalObj"
   ]
  },
  {
   "cell_type": "markdown",
   "metadata": {
    "collapsed": true
   },
   "source": [
    "### 連結內取得房屋物件的內容"
   ]
  },
  {
   "cell_type": "code",
   "execution_count": 46,
   "metadata": {
    "collapsed": true
   },
   "outputs": [],
   "source": [
    "href = \"http://www.etwarm.com.tw/rent/object_data2.php?id=180607\"\n",
    "res = requests.get(href)\n",
    "soup = BeautifulSoup(res.text, \"lxml\")"
   ]
  },
  {
   "cell_type": "code",
   "execution_count": 78,
   "metadata": {
    "collapsed": true
   },
   "outputs": [],
   "source": [
    "data_basic = soup.select('ul[class=\"data_basic\"] > li')"
   ]
  },
  {
   "cell_type": "code",
   "execution_count": 79,
   "metadata": {},
   "outputs": [
    {
     "data": {
      "text/plain": [
       "6"
      ]
     },
     "execution_count": 79,
     "metadata": {},
     "output_type": "execute_result"
    }
   ],
   "source": [
    "data_len = len(data_basic)\n",
    "data_len"
   ]
  },
  {
   "cell_type": "code",
   "execution_count": 87,
   "metadata": {},
   "outputs": [
    {
     "name": "stdout",
     "output_type": "stream",
     "text": [
      "12,000元/月\n",
      "面積:11坪\n",
      "用途/型態:獨立套房/華廈\n",
      "樓層:3/6(總樓層)\n",
      "地址:台北市中山區松江路\n",
      "租屋注意事項&房屋租賃定型化契約\n"
     ]
    }
   ],
   "source": [
    "for data in range(0, data_len):\n",
    "    print(\"\".join(data_basic[data].text.split()))"
   ]
  },
  {
   "cell_type": "code",
   "execution_count": 96,
   "metadata": {},
   "outputs": [
    {
     "name": "stdout",
     "output_type": "stream",
     "text": [
      "['\\n\\n12,000 元 / 月\\n            \\n']\n",
      "['面積 ', ' 11坪']\n",
      "['用途/型態 ', ' 獨立套房 / 華廈']\n",
      "['樓層 ', ' 3/6(總樓層)']\n",
      "['地址 ', ' 台北市中山區松江路']\n"
     ]
    }
   ],
   "source": [
    "for data in range(0, data_len - 1):\n",
    "    print(data_basic[data].text.split(\":\"))"
   ]
  },
  {
   "cell_type": "code",
   "execution_count": 109,
   "metadata": {},
   "outputs": [
    {
     "name": "stdout",
     "output_type": "stream",
     "text": [
      "12,000元/月\n",
      "--------------------\n",
      "面積 \n",
      "--------------------\n",
      " 11坪\n",
      "--------------------\n",
      "用途/型態 \n",
      "--------------------\n",
      " 獨立套房 / 華廈\n",
      "--------------------\n",
      "樓層 \n",
      "--------------------\n",
      " 3/6(總樓層)\n",
      "--------------------\n",
      "地址 \n",
      "--------------------\n",
      " 台北市中山區松江路\n",
      "--------------------\n"
     ]
    }
   ],
   "source": [
    "print(\"\".join(data_basic[0].text.split()))\n",
    "print(\"--\" * 10)\n",
    "for data in range(1, data_len - 1):\n",
    "    print(data_basic[data].text.split(\":\")[0])\n",
    "    print(\"--\" * 10)\n",
    "    print(data_basic[data].text.split(\":\")[1])\n",
    "    print(\"--\" * 10)"
   ]
  },
  {
   "cell_type": "code",
   "execution_count": 8,
   "metadata": {},
   "outputs": [
    {
     "name": "stdout",
     "output_type": "stream",
     "text": [
      "http://www.etwarm.com.tw/rent/object_list?area=台北市&keyword=套房&page=1\n",
      "http://www.etwarm.com.tw/rent/object_list?area=台北市&keyword=雅房&page=1\n",
      "http://www.etwarm.com.tw/rent/object_list?area=新北市&keyword=套房&page=1\n",
      "http://www.etwarm.com.tw/rent/object_list?area=新北市&keyword=雅房&page=1\n"
     ]
    }
   ],
   "source": [
    "area_list = ['台北市', '新北市']\n",
    "keyword_list = ['套房', '雅房']\n",
    "for area in area_list:\n",
    "    for keyword in keyword_list:\n",
    "        index = \"http://www.etwarm.com.tw/rent/object_list?area={x}&keyword={y}&page=1\"\\\n",
    "                .format(x = area, y = keyword)\n",
    "        print(index)"
   ]
  },
  {
   "cell_type": "markdown",
   "metadata": {
    "collapsed": true
   },
   "source": [
    "## Check set"
   ]
  },
  {
   "cell_type": "code",
   "execution_count": 77,
   "metadata": {
    "collapsed": true
   },
   "outputs": [],
   "source": [
    "href_list = ['http://www.etwarm.com.tw/rent-180985', 'http://www.etwarm.com.tw/rent-180984', 'http://www.etwarm.com.tw/rent-180804', 'http://www.etwarm.com.tw/rent-180778', 'http://www.etwarm.com.tw/rent-180765', 'http://www.etwarm.com.tw/rent-180635', 'http://www.etwarm.com.tw/rent-180607', 'http://www.etwarm.com.tw/rent-180564', 'http://www.etwarm.com.tw/rent-180535', 'http://www.etwarm.com.tw/rent-180534', 'http://www.etwarm.com.tw/rent-180510', 'http://www.etwarm.com.tw/rent-180273', 'http://www.etwarm.com.tw/rent-180135', 'http://www.etwarm.com.tw/rent-179952', 'http://www.etwarm.com.tw/rent-179828', 'http://www.etwarm.com.tw/rent-179827', 'http://www.etwarm.com.tw/rent-179587', 'http://www.etwarm.com.tw/rent-179529', 'http://www.etwarm.com.tw/rent-179368', 'http://www.etwarm.com.tw/rent-179181', 'http://www.etwarm.com.tw/rent-178707', 'http://www.etwarm.com.tw/rent-178501', 'http://www.etwarm.com.tw/rent-178450', 'http://www.etwarm.com.tw/rent-181055', 'http://www.etwarm.com.tw/rent-180916', 'http://www.etwarm.com.tw/rent-180762', 'http://www.etwarm.com.tw/rent-179791', 'http://www.etwarm.com.tw/rent-179730', 'http://www.etwarm.com.tw/rent-179476', 'http://www.etwarm.com.tw/rent-179257', 'http://www.etwarm.com.tw/rent-178343', 'http://www.etwarm.com.tw/rent-179908', 'http://www.etwarm.com.tw/rent-178378']"
   ]
  },
  {
   "cell_type": "code",
   "execution_count": 78,
   "metadata": {},
   "outputs": [
    {
     "data": {
      "text/plain": [
       "33"
      ]
     },
     "execution_count": 78,
     "metadata": {},
     "output_type": "execute_result"
    }
   ],
   "source": [
    "len(href_list)"
   ]
  },
  {
   "cell_type": "code",
   "execution_count": 79,
   "metadata": {},
   "outputs": [
    {
     "data": {
      "text/plain": [
       "{'http://www.etwarm.com.tw/rent-178343',\n",
       " 'http://www.etwarm.com.tw/rent-178378',\n",
       " 'http://www.etwarm.com.tw/rent-178450',\n",
       " 'http://www.etwarm.com.tw/rent-178501',\n",
       " 'http://www.etwarm.com.tw/rent-178707',\n",
       " 'http://www.etwarm.com.tw/rent-179181',\n",
       " 'http://www.etwarm.com.tw/rent-179257',\n",
       " 'http://www.etwarm.com.tw/rent-179368',\n",
       " 'http://www.etwarm.com.tw/rent-179476',\n",
       " 'http://www.etwarm.com.tw/rent-179529',\n",
       " 'http://www.etwarm.com.tw/rent-179587',\n",
       " 'http://www.etwarm.com.tw/rent-179730',\n",
       " 'http://www.etwarm.com.tw/rent-179791',\n",
       " 'http://www.etwarm.com.tw/rent-179827',\n",
       " 'http://www.etwarm.com.tw/rent-179828',\n",
       " 'http://www.etwarm.com.tw/rent-179908',\n",
       " 'http://www.etwarm.com.tw/rent-179952',\n",
       " 'http://www.etwarm.com.tw/rent-180135',\n",
       " 'http://www.etwarm.com.tw/rent-180273',\n",
       " 'http://www.etwarm.com.tw/rent-180510',\n",
       " 'http://www.etwarm.com.tw/rent-180534',\n",
       " 'http://www.etwarm.com.tw/rent-180535',\n",
       " 'http://www.etwarm.com.tw/rent-180564',\n",
       " 'http://www.etwarm.com.tw/rent-180607',\n",
       " 'http://www.etwarm.com.tw/rent-180635',\n",
       " 'http://www.etwarm.com.tw/rent-180762',\n",
       " 'http://www.etwarm.com.tw/rent-180765',\n",
       " 'http://www.etwarm.com.tw/rent-180778',\n",
       " 'http://www.etwarm.com.tw/rent-180804',\n",
       " 'http://www.etwarm.com.tw/rent-180916',\n",
       " 'http://www.etwarm.com.tw/rent-180984',\n",
       " 'http://www.etwarm.com.tw/rent-180985',\n",
       " 'http://www.etwarm.com.tw/rent-181055'}"
      ]
     },
     "execution_count": 79,
     "metadata": {},
     "output_type": "execute_result"
    }
   ],
   "source": [
    "href_set = set(href_list)\n",
    "href_set"
   ]
  },
  {
   "cell_type": "code",
   "execution_count": 80,
   "metadata": {
    "collapsed": true
   },
   "outputs": [],
   "source": [
    "href = 'http://www.etwarm.com.tw/rent-178343'\n",
    "href2 = 'http://www.google.com'"
   ]
  },
  {
   "cell_type": "code",
   "execution_count": 81,
   "metadata": {},
   "outputs": [],
   "source": [
    "if href in href_set:\n",
    "    pass\n",
    "else:\n",
    "    href_set.add(href)"
   ]
  },
  {
   "cell_type": "code",
   "execution_count": 82,
   "metadata": {},
   "outputs": [
    {
     "data": {
      "text/plain": [
       "{'http://www.etwarm.com.tw/rent-178343',\n",
       " 'http://www.etwarm.com.tw/rent-178378',\n",
       " 'http://www.etwarm.com.tw/rent-178450',\n",
       " 'http://www.etwarm.com.tw/rent-178501',\n",
       " 'http://www.etwarm.com.tw/rent-178707',\n",
       " 'http://www.etwarm.com.tw/rent-179181',\n",
       " 'http://www.etwarm.com.tw/rent-179257',\n",
       " 'http://www.etwarm.com.tw/rent-179368',\n",
       " 'http://www.etwarm.com.tw/rent-179476',\n",
       " 'http://www.etwarm.com.tw/rent-179529',\n",
       " 'http://www.etwarm.com.tw/rent-179587',\n",
       " 'http://www.etwarm.com.tw/rent-179730',\n",
       " 'http://www.etwarm.com.tw/rent-179791',\n",
       " 'http://www.etwarm.com.tw/rent-179827',\n",
       " 'http://www.etwarm.com.tw/rent-179828',\n",
       " 'http://www.etwarm.com.tw/rent-179908',\n",
       " 'http://www.etwarm.com.tw/rent-179952',\n",
       " 'http://www.etwarm.com.tw/rent-180135',\n",
       " 'http://www.etwarm.com.tw/rent-180273',\n",
       " 'http://www.etwarm.com.tw/rent-180510',\n",
       " 'http://www.etwarm.com.tw/rent-180534',\n",
       " 'http://www.etwarm.com.tw/rent-180535',\n",
       " 'http://www.etwarm.com.tw/rent-180564',\n",
       " 'http://www.etwarm.com.tw/rent-180607',\n",
       " 'http://www.etwarm.com.tw/rent-180635',\n",
       " 'http://www.etwarm.com.tw/rent-180762',\n",
       " 'http://www.etwarm.com.tw/rent-180765',\n",
       " 'http://www.etwarm.com.tw/rent-180778',\n",
       " 'http://www.etwarm.com.tw/rent-180804',\n",
       " 'http://www.etwarm.com.tw/rent-180916',\n",
       " 'http://www.etwarm.com.tw/rent-180984',\n",
       " 'http://www.etwarm.com.tw/rent-180985',\n",
       " 'http://www.etwarm.com.tw/rent-181055'}"
      ]
     },
     "execution_count": 82,
     "metadata": {},
     "output_type": "execute_result"
    }
   ],
   "source": [
    "href_set"
   ]
  },
  {
   "cell_type": "code",
   "execution_count": 83,
   "metadata": {
    "collapsed": true
   },
   "outputs": [],
   "source": [
    "if href2 in href_set:\n",
    "    pass\n",
    "else:\n",
    "    href_set.add(href2)"
   ]
  },
  {
   "cell_type": "code",
   "execution_count": 84,
   "metadata": {},
   "outputs": [
    {
     "data": {
      "text/plain": [
       "{'http://www.etwarm.com.tw/rent-178343',\n",
       " 'http://www.etwarm.com.tw/rent-178378',\n",
       " 'http://www.etwarm.com.tw/rent-178450',\n",
       " 'http://www.etwarm.com.tw/rent-178501',\n",
       " 'http://www.etwarm.com.tw/rent-178707',\n",
       " 'http://www.etwarm.com.tw/rent-179181',\n",
       " 'http://www.etwarm.com.tw/rent-179257',\n",
       " 'http://www.etwarm.com.tw/rent-179368',\n",
       " 'http://www.etwarm.com.tw/rent-179476',\n",
       " 'http://www.etwarm.com.tw/rent-179529',\n",
       " 'http://www.etwarm.com.tw/rent-179587',\n",
       " 'http://www.etwarm.com.tw/rent-179730',\n",
       " 'http://www.etwarm.com.tw/rent-179791',\n",
       " 'http://www.etwarm.com.tw/rent-179827',\n",
       " 'http://www.etwarm.com.tw/rent-179828',\n",
       " 'http://www.etwarm.com.tw/rent-179908',\n",
       " 'http://www.etwarm.com.tw/rent-179952',\n",
       " 'http://www.etwarm.com.tw/rent-180135',\n",
       " 'http://www.etwarm.com.tw/rent-180273',\n",
       " 'http://www.etwarm.com.tw/rent-180510',\n",
       " 'http://www.etwarm.com.tw/rent-180534',\n",
       " 'http://www.etwarm.com.tw/rent-180535',\n",
       " 'http://www.etwarm.com.tw/rent-180564',\n",
       " 'http://www.etwarm.com.tw/rent-180607',\n",
       " 'http://www.etwarm.com.tw/rent-180635',\n",
       " 'http://www.etwarm.com.tw/rent-180762',\n",
       " 'http://www.etwarm.com.tw/rent-180765',\n",
       " 'http://www.etwarm.com.tw/rent-180778',\n",
       " 'http://www.etwarm.com.tw/rent-180804',\n",
       " 'http://www.etwarm.com.tw/rent-180916',\n",
       " 'http://www.etwarm.com.tw/rent-180984',\n",
       " 'http://www.etwarm.com.tw/rent-180985',\n",
       " 'http://www.etwarm.com.tw/rent-181055',\n",
       " 'http://www.google.com'}"
      ]
     },
     "execution_count": 84,
     "metadata": {},
     "output_type": "execute_result"
    }
   ],
   "source": [
    "href_set"
   ]
  },
  {
   "cell_type": "code",
   "execution_count": 85,
   "metadata": {},
   "outputs": [
    {
     "data": {
      "text/plain": [
       "\"{'http://www.etwarm.com.tw/rent-179181', 'http://www.etwarm.com.tw/rent-180985', 'http://www.etwarm.com.tw/rent-180607', 'http://www.etwarm.com.tw/rent-179952', 'http://www.etwarm.com.tw/rent-179908', 'http://www.etwarm.com.tw/rent-180984', 'http://www.etwarm.com.tw/rent-180762', 'http://www.google.com', 'http://www.etwarm.com.tw/rent-178501', 'http://www.etwarm.com.tw/rent-178450', 'http://www.etwarm.com.tw/rent-180765', 'http://www.etwarm.com.tw/rent-179587', 'http://www.etwarm.com.tw/rent-180635', 'http://www.etwarm.com.tw/rent-180273', 'http://www.etwarm.com.tw/rent-179368', 'http://www.etwarm.com.tw/rent-181055', 'http://www.etwarm.com.tw/rent-179730', 'http://www.etwarm.com.tw/rent-179827', 'http://www.etwarm.com.tw/rent-180804', 'http://www.etwarm.com.tw/rent-179791', 'http://www.etwarm.com.tw/rent-178378', 'http://www.etwarm.com.tw/rent-180535', 'http://www.etwarm.com.tw/rent-180534', 'http://www.etwarm.com.tw/rent-179476', 'http://www.etwarm.com.tw/rent-179257', 'http://www.etwarm.com.tw/rent-180135', 'http://www.etwarm.com.tw/rent-180916', 'http://www.etwarm.com.tw/rent-178343', 'http://www.etwarm.com.tw/rent-179828', 'http://www.etwarm.com.tw/rent-178707', 'http://www.etwarm.com.tw/rent-180778', 'http://www.etwarm.com.tw/rent-179529', 'http://www.etwarm.com.tw/rent-180564', 'http://www.etwarm.com.tw/rent-180510'}\""
      ]
     },
     "execution_count": 85,
     "metadata": {},
     "output_type": "execute_result"
    }
   ],
   "source": [
    "str(href_set)"
   ]
  },
  {
   "cell_type": "code",
   "execution_count": 87,
   "metadata": {},
   "outputs": [],
   "source": [
    "href_list = str(href_set).lstrip('{\\'').rstrip('\\'}').split('\\'\\, \\'')"
   ]
  },
  {
   "cell_type": "code",
   "execution_count": 88,
   "metadata": {},
   "outputs": [
    {
     "data": {
      "text/plain": [
       "[\"http://www.etwarm.com.tw/rent-179181', 'http://www.etwarm.com.tw/rent-180985', 'http://www.etwarm.com.tw/rent-180607', 'http://www.etwarm.com.tw/rent-179952', 'http://www.etwarm.com.tw/rent-179908', 'http://www.etwarm.com.tw/rent-180984', 'http://www.etwarm.com.tw/rent-180762', 'http://www.google.com', 'http://www.etwarm.com.tw/rent-178501', 'http://www.etwarm.com.tw/rent-178450', 'http://www.etwarm.com.tw/rent-180765', 'http://www.etwarm.com.tw/rent-179587', 'http://www.etwarm.com.tw/rent-180635', 'http://www.etwarm.com.tw/rent-180273', 'http://www.etwarm.com.tw/rent-179368', 'http://www.etwarm.com.tw/rent-181055', 'http://www.etwarm.com.tw/rent-179730', 'http://www.etwarm.com.tw/rent-179827', 'http://www.etwarm.com.tw/rent-180804', 'http://www.etwarm.com.tw/rent-179791', 'http://www.etwarm.com.tw/rent-178378', 'http://www.etwarm.com.tw/rent-180535', 'http://www.etwarm.com.tw/rent-180534', 'http://www.etwarm.com.tw/rent-179476', 'http://www.etwarm.com.tw/rent-179257', 'http://www.etwarm.com.tw/rent-180135', 'http://www.etwarm.com.tw/rent-180916', 'http://www.etwarm.com.tw/rent-178343', 'http://www.etwarm.com.tw/rent-179828', 'http://www.etwarm.com.tw/rent-178707', 'http://www.etwarm.com.tw/rent-180778', 'http://www.etwarm.com.tw/rent-179529', 'http://www.etwarm.com.tw/rent-180564', 'http://www.etwarm.com.tw/rent-180510\"]"
      ]
     },
     "execution_count": 88,
     "metadata": {},
     "output_type": "execute_result"
    }
   ],
   "source": [
    "href_list"
   ]
  },
  {
   "cell_type": "code",
   "execution_count": null,
   "metadata": {
    "collapsed": true
   },
   "outputs": [],
   "source": []
  }
 ],
 "metadata": {
  "kernelspec": {
   "display_name": "Python 3",
   "language": "python",
   "name": "python3"
  },
  "language_info": {
   "codemirror_mode": {
    "name": "ipython",
    "version": 3
   },
   "file_extension": ".py",
   "mimetype": "text/x-python",
   "name": "python",
   "nbconvert_exporter": "python",
   "pygments_lexer": "ipython3",
   "version": "3.6.1"
  }
 },
 "nbformat": 4,
 "nbformat_minor": 2
}
