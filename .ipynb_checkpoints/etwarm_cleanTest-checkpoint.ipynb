{
 "cells": [
  {
   "cell_type": "code",
   "execution_count": 3,
   "metadata": {
    "collapsed": true
   },
   "outputs": [],
   "source": [
    "import glob\n",
    "import json\n",
    "import re\n",
    "import requests\n",
    "from bs4 import BeautifulSoup"
   ]
  },
  {
   "cell_type": "code",
   "execution_count": 4,
   "metadata": {
    "collapsed": true
   },
   "outputs": [],
   "source": [
    "def readData(fileName):\n",
    "    try:\n",
    "        with open('./etwarm_json/' + fileName, \"rt\", encoding=\"utf-8\") as f:\n",
    "            data = json.load(f)\n",
    "            return data\n",
    "    except FileNotFoundError as e:\n",
    "        print(e)"
   ]
  },
  {
   "cell_type": "code",
   "execution_count": 5,
   "metadata": {
    "collapsed": true
   },
   "outputs": [],
   "source": [
    "def saveJson(data, filename):\n",
    "    with open(filename, \"w\", encoding=\"utf8\") as f:\n",
    "        json.dump(data, f, ensure_ascii=False)"
   ]
  },
  {
   "cell_type": "code",
   "execution_count": 6,
   "metadata": {
    "collapsed": true
   },
   "outputs": [],
   "source": [
    "# File list\n",
    "etwarm = glob.glob('./etwarm_json/*.json')\n",
    "\n",
    "# Extend file names to List\n",
    "etwarm0 = re.findall('\\.\\/etwarm_json\\\\\\\\(\\w+\\.json)', etwarm[0])\n",
    "for i in range(1, len(etwarm)):\n",
    "    etwarm0.extend(re.findall('\\.\\/etwarm_json\\\\\\\\(\\w+\\.json)', etwarm[i]))"
   ]
  },
  {
   "cell_type": "code",
   "execution_count": 7,
   "metadata": {},
   "outputs": [
    {
     "data": {
      "text/plain": [
       "['178343.json',\n",
       " '178378.json',\n",
       " '178450.json',\n",
       " '178501.json',\n",
       " '178707.json',\n",
       " '179181.json',\n",
       " '179257.json',\n",
       " '179368.json',\n",
       " '179476.json',\n",
       " '179529.json',\n",
       " '179587.json',\n",
       " '179730.json',\n",
       " '179791.json',\n",
       " '179908.json',\n",
       " '179952.json',\n",
       " '180135.json',\n",
       " '180273.json',\n",
       " '180510.json',\n",
       " '180534.json',\n",
       " '180535.json',\n",
       " '180564.json',\n",
       " '180607.json',\n",
       " '180635.json',\n",
       " '180762.json',\n",
       " '180765.json',\n",
       " '180778.json',\n",
       " '180916.json',\n",
       " '180984.json',\n",
       " '180985.json',\n",
       " '181055.json',\n",
       " '181116.json',\n",
       " '181139.json',\n",
       " '181144.json']"
      ]
     },
     "execution_count": 7,
     "metadata": {},
     "output_type": "execute_result"
    }
   ],
   "source": [
    "etwarm0"
   ]
  },
  {
   "cell_type": "code",
   "execution_count": 8,
   "metadata": {},
   "outputs": [
    {
     "data": {
      "text/plain": [
       "33"
      ]
     },
     "execution_count": 8,
     "metadata": {},
     "output_type": "execute_result"
    }
   ],
   "source": [
    "len(etwarm0)"
   ]
  },
  {
   "cell_type": "code",
   "execution_count": 115,
   "metadata": {
    "collapsed": true
   },
   "outputs": [],
   "source": [
    "data = readData(etwarm0[3])\n",
    "soup = BeautifulSoup(data[\"html\"], \"lxml\")"
   ]
  },
  {
   "cell_type": "code",
   "execution_count": 116,
   "metadata": {},
   "outputs": [
    {
     "data": {
      "text/plain": [
       "<html><body><p>網站維護中</p></body></html>"
      ]
     },
     "execution_count": 116,
     "metadata": {},
     "output_type": "execute_result"
    }
   ],
   "source": [
    "soup"
   ]
  },
  {
   "cell_type": "markdown",
   "metadata": {},
   "source": [
    "***"
   ]
  },
  {
   "cell_type": "markdown",
   "metadata": {},
   "source": [
    "* id"
   ]
  },
  {
   "cell_type": "markdown",
   "metadata": {},
   "source": [
    "* cityID"
   ]
  },
  {
   "cell_type": "code",
   "execution_count": 117,
   "metadata": {
    "collapsed": true
   },
   "outputs": [],
   "source": [
    "postalCode = {\n",
    "    \"中正區\": 100, \"大同區\": 103, \"中山區\": 104, \"松山區\": 105, \"大安區\": 106, \"萬華區\": 108, \"信義區\": 110,\n",
    "    \"士林區\": 111, \"北投區\": 112, \"內湖區\": 114, \"南港區\": 115, \"文山區\": 116, \"萬里區\": 207, \"金山區\": 208,\n",
    "    \"板橋區\": 220, \"汐止區\": 221, \"深坑區\": 222, \"石碇區\": 223, \"瑞芳區\": 224, \"平溪區\": 226, \"雙溪區\": 227,\n",
    "    \"貢寮區\": 228, \"新店區\": 231, \"坪林區\": 232, \"烏來區\": 233, \"永和區\": 234, \"中和區\": 235, \"土城區\": 236,\n",
    "    \"三峽區\": 237, \"樹林區\": 238, \"鶯歌區\": 239, \"三重區\": 241, \"新莊區\": 242, \"泰山區\": 243, \"林口區\": 244,\n",
    "    \"蘆洲區\": 247, \"五股區\": 248, \"八里區\": 249, \"淡水區\": 251, \"三芝區\": 252, \"石門區\": 253\n",
    "}"
   ]
  },
  {
   "cell_type": "code",
   "execution_count": 118,
   "metadata": {
    "collapsed": true
   },
   "outputs": [],
   "source": [
    "# Use Google API to get postal code, lat, lng\n",
    "api_url = \"https://maps.googleapis.com/maps/api/geocode/json?address={}&key=\"\n",
    "\n",
    "def getLocation(address):\n",
    "    url = api_url.format(address)\n",
    "    res = requests.get(url)\n",
    "    location_dict = res.json()\n",
    "    cityID = location_dict['results'][0]['address_components'][-1]['short_name']\n",
    "    lat = location_dict['results'][0]['geometry']['location']['lat']\n",
    "    lng = location_dict['results'][0]['geometry']['location']['lng']\n",
    "    res.close()\n",
    "    return cityID, lat, lng"
   ]
  },
  {
   "cell_type": "code",
   "execution_count": 119,
   "metadata": {
    "scrolled": true
   },
   "outputs": [
    {
     "ename": "IndexError",
     "evalue": "list index out of range",
     "output_type": "error",
     "traceback": [
      "\u001b[1;31m---------------------------------------------------------------------------\u001b[0m",
      "\u001b[1;31mIndexError\u001b[0m                                Traceback (most recent call last)",
      "\u001b[1;32m<ipython-input-119-b4fdcb81281d>\u001b[0m in \u001b[0;36m<module>\u001b[1;34m()\u001b[0m\n\u001b[1;32m----> 1\u001b[1;33m \u001b[0msoup\u001b[0m\u001b[1;33m.\u001b[0m\u001b[0mselect\u001b[0m\u001b[1;33m(\u001b[0m\u001b[1;34m'div[class=\"obj_data_route\"]'\u001b[0m\u001b[1;33m)\u001b[0m\u001b[1;33m[\u001b[0m\u001b[1;36m0\u001b[0m\u001b[1;33m]\u001b[0m\u001b[1;33m.\u001b[0m\u001b[0mtext\u001b[0m\u001b[1;33m\u001b[0m\u001b[0m\n\u001b[0m",
      "\u001b[1;31mIndexError\u001b[0m: list index out of range"
     ]
    }
   ],
   "source": [
    "soup.select('div[class=\"obj_data_route\"]')[0].text"
   ]
  },
  {
   "cell_type": "code",
   "execution_count": 120,
   "metadata": {},
   "outputs": [
    {
     "ename": "IndexError",
     "evalue": "list index out of range",
     "output_type": "error",
     "traceback": [
      "\u001b[1;31m---------------------------------------------------------------------------\u001b[0m",
      "\u001b[1;31mIndexError\u001b[0m                                Traceback (most recent call last)",
      "\u001b[1;32m<ipython-input-120-0af8c40c3ba8>\u001b[0m in \u001b[0;36m<module>\u001b[1;34m()\u001b[0m\n\u001b[1;32m----> 1\u001b[1;33m \u001b[0mcity\u001b[0m \u001b[1;33m=\u001b[0m \u001b[0msoup\u001b[0m\u001b[1;33m.\u001b[0m\u001b[0mselect\u001b[0m\u001b[1;33m(\u001b[0m\u001b[1;34m'div[class=\"obj_data_route\"]'\u001b[0m\u001b[1;33m)\u001b[0m\u001b[1;33m[\u001b[0m\u001b[1;36m0\u001b[0m\u001b[1;33m]\u001b[0m\u001b[1;33m.\u001b[0m\u001b[0mselect\u001b[0m\u001b[1;33m(\u001b[0m\u001b[1;34m'a'\u001b[0m\u001b[1;33m)\u001b[0m\u001b[1;33m[\u001b[0m\u001b[1;36m2\u001b[0m\u001b[1;33m]\u001b[0m\u001b[1;33m.\u001b[0m\u001b[0mtext\u001b[0m\u001b[1;33m.\u001b[0m\u001b[0mlstrip\u001b[0m\u001b[1;33m(\u001b[0m\u001b[1;33m)\u001b[0m\u001b[1;33m.\u001b[0m\u001b[0mrstrip\u001b[0m\u001b[1;33m(\u001b[0m\u001b[1;33m)\u001b[0m\u001b[1;33m\u001b[0m\u001b[0m\n\u001b[0m",
      "\u001b[1;31mIndexError\u001b[0m: list index out of range"
     ]
    }
   ],
   "source": [
    "city = soup.select('div[class=\"obj_data_route\"]')[0].select('a')[2].text.lstrip().rstrip()"
   ]
  },
  {
   "cell_type": "code",
   "execution_count": 75,
   "metadata": {},
   "outputs": [
    {
     "data": {
      "text/plain": [
       "241"
      ]
     },
     "execution_count": 75,
     "metadata": {},
     "output_type": "execute_result"
    }
   ],
   "source": [
    "postalCode[city]"
   ]
  },
  {
   "cell_type": "markdown",
   "metadata": {},
   "source": [
    "* url"
   ]
  },
  {
   "cell_type": "code",
   "execution_count": 76,
   "metadata": {},
   "outputs": [
    {
     "data": {
      "text/plain": [
       "'http://www.etwarm.com.tw/rent-178343'"
      ]
     },
     "execution_count": 76,
     "metadata": {},
     "output_type": "execute_result"
    }
   ],
   "source": [
    "data[\"url\"]"
   ]
  },
  {
   "cell_type": "markdown",
   "metadata": {},
   "source": [
    "* title"
   ]
  },
  {
   "cell_type": "code",
   "execution_count": 77,
   "metadata": {},
   "outputs": [
    {
     "data": {
      "text/plain": [
       "'新北三重臨捷運站單人套房出租'"
      ]
     },
     "execution_count": 77,
     "metadata": {},
     "output_type": "execute_result"
    }
   ],
   "source": [
    "soup.select('div[class=\"obj_data_basic\"]')[0].select('h1')[0].text"
   ]
  },
  {
   "cell_type": "markdown",
   "metadata": {},
   "source": [
    "* address"
   ]
  },
  {
   "cell_type": "code",
   "execution_count": 78,
   "metadata": {
    "collapsed": true,
    "scrolled": true
   },
   "outputs": [],
   "source": [
    "data_basic = soup.select('ul[class=\"data_basic\"]')[0].select('li')"
   ]
  },
  {
   "cell_type": "code",
   "execution_count": 79,
   "metadata": {
    "collapsed": true
   },
   "outputs": [],
   "source": [
    "address = str(re.findall('<li>地址 : (\\w+)<\\/li>', str(data_basic))).lstrip(\"\\'\\[\").rstrip(\"\\'\\]\")"
   ]
  },
  {
   "cell_type": "code",
   "execution_count": 80,
   "metadata": {},
   "outputs": [
    {
     "data": {
      "text/plain": [
       "'新北市三重區介壽路39巷'"
      ]
     },
     "execution_count": 80,
     "metadata": {},
     "output_type": "execute_result"
    }
   ],
   "source": [
    "address"
   ]
  },
  {
   "cell_type": "markdown",
   "metadata": {},
   "source": [
    "* pattern (水泥、木板)"
   ]
  },
  {
   "cell_type": "code",
   "execution_count": 81,
   "metadata": {},
   "outputs": [
    {
     "data": {
      "text/plain": [
       "'水泥'"
      ]
     },
     "execution_count": 81,
     "metadata": {},
     "output_type": "execute_result"
    }
   ],
   "source": [
    "\"水泥\""
   ]
  },
  {
   "cell_type": "markdown",
   "metadata": {},
   "source": [
    "* floor"
   ]
  },
  {
   "cell_type": "code",
   "execution_count": 82,
   "metadata": {},
   "outputs": [
    {
     "data": {
      "text/plain": [
       "'[<li>\\n<div class=\"obj_data_contain fl\">\\n<span class=\"price\">6,000</span> 元 / 月\\n            </div>\\n</li>, <li>面積 : <span class=\"space\">7坪</span></li>, <li>用途/型態 : 獨立套房 / 公寓</li>, <li>樓層 : 3/5(總樓層)</li>, <li>地址 : 新北市三重區介壽路39巷</li>, <li>\\n<a href=\"rent/house_warning.html\" id=\"etwarm_rentwarning\">\\n<img height=\"20\" src=\"images/icon_Warning.png\" style=\"vertical-align: middle;\" width=\"20\"/>\\n<span style=\"color: #ff0000\">租屋注意事項&amp;房屋租賃定型化契約</span>\\n</a>\\n</li>]'"
      ]
     },
     "execution_count": 82,
     "metadata": {},
     "output_type": "execute_result"
    }
   ],
   "source": [
    "str(data_basic)"
   ]
  },
  {
   "cell_type": "code",
   "execution_count": 83,
   "metadata": {},
   "outputs": [
    {
     "data": {
      "text/plain": [
       "3"
      ]
     },
     "execution_count": 83,
     "metadata": {},
     "output_type": "execute_result"
    }
   ],
   "source": [
    "int(''.join(re.findall('<li>樓層 : (\\d+)\\/\\d+\\(總樓層\\)</li>', str(data_basic))))"
   ]
  },
  {
   "cell_type": "markdown",
   "metadata": {},
   "source": [
    "* stories"
   ]
  },
  {
   "cell_type": "code",
   "execution_count": 84,
   "metadata": {},
   "outputs": [
    {
     "data": {
      "text/plain": [
       "5"
      ]
     },
     "execution_count": 84,
     "metadata": {},
     "output_type": "execute_result"
    }
   ],
   "source": [
    "int(''.join(re.findall('<li>樓層 : \\d+\\/(\\d+)\\(總樓層\\)</li>', str(data_basic))))"
   ]
  },
  {
   "cell_type": "markdown",
   "metadata": {},
   "source": [
    "* label (套、雅、住)"
   ]
  },
  {
   "cell_type": "code",
   "execution_count": 85,
   "metadata": {},
   "outputs": [
    {
     "data": {
      "text/plain": [
       "'套'"
      ]
     },
     "execution_count": 85,
     "metadata": {},
     "output_type": "execute_result"
    }
   ],
   "source": [
    "''.join(re.findall('<li>用途/型態 : \\w*(套|雅)', str(data_basic)))"
   ]
  },
  {
   "cell_type": "markdown",
   "metadata": {},
   "source": [
    "* rent"
   ]
  },
  {
   "cell_type": "code",
   "execution_count": 86,
   "metadata": {},
   "outputs": [
    {
     "data": {
      "text/plain": [
       "[<div class=\"obj_data_contain fl\">\n",
       " <span class=\"price\">6,000</span> 元 / 月\n",
       "             </div>]"
      ]
     },
     "execution_count": 86,
     "metadata": {},
     "output_type": "execute_result"
    }
   ],
   "source": [
    "soup.select('div[class=\"obj_data_contain fl\"]')"
   ]
  },
  {
   "cell_type": "code",
   "execution_count": 87,
   "metadata": {},
   "outputs": [
    {
     "data": {
      "text/plain": [
       "<div class=\"obj_data_contain fl\">\n",
       "<span class=\"price\">6,000</span> 元 / 月\n",
       "            </div>"
      ]
     },
     "execution_count": 87,
     "metadata": {},
     "output_type": "execute_result"
    }
   ],
   "source": [
    "soup.select('div[class=\"obj_data_contain fl\"]')[0]"
   ]
  },
  {
   "cell_type": "code",
   "execution_count": 88,
   "metadata": {},
   "outputs": [
    {
     "data": {
      "text/plain": [
       "6000"
      ]
     },
     "execution_count": 88,
     "metadata": {},
     "output_type": "execute_result"
    }
   ],
   "source": [
    "int(soup.select('div[class=\"obj_data_contain fl\"]')[0].select('span')[0].text.replace(',', ''))"
   ]
  },
  {
   "cell_type": "markdown",
   "metadata": {},
   "source": [
    "* cityID, lat, lng"
   ]
  },
  {
   "cell_type": "code",
   "execution_count": 89,
   "metadata": {
    "collapsed": true
   },
   "outputs": [],
   "source": [
    "cityID, lat, lng = getLocation(address)"
   ]
  },
  {
   "cell_type": "code",
   "execution_count": 90,
   "metadata": {},
   "outputs": [
    {
     "data": {
      "text/plain": [
       "'241'"
      ]
     },
     "execution_count": 90,
     "metadata": {},
     "output_type": "execute_result"
    }
   ],
   "source": [
    "cityID"
   ]
  },
  {
   "cell_type": "code",
   "execution_count": 91,
   "metadata": {},
   "outputs": [
    {
     "data": {
      "text/plain": [
       "25.0704884"
      ]
     },
     "execution_count": 91,
     "metadata": {},
     "output_type": "execute_result"
    }
   ],
   "source": [
    "lat"
   ]
  },
  {
   "cell_type": "code",
   "execution_count": 92,
   "metadata": {},
   "outputs": [
    {
     "data": {
      "text/plain": [
       "121.5011932"
      ]
     },
     "execution_count": 92,
     "metadata": {},
     "output_type": "execute_result"
    }
   ],
   "source": [
    "lng"
   ]
  },
  {
   "cell_type": "markdown",
   "metadata": {},
   "source": [
    "* space"
   ]
  },
  {
   "cell_type": "code",
   "execution_count": 93,
   "metadata": {
    "scrolled": true
   },
   "outputs": [
    {
     "data": {
      "text/plain": [
       "'[<li>\\n<div class=\"obj_data_contain fl\">\\n<span class=\"price\">6,000</span> 元 / 月\\n            </div>\\n</li>, <li>面積 : <span class=\"space\">7坪</span></li>, <li>用途/型態 : 獨立套房 / 公寓</li>, <li>樓層 : 3/5(總樓層)</li>, <li>地址 : 新北市三重區介壽路39巷</li>, <li>\\n<a href=\"rent/house_warning.html\" id=\"etwarm_rentwarning\">\\n<img height=\"20\" src=\"images/icon_Warning.png\" style=\"vertical-align: middle;\" width=\"20\"/>\\n<span style=\"color: #ff0000\">租屋注意事項&amp;房屋租賃定型化契約</span>\\n</a>\\n</li>]'"
      ]
     },
     "execution_count": 93,
     "metadata": {},
     "output_type": "execute_result"
    }
   ],
   "source": [
    "data_basic = soup.select('ul[class=\"data_basic\"]')[0].findAll('li')\n",
    "str(data_basic)"
   ]
  },
  {
   "cell_type": "code",
   "execution_count": 94,
   "metadata": {},
   "outputs": [
    {
     "data": {
      "text/plain": [
       "7.0"
      ]
     },
     "execution_count": 94,
     "metadata": {},
     "output_type": "execute_result"
    }
   ],
   "source": [
    "data_basic = soup.select('ul[class=\"data_basic\"]')[0].findAll('li')\n",
    "float(''.join(re.findall('<span class=\"space\">(\\w+)坪</span>', str(data_basic))))"
   ]
  },
  {
   "cell_type": "markdown",
   "metadata": {
    "collapsed": true
   },
   "source": [
    "* update"
   ]
  },
  {
   "cell_type": "code",
   "execution_count": 95,
   "metadata": {},
   "outputs": [
    {
     "data": {
      "text/plain": [
       "'2017-08-16'"
      ]
     },
     "execution_count": 95,
     "metadata": {},
     "output_type": "execute_result"
    }
   ],
   "source": [
    "data[\"update\"]"
   ]
  },
  {
   "cell_type": "markdown",
   "metadata": {},
   "source": [
    "* landlord"
   ]
  },
  {
   "cell_type": "code",
   "execution_count": 96,
   "metadata": {},
   "outputs": [
    {
     "data": {
      "text/plain": [
       "['屋主林先生', '0988370162', '(屋主聲明：仲介勿擾)']"
      ]
     },
     "execution_count": 96,
     "metadata": {},
     "output_type": "execute_result"
    }
   ],
   "source": [
    "soup.select('div[class=\"data_store\"]')[0].text.split()"
   ]
  },
  {
   "cell_type": "code",
   "execution_count": 97,
   "metadata": {},
   "outputs": [],
   "source": [
    "landlord_name = soup.select('div[class=\"data_store\"]')[0].text.split()[0]"
   ]
  },
  {
   "cell_type": "code",
   "execution_count": 98,
   "metadata": {},
   "outputs": [],
   "source": [
    "landlord_name = re.findall('!?屋!?主(.+)', landlord_name)"
   ]
  },
  {
   "cell_type": "code",
   "execution_count": 99,
   "metadata": {
    "collapsed": true
   },
   "outputs": [],
   "source": [
    "landlord_name = str(landlord_name).lstrip(\"\\'\\[\").rstrip(\"\\'\\]\")"
   ]
  },
  {
   "cell_type": "code",
   "execution_count": 100,
   "metadata": {},
   "outputs": [
    {
     "data": {
      "text/plain": [
       "'林先生'"
      ]
     },
     "execution_count": 100,
     "metadata": {},
     "output_type": "execute_result"
    }
   ],
   "source": [
    "landlord_name"
   ]
  },
  {
   "cell_type": "code",
   "execution_count": 101,
   "metadata": {
    "collapsed": true
   },
   "outputs": [],
   "source": [
    "landlord_phone = soup.select('div[class=\"data_store\"]')[0].text.split()[1]"
   ]
  },
  {
   "cell_type": "code",
   "execution_count": 102,
   "metadata": {},
   "outputs": [],
   "source": [
    "landlord = landlord_name + \",\" + landlord_phone"
   ]
  },
  {
   "cell_type": "code",
   "execution_count": 103,
   "metadata": {},
   "outputs": [
    {
     "data": {
      "text/plain": [
       "'林先生,0988370162'"
      ]
     },
     "execution_count": 103,
     "metadata": {},
     "output_type": "execute_result"
    }
   ],
   "source": [
    "landlord"
   ]
  },
  {
   "cell_type": "code",
   "execution_count": 104,
   "metadata": {
    "collapsed": true
   },
   "outputs": [],
   "source": [
    "landlord_re = str(soup.select('div[class=\"data_store\"]')[0].text.split())"
   ]
  },
  {
   "cell_type": "code",
   "execution_count": 105,
   "metadata": {},
   "outputs": [
    {
     "data": {
      "text/plain": [
       "'0988370162'"
      ]
     },
     "execution_count": 105,
     "metadata": {},
     "output_type": "execute_result"
    }
   ],
   "source": [
    "str(''.join(re.findall('\\d{10}', landlord_re)))"
   ]
  },
  {
   "cell_type": "markdown",
   "metadata": {
    "collapsed": true
   },
   "source": [
    "* description"
   ]
  },
  {
   "cell_type": "code",
   "execution_count": 106,
   "metadata": {
    "collapsed": true
   },
   "outputs": [],
   "source": [
    "description = lambda x: x if soup.select('section[id=\"obj_characteristic\"]')[0].text else \"NA\""
   ]
  },
  {
   "cell_type": "code",
   "execution_count": 107,
   "metadata": {},
   "outputs": [
    {
     "data": {
      "text/plain": [
       "<function __main__.<lambda>>"
      ]
     },
     "execution_count": 107,
     "metadata": {},
     "output_type": "execute_result"
    }
   ],
   "source": [
    "description"
   ]
  },
  {
   "cell_type": "code",
   "execution_count": 108,
   "metadata": {
    "collapsed": true
   },
   "outputs": [],
   "source": [
    "try:\n",
    "    description = ''.join(soup.select('section[id=\"obj_characteristic\"]')[0].text.split())\n",
    "except:\n",
    "    \"NA\""
   ]
  },
  {
   "cell_type": "code",
   "execution_count": 114,
   "metadata": {},
   "outputs": [
    {
     "data": {
      "text/plain": [
       "'特色推薦(新北市三重區介壽路39巷..歡迎先去看街道環境.有意者再來電)(.租金6000元含水費、寬頻網路、第四台)(鄰近光榮國中.捷運三重國小站)巷子小，有對外窗及曬衣空間獨立衛浴與門戶.水泥隔間套房約6坪大.為狹長空間..(扣除家具家電後.只有能再容納約一個單人床大小的走道.若不嫌棄者歡迎)交通便利近蘆洲線三重國小捷運站.台北橋等生活機能優近三和夜市商圈.**絕對謝絕養寵物的房客**聯絡電話:0988370162林先生立即可入住提供設備：床.衣櫃.電視.冷氣.冰箱.熱水器.洗衣機.有線電視.網路生活機能：近便利商店；傳統市場；學校；夜市;捷運站;可遷入搶拼出租！！★本處套房皆為房東自租，絕非仲介或二房東，看屋不論是否承租，絕對不收取任何服務或仲介費用，歡迎來電預約看屋！！水費、寬頻網路、第四台.每月至少省1０００元，不景氣中房東咬牙苦撐'"
      ]
     },
     "execution_count": 114,
     "metadata": {},
     "output_type": "execute_result"
    }
   ],
   "source": [
    "description"
   ]
  },
  {
   "cell_type": "code",
   "execution_count": null,
   "metadata": {
    "collapsed": true
   },
   "outputs": [],
   "source": []
  }
 ],
 "metadata": {
  "kernelspec": {
   "display_name": "Python 3",
   "language": "python",
   "name": "python3"
  },
  "language_info": {
   "codemirror_mode": {
    "name": "ipython",
    "version": 3
   },
   "file_extension": ".py",
   "mimetype": "text/x-python",
   "name": "python",
   "nbconvert_exporter": "python",
   "pygments_lexer": "ipython3",
   "version": "3.6.1"
  }
 },
 "nbformat": 4,
 "nbformat_minor": 2
}
