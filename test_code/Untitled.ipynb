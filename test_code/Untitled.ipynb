{
 "cells": [
  {
   "cell_type": "code",
   "execution_count": 1,
   "metadata": {
    "collapsed": true
   },
   "outputs": [],
   "source": [
    "import requests\n",
    "from bs4 import BeautifulSoup \n",
    "import lxml\n",
    "import re\n",
    "import random"
   ]
  },
  {
   "cell_type": "code",
   "execution_count": null,
   "metadata": {},
   "outputs": [],
   "source": [
    "while True:\n",
    "    page = 0;\n",
    "    url = 'https://www.google.com.tw/search?q=台北+租房&tbm=nws&start='+str(page)+'&lr=lang_zh-TW&tbs=lr:lang_1zh-TW,qdr:y'\n",
    "    headers={\"upgrade-insecure-requests\":\"1\",\n",
    "              \"user-agent\":\"Mozilla/5.0 (Windows NT 6.1; Win64; x64) AppleWebKit/537.36 (KHTML, like Gecko) Chrome/60.0.3112.90 Safari/537.36\",\n",
    "              \"x-chrome-uma-enabled\":\"1\",\n",
    "              \"x-client-data\":\"CJe2yQEIpLbJAQjBtskBCIuYygEI+pzKAQipncoB\"}\n",
    "\n",
    "    res = requests.get(url, headers=headers)\n",
    "#     print(res.ok)\n",
    "    print(res.status_code)\n",
    "    soup = BeautifulSoup(res.text, 'lxml')\n",
    "#     titles = soup.select('#ires > ol > div > table ')\n",
    "    titles = soup.select('._PMs')[0]\n",
    "    print(titles)\n",
    "#     result = []\n",
    "#     for title in titles:\n",
    "#         url = {}\n",
    "#         url['title'] = str(title.select('a')[0]).split('\"')[-1].split('</a>')[0].replace('>','')\n",
    "#         url['url'] = str(title.select('a')[0]).split('=')[2].split('&')[0]\n",
    "#         result.append(url)\n",
    "#     page += 10\n",
    "    if(page > 2):break\n",
    "result"
   ]
  },
  {
   "cell_type": "code",
   "execution_count": null,
   "metadata": {
    "collapsed": true
   },
   "outputs": [],
   "source": []
  }
 ],
 "metadata": {
  "kernelspec": {
   "display_name": "Python 3",
   "language": "python",
   "name": "python3"
  },
  "language_info": {
   "codemirror_mode": {
    "name": "ipython",
    "version": 3
   },
   "file_extension": ".py",
   "mimetype": "text/x-python",
   "name": "python",
   "nbconvert_exporter": "python",
   "pygments_lexer": "ipython3",
   "version": "3.6.1"
  }
 },
 "nbformat": 4,
 "nbformat_minor": 2
}
