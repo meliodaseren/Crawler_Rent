{
 "cells": [
  {
   "cell_type": "code",
   "execution_count": 34,
   "metadata": {
    "collapsed": true
   },
   "outputs": [],
   "source": [
    "import glob\n",
    "import json\n",
    "import re\n",
    "from bs4 import BeautifulSoup"
   ]
  },
  {
   "cell_type": "code",
   "execution_count": 35,
   "metadata": {
    "collapsed": true
   },
   "outputs": [],
   "source": [
    "def readData(fileName):\n",
    "    try:\n",
    "        with open('./etwarm_json/' + fileName, \"rt\", encoding=\"utf-8\") as f:\n",
    "            data = json.load(f)\n",
    "            return data\n",
    "    except FileNotFoundError as e:\n",
    "        print(e)"
   ]
  },
  {
   "cell_type": "code",
   "execution_count": 36,
   "metadata": {
    "collapsed": true
   },
   "outputs": [],
   "source": [
    "def saveJson(data, filename):\n",
    "    with open(filename, \"w\", encoding=\"utf8\") as f:\n",
    "        json.dump(data, f, ensure_ascii=False)"
   ]
  },
  {
   "cell_type": "code",
   "execution_count": 37,
   "metadata": {
    "collapsed": true
   },
   "outputs": [],
   "source": [
    "# File list\n",
    "etwarm = glob.glob('./etwarm_json/*.json')\n",
    "\n",
    "# Extend file names to List\n",
    "etwarm0 = re.findall('\\.\\/etwarm_json\\\\\\\\(\\w+\\.json)', etwarm[0])\n",
    "for i in range(1, len(etwarm)):\n",
    "    etwarm0.extend(re.findall('\\.\\/etwarm_json\\\\\\\\(\\w+\\.json)', etwarm[i]))"
   ]
  },
  {
   "cell_type": "code",
   "execution_count": 38,
   "metadata": {},
   "outputs": [
    {
     "data": {
      "text/plain": [
       "'180564.json'"
      ]
     },
     "execution_count": 38,
     "metadata": {},
     "output_type": "execute_result"
    }
   ],
   "source": [
    "etwarm0[20]"
   ]
  },
  {
   "cell_type": "code",
   "execution_count": 39,
   "metadata": {
    "collapsed": true
   },
   "outputs": [],
   "source": [
    "data = readData(etwarm0[20])\n",
    "soup = BeautifulSoup(data[\"html\"], \"lxml\")"
   ]
  },
  {
   "cell_type": "code",
   "execution_count": 40,
   "metadata": {},
   "outputs": [
    {
     "data": {
      "text/plain": [
       "<!DOCTYPE HTML>\n",
       "<html itemscope=\"\" itemtype=\"http://schema.org/ItemPage\" lang=\"zh-TW\">\n",
       "<head>\n",
       "<meta charset=\"utf-8\"/>\n",
       "<meta content=\"花博電梯陽光套房0981-395619 - 東森房屋\" property=\"og:title\"/>\n",
       "<meta content=\"website\" property=\"og:type\"/>\n",
       "<meta content=\"http://www.etwarm.com.tw/rent/object_data2?id=180564\" property=\"og:url\"/>\n",
       "<meta content=\"http://img.etwarm.com.tw/rent_object/R0550683521_4zc2n6oo.jpg\" property=\"og:image\"/>\n",
       "<meta content=\"東森房屋\" property=\"og:site_name\"/>\n",
       "<meta content=\"IE=edge,chrome=1\" http-equiv=\"X-UA-Compatible\"/>\n",
       "<meta content=\"\n",
       "Notice: Undefined variable: keywords in /var/www/w3v2/public/common/_head.php on line 2\n",
       "東森房屋,最近消息,我要買屋,我要賣屋,我要租屋,房地產投資,房屋百科,居家生活,企業內容,搜屋8達通,高雄館,影音看屋館,青年首購館,明星學校館,精選各區房屋,全域呈現,影音看屋,房貸資訊,居家裝潢,居家風水,法律專欄,生活妙方,搬家事宜,在地萬事通,全國服務據點,黃金廠房店面,投資,力霸,力霸房屋\" http-equiv=\"keywords\"/>\n",
       "<meta content=\"『花博電梯陽光套房0981-395619』台北市中山區松江路\" http-equiv=\"description\"/>\n",
       "<meta content=\"SKYPE_TOOLBAR_PARSER_COMPATIBLE\" name=\"SKYPE_TOOLBAR\"/>\n",
       "<meta content=\"app-id=541524474\" name=\"apple-itunes-app\"/>\n",
       "<link href=\"http://www.etwarm.com.tw/etwarm64.ico\" rel=\"shortcut icon\" type=\"image/x-icon\"/>\n",
       "<link href=\"http://www.etwarm.com.tw/favicon.ico\" rel=\"shortcut icon\"/>\n",
       "<link href=\"http://www.etwarm.com.tw/etwarm64.ico\" rel=\"image_src\"/>\n",
       "<title>花博電梯陽光套房0981-395619 - 東森房屋</title>\n",
       "<base href=\"http://www.etwarm.com.tw\"/>\n",
       "<link href=\"css/index.css\" rel=\"stylesheet\"/>\n",
       "<link href=\"css/reset.css\" rel=\"stylesheet\"/>\n",
       "<!--<link rel=\"stylesheet\" href=\"css/main_nav.css\"/>-->\n",
       "<link href=\"css/animate.css\" rel=\"stylesheet\"/>\n",
       "<link href=\"css/colorbox.css\" rel=\"stylesheet\"/>\n",
       "<link href=\"css/add.css\" rel=\"stylesheet\"/>\n",
       "<!--[if lte IE 8]>\n",
       "<script src=\"js/html5.js\"></script>\n",
       "<script type=\"text/javascript\" src=\"js/es5-shim.min.js\"></script>\n",
       "<script type=\"text/javascript\" src=\"js/es5-sham.min.js\"></script>\n",
       "<![endif]-->\n",
       "<script src=\"js/jsonArea.js\" type=\"text/javascript\"></script>\n",
       "<script src=\"js/jsonMrt.js\" type=\"text/javascript\"></script>\n",
       "<!-- Start Google GA CODE -->\n",
       "<script>\n",
       "  (function(i,s,o,g,r,a,m){i['GoogleAnalyticsObject']=r;i[r]=i[r]||function(){\n",
       "  (i[r].q=i[r].q||[]).push(arguments)},i[r].l=1*new Date();a=s.createElement(o),\n",
       "  m=s.getElementsByTagName(o)[0];a.async=1;a.src=g;m.parentNode.insertBefore(a,m)\n",
       "  })(window,document,'script','//www.google-analytics.com/analytics.js','ga');\n",
       "\n",
       "  ga('create', 'UA-1674925-6', 'auto');\n",
       "  ga('send', 'pageview');\n",
       "\n",
       "</script>\n",
       "<!-- End Google GA CODE -->\n",
       "<!-- Start Alexa Certify Javascript -->\n",
       "<script type=\"text/javascript\">\n",
       "_atrk_opts = { atrk_acct:\"K1o9i1acVE00Ef\", domain:\"etwarm.com.tw\",dynamic: true};\n",
       "(function() { var as = document.createElement('script'); as.type = 'text/javascript'; as.async = true; as.src = \"https://d31qbv1cthcecs.cloudfront.net/atrk.js\"; var s = document.getElementsByTagName('script')[0];s.parentNode.insertBefore(as, s); })();\n",
       "</script>\n",
       "<noscript><img alt=\"\" height=\"1\" src=\"https://d5nxst8fruw4z.cloudfront.net/atrk.gif?account=K1o9i1acVE00Ef\" style=\"display:none\" width=\"1\"/></noscript>\n",
       "<!-- End Alexa Certify Javascript -->\n",
       "<script defer=\"\" src=\"http://track.sitetag.us/tracking.js?hash=399111f7ec62e82889ab35b49000f892\" type=\"text/javascript\"></script>\n",
       "<!--<script type=\"text/javascript\">var sitebot_JsHost = \"http://www.sitebro.tw/\";var sitebot_userid = \"OTk0MjI=\";var sitebot_websiteid = \"NDgzMDM=\"; var sitebot_lang = \"zh_TW\";</script><script src=\"http://www.sitebro.tw/track.js\" type=\"text/javascript\"></script>-->\n",
       "<!-- Start Yahoo GA CODE -->\n",
       "<script>\n",
       "  (function(i,s,o,g,r,a,m){i['GoogleAnalyticsObject']=r;i[r]=i[r]||function(){\n",
       "  (i[r].q=i[r].q||[]).push(arguments)},i[r].l=1*new Date();a=s.createElement(o),\n",
       "  m=s.getElementsByTagName(o)[0];a.async=1;a.src=g;m.parentNode.insertBefore(a,m)\n",
       "  })(window,document,'script','//www.google-analytics.com/analytics.js','ga');\n",
       "\n",
       "  ga('create', 'UA-48893644-1', 'etwarm.com.tw');\n",
       "  ga('send', 'pageview');\n",
       "\n",
       "</script>\n",
       "<!-- End Yahoo GA CODE -->\n",
       "<!--  START http://home.etwarm.com.tw/ remarketing -->\n",
       "<!--<script type=\"application/javascript\"> (function(w,d,t,r,u){w[u]=w[u] ||[];w[u].push({'projectId':' 10000','properties':{'pixelId' :'10003388'}});var s=d.createElement(t);s.src=r; s.async=true;s.onload=s. onreadystatechange=function(){ var y,rs=this.readyState,c=w[u]; if(rs&&rs!=\"complete\"&&rs!=\" loaded\"){return}try{y=YAHOO. ywa.I13N.fireBeacon;w[u]=[];w[ u].push=function(p){y([p])};y( c)}catch(e){}};var scr=d.getElementsByTagName(t)[ 0],par=scr.parentNode;par. insertBefore(s,scr)})(window, document,\"script\",\"https://s. yimg.com/wi/ytc.js\",\"dotq\");</script>-->\n",
       "<!--  END http://home.etwarm.com.tw/ remarketing -->\n",
       "<!-- Start FB SDK -->\n",
       "<script>\n",
       "  window.fbAsyncInit = function() {\n",
       "    FB.init({\n",
       "      appId      : '1698204393757675',\n",
       "      xfbml      : true,\n",
       "      version    : 'v2.7'\n",
       "    });\n",
       "  };\n",
       "\n",
       "  (function(d, s, id){\n",
       "     var js, fjs = d.getElementsByTagName(s)[0];\n",
       "     if (d.getElementById(id)) {return;}\n",
       "     js = d.createElement(s); js.id = id;\n",
       "     js.src = \"//connect.facebook.net/en_US/sdk.js\";\n",
       "     fjs.parentNode.insertBefore(js, fjs);\n",
       "   }(document, 'script', 'facebook-jssdk'));\n",
       "</script>\n",
       "<!-- End FB SDK -->\n",
       "<link href=\"../css/buy.css\" rel=\"stylesheet\"/>\n",
       "<!--[if lte IE 9]>\n",
       "<script src=\"aight.min.js\"></script>\n",
       "<![endif]-->\n",
       "<link href=\"../css/flexslider.css\" rel=\"stylesheet\"/>\n",
       "<link href=\"../css/buy.css\" rel=\"stylesheet\"/>\n",
       "<link href=\"../css/nv.d3.css\" rel=\"stylesheet\"/>\n",
       "<link href=\"../css/img_box.css\" rel=\"stylesheet\"/>\n",
       "<link href=\"../css/colorbox.css\" rel=\"stylesheet\"/>\n",
       "<!-- mediaelementplayer-->\n",
       "<link href=\"../mediaelement/mediaelementplayer.css\" rel=\"stylesheet\"/>\n",
       "</head>\n",
       "<body>\n",
       "<!-- header -->\n",
       "<header id=\"header\">\n",
       "<div class=\"header_a\">\n",
       "<div class=\"logo\" itemscope=\"\" itemtype=\"http://schema.org/Organization\">\n",
       "<a href=\"http://www.etwarm.com.tw\" itemprop=\"url\" target=\"_self\">\n",
       "<img alt=\"東森房屋\" height=\"45\" itemprop=\"logo\" src=\"images/logo.png\" width=\"154\"/>\n",
       "</a>\n",
       "</div>\n",
       "<!-- 主選單 -->\n",
       "<nav>\n",
       "<ul class=\"menu\">\n",
       "<li class=\"border\">\n",
       "<a class=\"menu_link\" href=\"http://www.etwarm.com.tw/object_list\">買屋</a>\n",
       "<ul class=\"submenu\">\n",
       "<li><a href=\"http://www.etwarm.com.tw/object_list\">好屋搜尋</a></li>\n",
       "<li><a href=\"http://www.etwarm.com.tw/map_search\" target=\"_blank\">地圖找屋</a></li>\n",
       "<li><a href=\"http://www.etwarm.com.tw/object_list?theme=MRT\">捷運找屋</a></li>\n",
       "<li><a href=\"http://www.etwarm.com.tw/object_list?theme=DOWN_BUY\">降價專區</a></li>\n",
       "<li><a href=\"http://www.etwarm.com.tw/object_list?theme=STORE_BUY\">熱銷推薦</a></li>\n",
       "<li><a href=\"http://www.etwarm.com.tw/object_list?theme=GOOD_BUY\">優質物件</a></li>\n",
       "<li><a href=\"http://www.etwarm.com.tw/loan/\">房貸試算</a></li>\n",
       "<li><a href=\"http://www.etwarm.com.tw/buy_step\">買屋流程</a></li>\n",
       "<li><a href=\"http://www.etwarm.com.tw/buy\">我要買屋</a></li>\n",
       "</ul>\n",
       "</li>\n",
       "<li class=\"border\">\n",
       "<a class=\"menu_link\" href=\"http://www.etwarm.com.tw/sell_knowledge\">賣屋</a>\n",
       "<ul class=\"submenu\">\n",
       "<li><a href=\"http://www.etwarm.com.tw/sell_knowledge\">賣屋須知</a></li>\n",
       "<li><a href=\"http://www.etwarm.com.tw/tax/\">稅務解析</a></li>\n",
       "<li><a href=\"http://www.etwarm.com.tw/sell_step\">賣屋流程</a></li>\n",
       "<li><a href=\"http://www.etwarm.com.tw/sell\">我要賣屋</a></li>\n",
       "</ul>\n",
       "</li>\n",
       "<li class=\"border\">\n",
       "<a class=\"menu_link\" href=\"http://www.etwarm.com.tw/rent/object_list\">租屋</a>\n",
       "<ul class=\"submenu\">\n",
       "<li><a href=\"http://www.etwarm.com.tw/rent/object_list\">租屋搜尋</a></li>\n",
       "<!-- <li><a href=\"rent/rent_login.php\">房東出租刊登</a></li> -->\n",
       "<li><a href=\"http://www.etwarm.com.tw/map_search#rent\" target=\"_blank\">地圖找屋</a></li>\n",
       "<li><a href=\"http://www.etwarm.com.tw/rent/object_list?theme=MRT\">捷運找屋</a></li>\n",
       "<li><a href=\"http://www.etwarm.com.tw/rent/login\">免費刊登</a></li>\n",
       "<!-- <li><a href=\"http://www.etwarm.com.tw/rent/rent_news.php\">租屋相關知識</a></li> -->\n",
       "<li><a href=\"http://www.etwarm.com.tw/rent/rent_house_step.php\">房客租屋流程</a></li>\n",
       "<li><a href=\"http://www.etwarm.com.tw/rent/house_rent_step.php\">房東出租流程</a></li>\n",
       "</ul>\n",
       "</li>\n",
       "<!--\n",
       "        <li class=\"border\">\n",
       "          <a href=\"http://www.etwarm.com.tw/object_list?theme=STORE_BUY\" class=\"menu_link\">主題推薦</a>\n",
       "          <ul class=\"submenu\">            \n",
       "            <li><a href=\"http://www.etwarm.com.tw/object_list?theme=DOWN_BUY\">降價專區</a></li>\n",
       "            <li><a href=\"http://www.etwarm.com.tw/object_list?theme=YOUTH_BUY\">青年首購</a></li>\n",
       "            <li><a href=\"http://www.etwarm.com.tw/object_list?theme=NEW_BUY\">新成好屋</a></li>\n",
       "            <li><a href=\"http://www.etwarm.com.tw/object_list?theme=SCHOOL_BUY\">學區精選</a></li>\n",
       "            <li><a href=\"http://www.etwarm.com.tw/object_list?theme=TRAFFIC_BUY\">交通周邊</a></li>\n",
       "            <li><a href=\"http://www.etwarm.com.tw/object_list?theme=LAND_ONLY\">土地專區</a></li>\n",
       "          </ul>\n",
       "        </li>\n",
       "        -->\n",
       "<li class=\"border\">\n",
       "<a class=\"menu_link\" href=\"#\">海外房產</a>\n",
       "<ul class=\"submenu\">\n",
       "<li><a href=\"http://global.etwarm.com.tw/\" target=\"_blank\">國際不動產中心</a></li>\n",
       "<li><a href=\"http://29271147.5185.com.tw/index.php\" target=\"_blank\">柬埔寨</a></li>\n",
       "</ul>\n",
       "</li>\n",
       "<li class=\"border\"><a class=\"menu_link\" href=\"http://www.etwarm.com.tw/realvalue/map\" target=\"_blank\">成交行情</a></li>\n",
       "<li class=\"border\"><a class=\"menu_link\" href=\"http://www.etwarm.com.tw/franchise/\">加盟專區</a></li>\n",
       "<li class=\"border\"><a class=\"menu_link\" href=\"http://www.etwarm.com.tw/hr/\">人才招募</a></li>\n",
       "<li class=\"border\">\n",
       "<!--\n",
       "          <a href=\"http://www.etwarm.com.tw/realvalue/map\" class=\"menu_link\">服務據點</a> \n",
       "-->\n",
       "<div class=\"menu_link\">   \n",
       "          服務據點    \n",
       "          <select class=\"et_service w72\" id=\"etwarmMenuCity\" name=\"header_city\"><option disabled=\"\" selected=\"\" value=\"\">選縣市</option><option value=\"1\">台北市</option><option value=\"2\">新北市</option><option value=\"3\">宜蘭縣</option><option value=\"4\">基隆市</option><option value=\"5\">桃園市</option><option value=\"6\">新竹市</option><option value=\"7\">新竹縣</option><option value=\"8\">苗栗縣</option><option value=\"9\">台中市</option><option value=\"10\">彰化縣</option><option value=\"11\">南投縣</option><option value=\"12\">雲林縣</option><option value=\"13\">嘉義市</option><option value=\"14\">嘉義縣</option><option value=\"15\">台南市</option><option value=\"16\">高雄市</option><option value=\"17\">屏東縣</option><option value=\"18\">台東縣</option><option value=\"19\">花蓮縣</option><option value=\"20\">澎湖縣</option><option value=\"21\">金門縣</option><option value=\"22\">連江縣</option></select> <select class=\"et_service w72\" id=\"etwarmMenuArea\" name=\"header_area\"><option disabled=\"\" selected=\"\" value=\"\">選區域</option></select> </div>\n",
       "</li>\n",
       "<li class=\"border favorite_link\" id=\"favorite_box\">\n",
       "<a class=\"menu_link\" href=\"http://www.etwarm.com.tw/object_favorite\" target=\"_blank\">\n",
       "<p>\n",
       "              收藏\n",
       "              <span class=\"favorite_nums\">0</span>\n",
       "</p>\n",
       "</a>\n",
       "</li>\n",
       "<li>\n",
       "<div class=\"menu_link\">\n",
       "<a href=\"https://www.facebook.com/etwarm.no1\" style=\"display:inline-block\" target=\"_blank\"><img class=\"icon_menu\" height=\"21\" src=\"images/fb_icon.png\" width=\"21\"/></a>\n",
       "<a href=\"http://www.youtube.com/user/EASTERNREALTY\" style=\"display:inline-block\" target=\"_blank\"><img class=\"icon_menu\" height=\"21\" src=\"images/yt_icon.png\" width=\"21\"/></a>\n",
       "</div>\n",
       "</li>\n",
       "</ul>\n",
       "</nav>\n",
       "<div class=\"clearall\"></div>\n",
       "</div>\n",
       "</header>\n",
       "<article id=\"buy\">\n",
       "<section id=\"obj_data_info\">\n",
       "<div class=\"obj_data_route\">\n",
       "<img height=\"14\" src=\"images/buy/obj_data_route_icon.png\" width=\"16\"/>\n",
       "<div class=\"obj_data_router\" itemscope=\"\" itemtype=\"http://data-vocabulary.org/Breadcrumb\">\n",
       "<a href=\"http://www.etwarm.com.tw/object_list\" itemprop=\"url\">\n",
       "<span itemprop=\"title\">租屋</span>\n",
       "</a>\n",
       "</div>\n",
       "<div class=\"obj_data_router\" itemscope=\"\" itemtype=\"http://data-vocabulary.org/Breadcrumb\"> &gt; \n",
       "                            <a href=\"http://www.etwarm.com.tw/object_list?area=台北市\" itemprop=\"url\">\n",
       "<span itemprop=\"title\">台北市</span>\n",
       "</a>\n",
       "</div>\n",
       "<div class=\"obj_data_router\" itemscope=\"\" itemtype=\"http://data-vocabulary.org/Breadcrumb\"> &gt; \n",
       "                            <a href=\"http://www.etwarm.com.tw/object_list?area=台北市中山區\" itemprop=\"url\">\n",
       "<span itemprop=\"title\">中山區</span>\n",
       "</a>\n",
       "</div>\n",
       "<div class=\"obj_data_router\" itemscope=\"\" itemtype=\"http://data-vocabulary.org/Breadcrumb\"> &gt; \n",
       "                            <a href=\"http://www.etwarm.com.tw/object_list?area=台北市中山區&amp;keyword=松江路松江路\" itemprop=\"url\">\n",
       "<span itemprop=\"title\">松江路松江路</span>\n",
       "</a>\n",
       "</div>\n",
       "</div>\n",
       "<!-- 照片 -->\n",
       "<div class=\"obj_data_photo\">\n",
       "<div id=\"img_box\">\n",
       "<img data-origin=\"http://img.etwarm.com.tw/rent_object/R0550683521_4zc2n6oo.jpg\"/>\n",
       "<img data-origin=\"http://img.etwarm.com.tw/rent_object/R0550683521_bpui8326.jpg\"/>\n",
       "<img data-origin=\"http://img.etwarm.com.tw/rent_object/R0550683521_dtgmsou8.jpg\"/>\n",
       "<img data-origin=\"http://img.etwarm.com.tw/rent_object/R0550683521_i5qa3uiy.jpg\"/>\n",
       "<img data-origin=\"http://img.etwarm.com.tw/rent_object/R0550683521_jkqwh4ai.jpg\"/>\n",
       "<img data-origin=\"http://img.etwarm.com.tw/rent_object/R0550683521_kvrjpjfs.jpg\"/>\n",
       "</div>\n",
       "</div>\n",
       "<!-- 基本資料 -->\n",
       "<div class=\"obj_data_basic\" data-ettype=\"RENT\" data-id=\"180564\" id=\"obj_data_basic\">\n",
       "<!-- 基本資料 -->\n",
       "<h1>花博電梯陽光套房0981-395619</h1>\n",
       "<ul class=\"data_basic\">\n",
       "<li>\n",
       "<div class=\"obj_data_contain fl\">\n",
       "<span class=\"price\">12,000</span> 元 / 月\n",
       "            </div>\n",
       "</li>\n",
       "<!-- <li>租金包含：管理費、第四台、網路、水電費、瓦斯費</li> -->\n",
       "<li>面積 : <span class=\"space\">11坪</span></li>\n",
       "<li>用途/型態 : 獨立套房 / 華廈</li>\n",
       "<li>樓層 : 2/6(總樓層)</li>\n",
       "<li>地址 : 台北市中山區松江路</li>\n",
       "<li>\n",
       "<a href=\"rent/house_warning.html\" id=\"etwarm_rentwarning\">\n",
       "<img height=\"20\" src=\"images/icon_Warning.png\" style=\"vertical-align: middle;\" width=\"20\"/>\n",
       "<span style=\"color: #ff0000\">租屋注意事項&amp;房屋租賃定型化契約</span>\n",
       "</a>\n",
       "</li>\n",
       "</ul>\n",
       "<ul class=\"data_icon\">\n",
       "<li>\n",
       "<a href=\"sendFriends.php?type=rent&amp;id=180564\" id=\"etwarm_send_friend\">\n",
       "<img height=\"51\" onmouseout=\"this.src = 'images/buy/email_icon.png'\" onmouseover=\"this.src = 'images/buy/email_icon_s.png'\" src=\"images/buy/email_icon.png\" width=\"63\"/>\n",
       "<p>轉寄親友</p>\n",
       "</a>\n",
       "</li>\n",
       "<li>\n",
       "<a href=\"javascript:\" id=\"print_obj\" onclick=\"window.print();\" target=\"_blank\">\n",
       "<img height=\"51\" onmouseout=\"this.src = 'images/buy/print_icon.png'\" onmouseover=\"this.src = 'images/buy/print_icon_s.png'\" src=\"images/buy/print_icon.png\" width=\"63\"/>\n",
       "<p>列印</p>\n",
       "</a>\n",
       "</li>\n",
       "<li>\n",
       "<a href=\"javascript:ShowContent('obj_share')\">\n",
       "<img height=\"51\" onmouseout=\"this.src = 'images/buy/share_icon.png'\" onmouseover=\"this.src = 'images/buy/share_icon_s.png'\" src=\"images/buy/share_icon.png\" width=\"63\"/>\n",
       "<p>分享物件</p>\n",
       "</a>\n",
       "<div id=\"obj_share\">\n",
       "<div class=\"close_bt\">\n",
       "<a href=\"javascript:HideContent('obj_share')\">\n",
       "<img height=\"12\" src=\"images/close-icon.png\" width=\"12\"/>\n",
       "</a>\n",
       "</div>\n",
       "<div class=\"obj_box mt55\">\n",
       "<a class=\"fb_btn\" href=\"http://www.facebook.com/share.php?u=http%3A%2F%2Fwww.etwarm.com.tw%2Frent%2Fobject_data2%3Fid%3D180564\" target=\"_blank\"><img height=\"50\" src=\"images/buy/fb_icon.png\" width=\"50\"/></a>\n",
       "<a class=\"google_btn\" href=\"https://plus.google.com/share?url=http%3A%2F%2Fwww.etwarm.com.tw%2Frent%2Fobject_data2%3Fid%3D180564\" target=\"_blank\"><img height=\"50\" src=\"images/buy/gplus_icon.png\" width=\"50\"/></a>\n",
       "<a class=\"twitter_btn\" href=\"http://twitter.com/home/?status=%E8%8A%B1%E5%8D%9A%E9%9B%BB%E6%A2%AF%E9%99%BD%E5%85%89%E5%A5%97%E6%88%BF0981-395619+-+%E6%9D%B1%E6%A3%AE%E6%88%BF%E5%B1%8B\" target=\"_blank\"><img height=\"50\" src=\"images/buy/twitter_icon.png\" width=\"50\"/></a>\n",
       "</div>\n",
       "</div>\n",
       "</li>\n",
       "<li>\n",
       "<a href=\"rent/rent_house_step.php\" target=\"_blank\">\n",
       "<img height=\"51\" onmouseout=\"this.src='../images/buy/rent_icon.png'\" onmouseover=\"this.src='../images/buy/rent_icon_s.png'\" src=\"../images/buy/rent_icon.png\" width=\"63\"/>\n",
       "<p>租屋流程</p>\n",
       "</a>\n",
       "</li>\n",
       "<li>\n",
       "<a href=\"rent/rent_news.php\" target=\"_blank\">\n",
       "<img height=\"51\" onmouseout=\"this.src='../images/buy/tax_icon.png'\" onmouseover=\"this.src='../images/buy/tax_icon_s.png'\" src=\"../images/buy/tax_icon.png\" width=\"63\"/>\n",
       "<p>租屋知識</p>\n",
       "</a>\n",
       "</li>\n",
       "</ul>\n",
       "<div class=\"data_store\">\n",
       "<a href=\"book.php?type=rent&amp;id=180564\" id=\"etwarm_book\"><img alt=\"預約看屋\" height=\"130\" src=\"images/buy/reserve_bt.png\" width=\"130\"/></a>\n",
       "<span style=\"font-weight:bolder; font-size:20px\">屋主藍先生&amp;蘇先生</span><br/>\n",
       "<span class=\"tel\">0981-39561</span><br/>\n",
       "                        (屋主聲明：仲介勿擾)<br/> </div>\n",
       "</div><!-- obj_data_basic --> </section>\n",
       "<!-- 詳細資料 -->\n",
       "<section id=\"obj_data_detail\">\n",
       "<h3>詳細資料</h3>\n",
       "<div id=\"table\">\n",
       "<div class=\"tr\">\n",
       "<div align=\"left\" class=\"td\">‧ 用途</div>\n",
       "<div align=\"left\" class=\"td\">獨立套房</div>\n",
       "<div align=\"left\" class=\"td\">‧ 型態</div>\n",
       "<div align=\"left\" class=\"td\">華廈</div>\n",
       "<div align=\"left\" class=\"td\">‧ 面積</div>\n",
       "<div align=\"left\" class=\"td\">11坪</div>\n",
       "</div>\n",
       "<div class=\"tr\">\n",
       "<div align=\"left\" class=\"td\">‧ 租金</div>\n",
       "<div align=\"left\" class=\"td\">12,000 元 / 月</div>\n",
       "<div align=\"left\" class=\"td\">‧ 押金</div>\n",
       "<div align=\"left\" class=\"td\">兩個月租金</div>\n",
       "<div align=\"left\" class=\"td\">‧ 最短租期</div>\n",
       "<div align=\"left\" class=\"td\">一年</div>\n",
       "</div>\n",
       "<div class=\"tr\">\n",
       "<div align=\"left\" class=\"td\">‧ 格局</div>\n",
       "<div align=\"left\" class=\"td\">-</div>\n",
       "<div align=\"left\" class=\"td\">‧ 車位</div>\n",
       "<div align=\"left\" class=\"td\">無</div>\n",
       "<div align=\"left\" class=\"td\">‧ 管理費</div>\n",
       "<div align=\"left\" class=\"td\">-</div>\n",
       "</div>\n",
       "<div class=\"tr\">\n",
       "<div align=\"left\" class=\"td\">‧ 座向</div>\n",
       "<div align=\"left\" class=\"td\">-</div>\n",
       "<div align=\"left\" class=\"td\">‧ 樓層</div>\n",
       "<div align=\"left\" class=\"td\">2/6(總樓層)</div>\n",
       "<div align=\"left\" class=\"td\">‧ 可遷入日</div>\n",
       "<div align=\"left\" class=\"td\">-</div>\n",
       "</div>\n",
       "</div>\n",
       "<div class=\"table\">\n",
       "<div class=\"tr\">\n",
       "<div align=\"left\" class=\"td\">‧ 身分要求</div>\n",
       "<div align=\"left\" class=\"td\"><span class=\"items\">學生</span>、<span class=\"items\">上班族</span>、<span class=\"items\">家庭</span></div>\n",
       "<div align=\"left\" class=\"td\">‧ 開伙</div>\n",
       "<div align=\"left\" class=\"td\">不可以</div>\n",
       "<div align=\"left\" class=\"td\">‧ 養寵物</div>\n",
       "<div align=\"left\" class=\"td\">不可以</div>\n",
       "</div>\n",
       "</div>\n",
       "<div class=\"table\">\n",
       "<div class=\"tr\">\n",
       "<div align=\"left\" class=\"td\">‧ 租金包含</div>\n",
       "<div align=\"left\" class=\"td fixed\"><div>-</div></div>\n",
       "</div>\n",
       "</div>\n",
       "<div class=\"table\">\n",
       "<div class=\"tr\">\n",
       "<div align=\"left\" class=\"td\">‧ 生活機能</div>\n",
       "<div align=\"left\" class=\"td fixed\"><div>-</div></div>\n",
       "</div>\n",
       "</div>\n",
       "<div class=\"data_building_box\">\n",
       "<div class=\"data_building\">提供的周邊設備</div>\n",
       "<div id=\"table\">\n",
       "<div class=\"tr\">\n",
       "<div align=\"left\" class=\"td\" style=\"width:90px\">‧ 家俱</div>\n",
       "<div align=\"left\" class=\"td\" style=\"width:900px\"><span class=\"items\">床</span>、<span class=\"items\">衣櫃</span></div>\n",
       "</div>\n",
       "<div class=\"tr\">\n",
       "<div align=\"left\" class=\"td\" style=\"width:90px\">‧ 設備</div>\n",
       "<div align=\"left\" class=\"td\" style=\"width:900px\"><span class=\"items\">熱水器</span></div>\n",
       "</div>\n",
       "</div>\n",
       "</div>\n",
       "<div class=\"data_building_box\">\n",
       "<div class=\"data_building\">附近交通</div>\n",
       "<div id=\"table\">\n",
       "<div class=\"tr\">\n",
       "<div align=\"left\" class=\"td\" style=\"width:90px\">‧ 公車站</div>\n",
       "<div align=\"left\" class=\"td\" style=\"width:900px\">-</div>\n",
       "</div>\n",
       "<div class=\"tr\">\n",
       "<div align=\"left\" class=\"td\" style=\"width:90px\">‧ 捷運站</div>\n",
       "<div align=\"left\" class=\"td\" style=\"width:900px\">-</div>\n",
       "</div>\n",
       "<div class=\"tr\">\n",
       "<div align=\"left\" class=\"td\" style=\"width:90px\">‧ 火車站</div>\n",
       "<div align=\"left\" class=\"td\" style=\"width:900px\">-</div>\n",
       "</div>\n",
       "</div>\n",
       "</div>\n",
       "</section> <!-- 特色推薦 -->\n",
       "<section id=\"obj_characteristic\">\n",
       "<h3>特色推薦</h3>\n",
       "<div><p>●關心的問題：◆租金不含這些～水費、電費、管理費、網路◆可以開伙◆不能短租(一年為準)  ◆不能設籍或登記  ◆基本電器設備：電熱水器、冷氣、冰箱、電磁爐具、微波爐  ◆基本附屬傢俱：沙發、衣櫃、茶几組、置物櫃、其他未註明依現況交屋出租、◆押金為二個月<br/>\n",
       "●特色說明：<br/>\n",
       "適商辦人士雙併電梯，24H管理，安全無煩惱、監視系統,，垃圾集中區(免分類免購環保袋)屋方正有窗、含傢俱立可進駐、生機能樣樣齊全。VIP運動休閒設備免費使用,熱水器、流理台冷氣、另有車位可承租<br/>\n",
       "●生活機能：<br/>\n",
       "百貨公司、大賣場、便利商店、傳統市場、夜市、近公園綠地、近學校、近醫療機構、近警察局、近銀行、小吃,應有盡有</p></div>\n",
       "</section>\n",
       "<!-- 機能地圖 -->\n",
       "</article>\n",
       "<footer id=\"footer\">\n",
       "<section id=\"web_guide\">\n",
       "<nav id=\"guide\">\n",
       "<ul>\n",
       "<li>\n",
       "<div class=\"guide-sub\">\n",
       "<div class=\"guide-sub-inner\">\n",
       "<div class=\"sub_a sub_border\">\n",
       "<h3>買屋服務</h3>\n",
       "<ul>\n",
       "<li><a href=\"http://www.etwarm.com.tw/object_list\">好屋搜尋</a></li>\n",
       "<li><a href=\"http://www.etwarm.com.tw/map_search\" target=\"_blank\">地圖找屋</a></li>\n",
       "<li><a href=\"http://www.etwarm.com.tw/object_list?theme=MRT\">捷運找屋</a></li>\n",
       "<li><a href=\"http://www.etwarm.com.tw/object_list?theme=DOWN_BUY\">降價專區</a></li>\n",
       "<li><a href=\"http://www.etwarm.com.tw/object_list?theme=STORE_BUY\">熱銷推薦</a></li>\n",
       "<li><a href=\"http://www.etwarm.com.tw/object_list?theme=GOOD_BUY\">優質物件</a></li>\n",
       "<li><a href=\"http://www.etwarm.com.tw/loan/\">房貸試算</a></li>\n",
       "<li><a href=\"http://www.etwarm.com.tw/buy_step\">買屋流程</a></li>\n",
       "<li><a href=\"http://www.etwarm.com.tw/buy\">我要買屋</a></li>\n",
       "</ul>\n",
       "</div>\n",
       "<div class=\"sub_b sub_border\">\n",
       "<h3>賣屋服務</h3>\n",
       "<ul>\n",
       "<li><a href=\"http://www.etwarm.com.tw/sell_knowledge\">賣屋須知</a></li>\n",
       "<li><a href=\"http://www.etwarm.com.tw/tax/\">稅務解析</a></li>\n",
       "<li><a href=\"http://www.etwarm.com.tw/sell_step\">賣屋流程</a></li>\n",
       "<li><a href=\"http://www.etwarm.com.tw/sell\">我要賣屋</a></li>\n",
       "</ul>\n",
       "</div>\n",
       "<div class=\"sub_a sub_border\">\n",
       "<h3>主題找屋</h3>\n",
       "<ul>\n",
       "<li><a href=\"http://www.etwarm.com.tw/object_list?theme=YOUTH_BUY\">青年首購</a></li>\n",
       "<li><a href=\"http://www.etwarm.com.tw/object_list?theme=NEW_BUY\">新成好屋</a></li>\n",
       "<li><a href=\"http://www.etwarm.com.tw/object_list?theme=SCHOOL_BUY\">學區精選</a></li>\n",
       "<li><a href=\"http://www.etwarm.com.tw/object_list?theme=LAND_ONLY\">土地專區</a></li>\n",
       "<li><a href=\"http://www.etwarm.com.tw/object_list?theme=TRAFFIC_BUY\">交通周邊</a></li>\n",
       "</ul>\n",
       "</div>\n",
       "<div class=\"sub_b sub_border\">\n",
       "<h3>其他服務</h3>\n",
       "<ul>\n",
       "<li><a href=\"http://www.etwarm.com.tw/realvalue/map\" target=\"_blank\">成交行情</a></li>\n",
       "<li><a href=\"http://global.etwarm.com.tw/\" target=\"_blank\">海外房產</a></li>\n",
       "<li><a href=\"http://www.etwarm.com.tw/rent/object_list\">租屋服務</a></li>\n",
       "</ul>\n",
       "</div>\n",
       "<div class=\"sub_a\">\n",
       "<h3>最新消息</h3>\n",
       "<ul>\n",
       "<li><a href=\"http://www.etwarm.com.tw/news/\">房市新聞</a></li>\n",
       "<li><a href=\"http://www.etwarm.com.tw/et_action\">最新活動</a></li>\n",
       "<li><a href=\"http://www.etwarm.com.tw/adviser/\">專家分析</a></li>\n",
       "<li><a href=\"http://www.etwarm.com.tw/news/index.php?theme=regional\">在地活動</a></li>\n",
       "<li><a href=\"http://www.etwarm.com.tw/news/index.php?theme=magz\">東森雜誌</a></li>\n",
       "</ul>\n",
       "</div>\n",
       "<div class=\"sub_a\">\n",
       "<h3>關於東森</h3>\n",
       "<ul>\n",
       "<li><a href=\"http://www.etwarm.com.tw/about/about1.php\">公司簡介</a></li>\n",
       "<li><a href=\"http://www.etwarm.com.tw/et_store\">服務據點</a></li>\n",
       "<li><a href=\"http://www.etwarm.com.tw/franchise/\">加盟專區</a></li>\n",
       "<li><a href=\"http://www.etwarm.com.tw/hr/\">徵才專區</a></li>\n",
       "<li><a href=\"http://www.etwarm.com.tw/chairman/\">董事長區</a></li>\n",
       "<li><a href=\"http://www.etwarm.com.tw/top100/\">仲介菁英</a></li>\n",
       "<li><a href=\"http://www.etwarm.com.tw/kim_chung_awards/\">金仲獎</a></li>\n",
       "<li><a href=\"http://www.etwarm.com.tw/champion/\">年度月冠軍</a></li>\n",
       "</ul>\n",
       "</div>\n",
       "</div><!-- /guide-sub-inner -->\n",
       "</div><!-- /guide-sub -->\n",
       "</li>\n",
       "</ul>\n",
       "</nav>\n",
       "</section>\n",
       "<!-- 獎項 -->\n",
       "<section id=\"etwarm_award\">\n",
       "<div class=\"award\">\n",
       "<ul>\n",
       "<li><img height=\"85\" src=\"images/award_04.png\" width=\"58\"/><p>榮獲服務第壹大獎<br/>為房仲加盟品牌第一</p></li>\n",
       "<li><img height=\"85\" src=\"images/award_02.png\" width=\"61\"/><p>榮獲「ISO9002認證」</p></li>\n",
       "<li><img height=\"85\" src=\"images/award_03.png\" width=\"61\"/><p>榮獲「ISO14001認證」</p></li>\n",
       "<li><img height=\"85\" src=\"images/award_05.png\" width=\"75\"/><p>榮獲優良商號獎</p></li>\n",
       "<li><img height=\"85\" src=\"images/award_06.png\" width=\"58\"/><p>熱心公益<br/>榮獲兒福協尋英雄獎</p></li>\n",
       "</ul>\n",
       "</div>\n",
       "</section>\n",
       "<section class=\"etwarm_other\">\n",
       "<div class=\"others\">免費行動APP：<a href=\"https://itunes.apple.com/tw/app/dong-sen-fang-wu/id541524474?mt=8\" target=\"_blank\"><img height=\"130\" src=\"images/app_store.png\" width=\"130\"/></a><a href=\"https://play.google.com/store/apps/details?id=com.xpert.android.etwarm&amp;feature=search_result#?t=W251bGwsMSwxLDEsImNvbS54cGVydC5hbmRyb2lkLmV0d2FybSJd\" target=\"_blank\"><img height=\"130\" src=\"images/google_play.png\" width=\"130\"/></a>　　社群媒體頻道：<a href=\"https://www.facebook.com/etwarm.no1\" target=\"_blank\"><img height=\"30\" src=\"images/fb.png\" width=\"30\"/></a><a href=\"http://www.youtube.com/user/EASTERNREALTY\" target=\"_blank\"><img height=\"30\" src=\"images/youtube.png\" width=\"30\"/></a></div>\n",
       "<div class=\"copyright\"><p><img height=\"17\" src=\"images/map_icon.png\" width=\"12\"/>公司地址：台北市中正區館前路42號四樓  <img height=\"15\" src=\"images/tel_icon.png\" width=\"18\"/>連絡電話：(02)5559-0688　總部免付費客服電話：0800-011223</p><p></p>Copyright(c)2015 ETWARM 東森房屋股份有限公司  版權所有</div>\n",
       "</section>\n",
       "</footer>\n",
       "<div style=\"display:none;\">\n",
       "<script src=\"//www.googleadservices.com/pagead/conversion.js\" type=\"text/javascript\">\n",
       "</script>\n",
       "<noscript>\n",
       "<div style=\"display:inline;\">\n",
       "<img alt=\"\" height=\"1\" src=\"//googleads.g.doubleclick.net/pagead/viewthroughconversion/967777218/?value=0&amp;guid=ON&amp;script=0\" style=\"border-style:none;\" width=\"1\"/>\n",
       "</div>\n",
       "</noscript>\n",
       "</div>\n",
       "<!--Google 再行銷 START-->\n",
       "<div style=\"display:none;\">\n",
       "<script type=\"text/javascript\">\n",
       "/* <![CDATA[ */\n",
       "var google_conversion_id = 967777218;\n",
       "var google_custom_params = window.google_tag_params;\n",
       "var google_remarketing_only = true;\n",
       "/* ]]> */\n",
       "</script>\n",
       "<script src=\"//www.googleadservices.com/pagead/conversion.js\" type=\"text/javascript\"></script>\n",
       "</div>\n",
       "<noscript>\n",
       "<div style=\"display:inline;\">\n",
       "<img alt=\"\" height=\"1\" src=\"//googleads.g.doubleclick.net/pagead/viewthroughconversion/967777218/?value=0&amp;guid=ON&amp;script=0\" style=\"border-style:none;\" width=\"1\"/>\n",
       "</div>\n",
       "</noscript>\n",
       "<!--Google 再行銷 END-->\n",
       "<script src=\"js/vendor.js\" type=\"text/javascript\"></script>\n",
       "<script src=\"../mediaelement/mediaelement-and-player.min.js\" type=\"text/javascript\"></script>\n",
       "<script src=\"../js/jquery.flexslider-min.js\" type=\"text/javascript\"></script>\n",
       "<script src=\"https://maps.googleapis.com/maps/api/js?client=gme-etwarmrealty\" type=\"text/javascript\"></script>\n",
       "<script src=\"../js/d3.min.js\" type=\"text/javascript\"></script>\n",
       "<script src=\"../js/nv.d3.min.js\" type=\"text/javascript\"></script>\n",
       "<script src=\"../js/jquery.colorbox-min.js\" type=\"text/javascript\"></script>\n",
       "<script src=\"../js/object.js\" type=\"text/javascript\"></script>\n",
       "<script src=\"../js/silder.js\" type=\"text/javascript\"></script>\n",
       "<script src=\"../js/jquery.colorbox.js\" type=\"text/javascript\"></script>\n",
       "<script>\n",
       "$(document).ready(function(){\n",
       "    $(\".iframe\").colorbox({iframe:true, width:\"1200px\", height:\"80%\", fixed: true});\n",
       "});              \n",
       "</script>\n",
       "</body>\n",
       "</html>"
      ]
     },
     "execution_count": 40,
     "metadata": {},
     "output_type": "execute_result"
    }
   ],
   "source": [
    "soup"
   ]
  },
  {
   "cell_type": "markdown",
   "metadata": {},
   "source": [
    "* cityID"
   ]
  },
  {
   "cell_type": "code",
   "execution_count": 41,
   "metadata": {
    "collapsed": true
   },
   "outputs": [],
   "source": [
    "postalCode = {\n",
    "    \"中正區\": 100,\n",
    "    \"大同區\": 103,\n",
    "    \"中山區\": 104,\n",
    "    \"松山區\": 105,\n",
    "    \"大安區\": 106,\n",
    "    \"萬華區\": 108,\n",
    "    \"信義區\": 110,\n",
    "    \"士林區\": 111,\n",
    "    \"北投區\": 112,\n",
    "    \"內湖區\": 114,\n",
    "    \"南港區\": 115,\n",
    "    \"文山區\": 116,\n",
    "    \"萬里區\": 207,\n",
    "    \"金山區\": 208,\n",
    "    \"板橋區\": 220,\n",
    "    \"汐止區\": 221,\n",
    "    \"深坑區\": 222,\n",
    "    \"石碇區\": 223,\n",
    "    \"瑞芳區\": 224,\n",
    "    \"平溪區\": 226,\n",
    "    \"雙溪區\": 227,\n",
    "    \"貢寮區\": 228,\n",
    "    \"新店區\": 231,\n",
    "    \"坪林區\": 232,\n",
    "    \"烏來區\": 233,\n",
    "    \"永和區\": 234,\n",
    "    \"中和區\": 235,\n",
    "    \"土城區\": 236,\n",
    "    \"三峽區\": 237,\n",
    "    \"樹林區\": 238,\n",
    "    \"鶯歌區\": 239,\n",
    "    \"三重區\": 241,\n",
    "    \"新莊區\": 242,\n",
    "    \"泰山區\": 243,\n",
    "    \"林口區\": 244,\n",
    "    \"蘆洲區\": 247,\n",
    "    \"五股區\": 248,\n",
    "    \"八里區\": 249,\n",
    "    \"淡水區\": 251,\n",
    "    \"三芝區\": 252,\n",
    "    \"石門區\": 253\n",
    "}"
   ]
  },
  {
   "cell_type": "code",
   "execution_count": 42,
   "metadata": {},
   "outputs": [
    {
     "data": {
      "text/plain": [
       "'\\n\\n\\n\\n租屋\\n\\n\\n > \\n                            \\n台北市\\n\\n\\n > \\n                            \\n中山區\\n\\n\\n > \\n                            \\n松江路松江路\\n\\n\\n'"
      ]
     },
     "execution_count": 42,
     "metadata": {},
     "output_type": "execute_result"
    }
   ],
   "source": [
    "soup.select('div[class=\"obj_data_route\"]')[0].text"
   ]
  },
  {
   "cell_type": "code",
   "execution_count": 43,
   "metadata": {},
   "outputs": [],
   "source": [
    "city = soup.select('div[class=\"obj_data_route\"]')[0].select('a')[2].text.lstrip().rstrip()"
   ]
  },
  {
   "cell_type": "code",
   "execution_count": 44,
   "metadata": {},
   "outputs": [
    {
     "data": {
      "text/plain": [
       "104"
      ]
     },
     "execution_count": 44,
     "metadata": {},
     "output_type": "execute_result"
    }
   ],
   "source": [
    "postalCode[city]"
   ]
  },
  {
   "cell_type": "markdown",
   "metadata": {},
   "source": [
    "* title"
   ]
  },
  {
   "cell_type": "code",
   "execution_count": 52,
   "metadata": {},
   "outputs": [
    {
     "data": {
      "text/plain": [
       "'花博電梯陽光套房0981-395619'"
      ]
     },
     "execution_count": 52,
     "metadata": {},
     "output_type": "execute_result"
    }
   ],
   "source": [
    "soup.select('div[class=\"obj_data_basic\"]')[0].select('h1')[0].text"
   ]
  },
  {
   "cell_type": "markdown",
   "metadata": {},
   "source": [
    "* address"
   ]
  },
  {
   "cell_type": "code",
   "execution_count": 63,
   "metadata": {},
   "outputs": [
    {
     "data": {
      "text/plain": [
       "[<li>\n",
       " <div class=\"obj_data_contain fl\">\n",
       " <span class=\"price\">12,000</span> 元 / 月\n",
       "             </div>\n",
       " </li>,\n",
       " <li>面積 : <span class=\"space\">11坪</span></li>,\n",
       " <li>用途/型態 : 獨立套房 / 華廈</li>,\n",
       " <li>樓層 : 2/6(總樓層)</li>,\n",
       " <li>地址 : 台北市中山區松江路</li>,\n",
       " <li>\n",
       " <a href=\"rent/house_warning.html\" id=\"etwarm_rentwarning\">\n",
       " <img height=\"20\" src=\"images/icon_Warning.png\" style=\"vertical-align: middle;\" width=\"20\"/>\n",
       " <span style=\"color: #ff0000\">租屋注意事項&amp;房屋租賃定型化契約</span>\n",
       " </a>\n",
       " </li>]"
      ]
     },
     "execution_count": 63,
     "metadata": {},
     "output_type": "execute_result"
    }
   ],
   "source": [
    "soup.select('ul[class=\"data_basic\"]')[0].select('li')"
   ]
  },
  {
   "cell_type": "code",
   "execution_count": 111,
   "metadata": {},
   "outputs": [
    {
     "data": {
      "text/plain": [
       "'[<li>\\n<div class=\"obj_data_contain fl\">\\n<span class=\"price\">12,000</span> 元 / 月\\n            </div>\\n</li>, <li>面積 : <span class=\"space\">11坪</span></li>, <li>用途/型態 : 獨立套房 / 華廈</li>, <li>樓層 : 2/6(總樓層)</li>, <li>地址 : 台北市中山區松江路</li>, <li>\\n<a href=\"rent/house_warning.html\" id=\"etwarm_rentwarning\">\\n<img height=\"20\" src=\"images/icon_Warning.png\" style=\"vertical-align: middle;\" width=\"20\"/>\\n<span style=\"color: #ff0000\">租屋注意事項&amp;房屋租賃定型化契約</span>\\n</a>\\n</li>]'"
      ]
     },
     "execution_count": 111,
     "metadata": {},
     "output_type": "execute_result"
    }
   ],
   "source": [
    "data_basic = soup.select('ul[class=\"data_basic\"]')[0].findAll('li')\n",
    "str(data_basic)"
   ]
  },
  {
   "cell_type": "code",
   "execution_count": 119,
   "metadata": {},
   "outputs": [
    {
     "data": {
      "text/plain": [
       "11"
      ]
     },
     "execution_count": 119,
     "metadata": {},
     "output_type": "execute_result"
    }
   ],
   "source": [
    "int(''.join(re.findall('<span class=\"space\">(\\d+)坪</span>', str(data_basic))))"
   ]
  },
  {
   "cell_type": "code",
   "execution_count": 122,
   "metadata": {},
   "outputs": [
    {
     "data": {
      "text/plain": [
       "11"
      ]
     },
     "execution_count": 122,
     "metadata": {},
     "output_type": "execute_result"
    }
   ],
   "source": [
    "int(str(re.findall('<span class=\"space\">(\\d+)坪</span>', str(data_basic))).lstrip(\"\\'\\[\").rstrip(\"\\'\\]\"))"
   ]
  },
  {
   "cell_type": "markdown",
   "metadata": {},
   "source": [
    "* space"
   ]
  },
  {
   "cell_type": "code",
   "execution_count": null,
   "metadata": {
    "collapsed": true
   },
   "outputs": [],
   "source": [
    "str(re.findall('<li>地址 : (\\w+)<\\/li>', str(data_basic))).lstrip(\"\\'\\[\").rstrip(\"\\'\\]\")"
   ]
  },
  {
   "cell_type": "code",
   "execution_count": null,
   "metadata": {
    "collapsed": true
   },
   "outputs": [],
   "source": []
  },
  {
   "cell_type": "code",
   "execution_count": null,
   "metadata": {
    "collapsed": true
   },
   "outputs": [],
   "source": []
  },
  {
   "cell_type": "markdown",
   "metadata": {},
   "source": [
    "* landlord"
   ]
  },
  {
   "cell_type": "code",
   "execution_count": 78,
   "metadata": {},
   "outputs": [
    {
     "data": {
      "text/plain": [
       "['屋主藍先生&蘇先生', '0981-39561', '(屋主聲明：仲介勿擾)']"
      ]
     },
     "execution_count": 78,
     "metadata": {},
     "output_type": "execute_result"
    }
   ],
   "source": [
    "soup.select('div[class=\"data_store\"]')[0].text.split()"
   ]
  },
  {
   "cell_type": "code",
   "execution_count": 79,
   "metadata": {},
   "outputs": [
    {
     "data": {
      "text/plain": [
       "'屋主藍先生&蘇先生0981-39561(屋主聲明：仲介勿擾)'"
      ]
     },
     "execution_count": 79,
     "metadata": {},
     "output_type": "execute_result"
    }
   ],
   "source": [
    "''.join(soup.select('div[class=\"data_store\"]')[0].text.split())"
   ]
  },
  {
   "cell_type": "markdown",
   "metadata": {
    "collapsed": true
   },
   "source": [
    "* description"
   ]
  },
  {
   "cell_type": "code",
   "execution_count": 73,
   "metadata": {},
   "outputs": [
    {
     "data": {
      "text/plain": [
       "'\\n特色推薦\\n●關心的問題：◆租金不含這些～水費、電費、管理費、網路◆可以開伙◆不能短租(一年為準) \\xa0◆不能設籍或登記 \\xa0◆基本電器設備：電熱水器、冷氣、冰箱、電磁爐具、微波爐 \\xa0◆基本附屬傢俱：沙發、衣櫃、茶几組、置物櫃、其他未註明依現況交屋出租、◆押金為二個月\\r\\n●特色說明：\\r\\n適商辦人士雙併電梯，24H管理，安全無煩惱、監視系統,，垃圾集中區(免分類免購環保袋)屋方正有窗、含傢俱立可進駐、生機能樣樣齊全。VIP運動休閒設備免費使用,熱水器、流理台冷氣、另有車位可承租\\r\\n●生活機能：\\r\\n百貨公司、大賣場、便利商店、傳統市場、夜市、近公園綠地、近學校、近醫療機構、近警察局、近銀行、小吃,應有盡有\\n'"
      ]
     },
     "execution_count": 73,
     "metadata": {},
     "output_type": "execute_result"
    }
   ],
   "source": [
    "soup.select('section[id=\"obj_characteristic\"]')[0].text"
   ]
  },
  {
   "cell_type": "code",
   "execution_count": null,
   "metadata": {
    "collapsed": true
   },
   "outputs": [],
   "source": []
  },
  {
   "cell_type": "code",
   "execution_count": 27,
   "metadata": {},
   "outputs": [
    {
     "ename": "SyntaxError",
     "evalue": "invalid syntax (<ipython-input-27-bb636150fbe8>, line 5)",
     "output_type": "error",
     "traceback": [
      "\u001b[1;36m  File \u001b[1;32m\"<ipython-input-27-bb636150fbe8>\"\u001b[1;36m, line \u001b[1;32m5\u001b[0m\n\u001b[1;33m    \"title\": ,\u001b[0m\n\u001b[1;37m             ^\u001b[0m\n\u001b[1;31mSyntaxError\u001b[0m\u001b[1;31m:\u001b[0m invalid syntax\n"
     ]
    }
   ],
   "source": [
    "json_data = {\n",
    "    \"id\": \"NA\",\n",
    "    \"cityID\": postalCode[city],\n",
    "    \"url\": data[\"url\"],\n",
    "    \"title\": ,\n",
    "    \"address\": ,\n",
    "    \"pattern\": \"NA\",\n",
    "    \"floor\": ,\n",
    "    \"stories\": ,\n",
    "    \"label\": ,\n",
    "    \"rent\": ,\n",
    "    \"lat\": ,\n",
    "    \"lng\": ,\n",
    "    \"sex\": \"NA\",\n",
    "    \"space\": ,\n",
    "    \"smoke\": \"NA\",\n",
    "    \"pet\": \"NA\",\n",
    "    \"cook\": \"NA\",\n",
    "    \"updateDate\": data[\"update\"],\n",
    "    \"landlord\": ,\n",
    "    \"description\": ,\n",
    "    \"temp\":\n",
    "}"
   ]
  },
  {
   "cell_type": "code",
   "execution_count": null,
   "metadata": {
    "collapsed": true
   },
   "outputs": [],
   "source": []
  }
 ],
 "metadata": {
  "kernelspec": {
   "display_name": "Python 3",
   "language": "python",
   "name": "python3"
  },
  "language_info": {
   "codemirror_mode": {
    "name": "ipython",
    "version": 3
   },
   "file_extension": ".py",
   "mimetype": "text/x-python",
   "name": "python",
   "nbconvert_exporter": "python",
   "pygments_lexer": "ipython3",
   "version": "3.6.1"
  }
 },
 "nbformat": 4,
 "nbformat_minor": 2
}
