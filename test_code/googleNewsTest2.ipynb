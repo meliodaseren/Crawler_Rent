{
 "cells": [
  {
   "cell_type": "code",
   "execution_count": 3,
   "metadata": {},
   "outputs": [
    {
     "name": "stdout",
     "output_type": "stream",
     "text": [
      "[]\n"
     ]
    }
   ],
   "source": [
    "from urllib.request import urlopen\n",
    "from bs4 import BeautifulSoup\n",
    "\n",
    "res = urlopen(\"https://news.google.com\")\n",
    "soup = BeautifulSoup(res, \"html.parser\")\n",
    "print(soup.select(\".esc-body\"))\n",
    "\n",
    "count = 1\n",
    "\n",
    "for item in soup.select(\".esc-body\"):\n",
    "    print('======[',count,']=========')\n",
    "    news_title = item.select(\".esc-lead-article-title\")[0].text\n",
    "    news_url = item.select(\".esc-lead-article-title\")[0].find('a')['href']\n",
    "    print(news_title)\n",
    "    print(news_url)\n",
    "    count += 1"
   ]
  },
  {
   "cell_type": "code",
   "execution_count": null,
   "metadata": {
    "collapsed": true
   },
   "outputs": [],
   "source": []
  }
 ],
 "metadata": {
  "kernelspec": {
   "display_name": "Python 3",
   "language": "python",
   "name": "python3"
  },
  "language_info": {
   "codemirror_mode": {
    "name": "ipython",
    "version": 3
   },
   "file_extension": ".py",
   "mimetype": "text/x-python",
   "name": "python",
   "nbconvert_exporter": "python",
   "pygments_lexer": "ipython3",
   "version": "3.6.1"
  }
 },
 "nbformat": 4,
 "nbformat_minor": 2
}
