{
 "cells": [
  {
   "cell_type": "code",
   "execution_count": 2,
   "metadata": {
    "collapsed": true
   },
   "outputs": [],
   "source": [
    "import glob\n",
    "import json\n",
    "import re\n",
    "from bs4 import BeautifulSoup"
   ]
  },
  {
   "cell_type": "code",
   "execution_count": 3,
   "metadata": {
    "collapsed": true
   },
   "outputs": [],
   "source": [
    "def readData(fileName):\n",
    "    try:\n",
    "        with open('./etwarm_json/' + fileName, \"rt\", encoding=\"utf-8\") as f:\n",
    "            data = json.load(f)\n",
    "            return data\n",
    "    except FileNotFoundError as e:\n",
    "        print(e)"
   ]
  },
  {
   "cell_type": "code",
   "execution_count": 4,
   "metadata": {
    "collapsed": true
   },
   "outputs": [],
   "source": [
    "def saveJson(data, filename):\n",
    "    with open(filename, \"w\", encoding=\"utf8\") as f:\n",
    "        json.dump(data, f, ensure_ascii=False)"
   ]
  },
  {
   "cell_type": "code",
   "execution_count": 5,
   "metadata": {
    "collapsed": true
   },
   "outputs": [],
   "source": [
    "# File list\n",
    "etwarm = glob.glob('./etwarm_json/*.json')\n",
    "\n",
    "# Extend file names to List\n",
    "etwarm0 = re.findall('\\.\\/etwarm_json\\\\\\\\(\\w+\\.json)', etwarm[0])\n",
    "for i in range(1, len(etwarm)):\n",
    "    etwarm0.extend(re.findall('\\.\\/etwarm_json\\\\\\\\(\\w+\\.json)', etwarm[i]))"
   ]
  },
  {
   "cell_type": "code",
   "execution_count": 40,
   "metadata": {},
   "outputs": [
    {
     "data": {
      "text/plain": [
       "['178343.json',\n",
       " '178378.json',\n",
       " '178450.json',\n",
       " '178501.json',\n",
       " '178707.json',\n",
       " '179181.json',\n",
       " '179257.json',\n",
       " '179368.json',\n",
       " '179476.json',\n",
       " '179529.json',\n",
       " '179587.json',\n",
       " '179730.json',\n",
       " '179791.json',\n",
       " '179908.json',\n",
       " '179952.json',\n",
       " '180135.json',\n",
       " '180273.json',\n",
       " '180510.json',\n",
       " '180534.json',\n",
       " '180535.json',\n",
       " '180564.json',\n",
       " '180607.json',\n",
       " '180635.json',\n",
       " '180762.json',\n",
       " '180765.json',\n",
       " '180778.json',\n",
       " '180916.json',\n",
       " '180984.json',\n",
       " '180985.json',\n",
       " '181055.json',\n",
       " '181116.json',\n",
       " '181139.json',\n",
       " '181144.json']"
      ]
     },
     "execution_count": 40,
     "metadata": {},
     "output_type": "execute_result"
    }
   ],
   "source": [
    "etwarm0"
   ]
  },
  {
   "cell_type": "code",
   "execution_count": 38,
   "metadata": {},
   "outputs": [
    {
     "data": {
      "text/plain": [
       "33"
      ]
     },
     "execution_count": 38,
     "metadata": {},
     "output_type": "execute_result"
    }
   ],
   "source": [
    "len(etwarm0)"
   ]
  },
  {
   "cell_type": "code",
   "execution_count": 41,
   "metadata": {
    "collapsed": true
   },
   "outputs": [],
   "source": [
    "data = readData(etwarm0[6])\n",
    "soup = BeautifulSoup(data[\"html\"], \"lxml\")"
   ]
  },
  {
   "cell_type": "code",
   "execution_count": 45,
   "metadata": {},
   "outputs": [
    {
     "data": {
      "text/plain": [
       "'http://www.etwarm.com.tw/rent-179257'"
      ]
     },
     "execution_count": 45,
     "metadata": {},
     "output_type": "execute_result"
    }
   ],
   "source": [
    "data[\"url\"]"
   ]
  },
  {
   "cell_type": "code",
   "execution_count": 46,
   "metadata": {},
   "outputs": [
    {
     "data": {
      "text/plain": [
       "<html><body><p>網站維護中</p></body></html>"
      ]
     },
     "execution_count": 46,
     "metadata": {},
     "output_type": "execute_result"
    }
   ],
   "source": [
    "soup"
   ]
  },
  {
   "cell_type": "markdown",
   "metadata": {},
   "source": [
    "* cityID"
   ]
  },
  {
   "cell_type": "code",
   "execution_count": 34,
   "metadata": {
    "collapsed": true
   },
   "outputs": [],
   "source": [
    "postalCode = {\n",
    "    \"中正區\": 100,\n",
    "    \"大同區\": 103,\n",
    "    \"中山區\": 104,\n",
    "    \"松山區\": 105,\n",
    "    \"大安區\": 106,\n",
    "    \"萬華區\": 108,\n",
    "    \"信義區\": 110,\n",
    "    \"士林區\": 111,\n",
    "    \"北投區\": 112,\n",
    "    \"內湖區\": 114,\n",
    "    \"南港區\": 115,\n",
    "    \"文山區\": 116,\n",
    "    \"萬里區\": 207,\n",
    "    \"金山區\": 208,\n",
    "    \"板橋區\": 220,\n",
    "    \"汐止區\": 221,\n",
    "    \"深坑區\": 222,\n",
    "    \"石碇區\": 223,\n",
    "    \"瑞芳區\": 224,\n",
    "    \"平溪區\": 226,\n",
    "    \"雙溪區\": 227,\n",
    "    \"貢寮區\": 228,\n",
    "    \"新店區\": 231,\n",
    "    \"坪林區\": 232,\n",
    "    \"烏來區\": 233,\n",
    "    \"永和區\": 234,\n",
    "    \"中和區\": 235,\n",
    "    \"土城區\": 236,\n",
    "    \"三峽區\": 237,\n",
    "    \"樹林區\": 238,\n",
    "    \"鶯歌區\": 239,\n",
    "    \"三重區\": 241,\n",
    "    \"新莊區\": 242,\n",
    "    \"泰山區\": 243,\n",
    "    \"林口區\": 244,\n",
    "    \"蘆洲區\": 247,\n",
    "    \"五股區\": 248,\n",
    "    \"八里區\": 249,\n",
    "    \"淡水區\": 251,\n",
    "    \"三芝區\": 252,\n",
    "    \"石門區\": 253\n",
    "}"
   ]
  },
  {
   "cell_type": "code",
   "execution_count": 35,
   "metadata": {},
   "outputs": [
    {
     "data": {
      "text/plain": [
       "'\\n\\n\\n\\n租屋\\n\\n\\n > \\n                                                \\n台北市\\n\\n\\n > \\n                                                \\n文山區\\n\\n\\n > \\n                                                \\n羅斯福路六段\\n\\n\\n'"
      ]
     },
     "execution_count": 35,
     "metadata": {},
     "output_type": "execute_result"
    }
   ],
   "source": [
    "soup.select('div[class=\"obj_data_route\"]')[0].text"
   ]
  },
  {
   "cell_type": "code",
   "execution_count": 36,
   "metadata": {
    "collapsed": true
   },
   "outputs": [],
   "source": [
    "city = soup.select('div[class=\"obj_data_route\"]')[0].select('a')[2].text.lstrip().rstrip()"
   ]
  },
  {
   "cell_type": "code",
   "execution_count": 37,
   "metadata": {},
   "outputs": [
    {
     "data": {
      "text/plain": [
       "116"
      ]
     },
     "execution_count": 37,
     "metadata": {},
     "output_type": "execute_result"
    }
   ],
   "source": [
    "postalCode[city]"
   ]
  },
  {
   "cell_type": "markdown",
   "metadata": {},
   "source": [
    "* title"
   ]
  },
  {
   "cell_type": "code",
   "execution_count": 52,
   "metadata": {},
   "outputs": [
    {
     "data": {
      "text/plain": [
       "'花博電梯陽光套房0981-395619'"
      ]
     },
     "execution_count": 52,
     "metadata": {},
     "output_type": "execute_result"
    }
   ],
   "source": [
    "soup.select('div[class=\"obj_data_basic\"]')[0].select('h1')[0].text"
   ]
  },
  {
   "cell_type": "markdown",
   "metadata": {},
   "source": [
    "* address"
   ]
  },
  {
   "cell_type": "code",
   "execution_count": 63,
   "metadata": {},
   "outputs": [
    {
     "data": {
      "text/plain": [
       "[<li>\n",
       " <div class=\"obj_data_contain fl\">\n",
       " <span class=\"price\">12,000</span> 元 / 月\n",
       "             </div>\n",
       " </li>,\n",
       " <li>面積 : <span class=\"space\">11坪</span></li>,\n",
       " <li>用途/型態 : 獨立套房 / 華廈</li>,\n",
       " <li>樓層 : 2/6(總樓層)</li>,\n",
       " <li>地址 : 台北市中山區松江路</li>,\n",
       " <li>\n",
       " <a href=\"rent/house_warning.html\" id=\"etwarm_rentwarning\">\n",
       " <img height=\"20\" src=\"images/icon_Warning.png\" style=\"vertical-align: middle;\" width=\"20\"/>\n",
       " <span style=\"color: #ff0000\">租屋注意事項&amp;房屋租賃定型化契約</span>\n",
       " </a>\n",
       " </li>]"
      ]
     },
     "execution_count": 63,
     "metadata": {},
     "output_type": "execute_result"
    }
   ],
   "source": [
    "soup.select('ul[class=\"data_basic\"]')[0].select('li')"
   ]
  },
  {
   "cell_type": "code",
   "execution_count": 111,
   "metadata": {},
   "outputs": [
    {
     "data": {
      "text/plain": [
       "'[<li>\\n<div class=\"obj_data_contain fl\">\\n<span class=\"price\">12,000</span> 元 / 月\\n            </div>\\n</li>, <li>面積 : <span class=\"space\">11坪</span></li>, <li>用途/型態 : 獨立套房 / 華廈</li>, <li>樓層 : 2/6(總樓層)</li>, <li>地址 : 台北市中山區松江路</li>, <li>\\n<a href=\"rent/house_warning.html\" id=\"etwarm_rentwarning\">\\n<img height=\"20\" src=\"images/icon_Warning.png\" style=\"vertical-align: middle;\" width=\"20\"/>\\n<span style=\"color: #ff0000\">租屋注意事項&amp;房屋租賃定型化契約</span>\\n</a>\\n</li>]'"
      ]
     },
     "execution_count": 111,
     "metadata": {},
     "output_type": "execute_result"
    }
   ],
   "source": [
    "data_basic = soup.select('ul[class=\"data_basic\"]')[0].findAll('li')\n",
    "str(data_basic)"
   ]
  },
  {
   "cell_type": "code",
   "execution_count": 119,
   "metadata": {},
   "outputs": [
    {
     "data": {
      "text/plain": [
       "11"
      ]
     },
     "execution_count": 119,
     "metadata": {},
     "output_type": "execute_result"
    }
   ],
   "source": [
    "int(''.join(re.findall('<span class=\"space\">(\\d+)坪</span>', str(data_basic))))"
   ]
  },
  {
   "cell_type": "code",
   "execution_count": 122,
   "metadata": {},
   "outputs": [
    {
     "data": {
      "text/plain": [
       "11"
      ]
     },
     "execution_count": 122,
     "metadata": {},
     "output_type": "execute_result"
    }
   ],
   "source": [
    "int(str(re.findall('<span class=\"space\">(\\d+)坪</span>', str(data_basic))).lstrip(\"\\'\\[\").rstrip(\"\\'\\]\"))"
   ]
  },
  {
   "cell_type": "markdown",
   "metadata": {},
   "source": [
    "* space"
   ]
  },
  {
   "cell_type": "code",
   "execution_count": null,
   "metadata": {
    "collapsed": true
   },
   "outputs": [],
   "source": [
    "str(re.findall('<li>地址 : (\\w+)<\\/li>', str(data_basic))).lstrip(\"\\'\\[\").rstrip(\"\\'\\]\")"
   ]
  },
  {
   "cell_type": "code",
   "execution_count": null,
   "metadata": {
    "collapsed": true
   },
   "outputs": [],
   "source": []
  },
  {
   "cell_type": "code",
   "execution_count": null,
   "metadata": {
    "collapsed": true
   },
   "outputs": [],
   "source": []
  },
  {
   "cell_type": "markdown",
   "metadata": {},
   "source": [
    "* landlord"
   ]
  },
  {
   "cell_type": "code",
   "execution_count": 78,
   "metadata": {},
   "outputs": [
    {
     "data": {
      "text/plain": [
       "['屋主藍先生&蘇先生', '0981-39561', '(屋主聲明：仲介勿擾)']"
      ]
     },
     "execution_count": 78,
     "metadata": {},
     "output_type": "execute_result"
    }
   ],
   "source": [
    "soup.select('div[class=\"data_store\"]')[0].text.split()"
   ]
  },
  {
   "cell_type": "code",
   "execution_count": 79,
   "metadata": {},
   "outputs": [
    {
     "data": {
      "text/plain": [
       "'屋主藍先生&蘇先生0981-39561(屋主聲明：仲介勿擾)'"
      ]
     },
     "execution_count": 79,
     "metadata": {},
     "output_type": "execute_result"
    }
   ],
   "source": [
    "''.join(soup.select('div[class=\"data_store\"]')[0].text.split())"
   ]
  },
  {
   "cell_type": "markdown",
   "metadata": {
    "collapsed": true
   },
   "source": [
    "* description"
   ]
  },
  {
   "cell_type": "code",
   "execution_count": 13,
   "metadata": {
    "scrolled": true
   },
   "outputs": [
    {
     "data": {
      "text/plain": [
       "'\\n特色推薦\\n●關心的問題：◆租金不含這些～水費、電費、管理費、網路◆可以開伙◆不能短租(一年為準) \\xa0◆不能設籍或登記 \\xa0◆基本電器設備：電熱水器、冷氣、冰箱、電磁爐具、微波爐 \\xa0◆基本附屬傢俱：沙發、衣櫃、茶几組、置物櫃、其他未註明依現況交屋出租、◆押金為二個月\\r\\n●特色說明：\\r\\n適商辦人士雙併電梯，24H管理，安全無煩惱、監視系統,，垃圾集中區(免分類免購環保袋)屋方正有窗、含傢俱立可進駐、生機能樣樣齊全。VIP運動休閒設備免費使用,熱水器、流理台冷氣、另有車位可承租\\r\\n●生活機能：\\r\\n百貨公司、大賣場、便利商店、傳統市場、夜市、近公園綠地、近學校、近醫療機構、近警察局、近銀行、小吃,應有盡有\\n'"
      ]
     },
     "execution_count": 13,
     "metadata": {},
     "output_type": "execute_result"
    }
   ],
   "source": [
    "soup.select('section[id=\"obj_characteristic\"]')[0].text"
   ]
  },
  {
   "cell_type": "code",
   "execution_count": null,
   "metadata": {
    "collapsed": true
   },
   "outputs": [],
   "source": []
  },
  {
   "cell_type": "code",
   "execution_count": 27,
   "metadata": {},
   "outputs": [
    {
     "ename": "SyntaxError",
     "evalue": "invalid syntax (<ipython-input-27-bb636150fbe8>, line 5)",
     "output_type": "error",
     "traceback": [
      "\u001b[1;36m  File \u001b[1;32m\"<ipython-input-27-bb636150fbe8>\"\u001b[1;36m, line \u001b[1;32m5\u001b[0m\n\u001b[1;33m    \"title\": ,\u001b[0m\n\u001b[1;37m             ^\u001b[0m\n\u001b[1;31mSyntaxError\u001b[0m\u001b[1;31m:\u001b[0m invalid syntax\n"
     ]
    }
   ],
   "source": [
    "json_data = {\n",
    "    \"id\": \"NA\",\n",
    "    \"cityID\": postalCode[city],\n",
    "    \"url\": data[\"url\"],\n",
    "    \"title\": ,\n",
    "    \"address\": ,\n",
    "    \"pattern\": \"NA\",\n",
    "    \"floor\": ,\n",
    "    \"stories\": ,\n",
    "    \"label\": ,\n",
    "    \"rent\": ,\n",
    "    \"lat\": ,\n",
    "    \"lng\": ,\n",
    "    \"sex\": \"NA\",\n",
    "    \"space\": ,\n",
    "    \"smoke\": \"NA\",\n",
    "    \"pet\": \"NA\",\n",
    "    \"cook\": \"NA\",\n",
    "    \"updateDate\": data[\"update\"],\n",
    "    \"landlord\": ,\n",
    "    \"description\": ,\n",
    "    \"temp\":\n",
    "}"
   ]
  },
  {
   "cell_type": "code",
   "execution_count": 10,
   "metadata": {},
   "outputs": [],
   "source": [
    "landlord = lambda x: x if soup.select('section[id=\"obj_characteristic\"]')[0].text else \"NA\""
   ]
  },
  {
   "cell_type": "code",
   "execution_count": 27,
   "metadata": {},
   "outputs": [
    {
     "ename": "SyntaxError",
     "evalue": "invalid syntax (<ipython-input-27-33c3d8f87a88>, line 3)",
     "output_type": "error",
     "traceback": [
      "\u001b[1;36m  File \u001b[1;32m\"<ipython-input-27-33c3d8f87a88>\"\u001b[1;36m, line \u001b[1;32m3\u001b[0m\n\u001b[1;33m    else:\u001b[0m\n\u001b[1;37m       ^\u001b[0m\n\u001b[1;31mSyntaxError\u001b[0m\u001b[1;31m:\u001b[0m invalid syntax\n"
     ]
    }
   ],
   "source": [
    "try:\n",
    "    landlord = soup.select('section[id=\"obj_characteristic\"]')[0].text\n",
    "except:\n",
    "    \"NA\""
   ]
  },
  {
   "cell_type": "code",
   "execution_count": 26,
   "metadata": {},
   "outputs": [
    {
     "data": {
      "text/plain": [
       "'\\n特色推薦\\n●關心的問題：◆租金不含這些～水費、電費、管理費、網路◆可以開伙◆不能短租(一年為準) \\xa0◆不能設籍或登記 \\xa0◆基本電器設備：電熱水器、冷氣、冰箱、電磁爐具、微波爐 \\xa0◆基本附屬傢俱：沙發、衣櫃、茶几組、置物櫃、其他未註明依現況交屋出租、◆押金為二個月\\r\\n●特色說明：\\r\\n適商辦人士雙併電梯，24H管理，安全無煩惱、監視系統,，垃圾集中區(免分類免購環保袋)屋方正有窗、含傢俱立可進駐、生機能樣樣齊全。VIP運動休閒設備免費使用,熱水器、流理台冷氣、另有車位可承租\\r\\n●生活機能：\\r\\n百貨公司、大賣場、便利商店、傳統市場、夜市、近公園綠地、近學校、近醫療機構、近警察局、近銀行、小吃,應有盡有\\n'"
      ]
     },
     "execution_count": 26,
     "metadata": {},
     "output_type": "execute_result"
    }
   ],
   "source": [
    "landlord"
   ]
  },
  {
   "cell_type": "code",
   "execution_count": 29,
   "metadata": {},
   "outputs": [
    {
     "data": {
      "text/plain": [
       "11.0"
      ]
     },
     "execution_count": 29,
     "metadata": {},
     "output_type": "execute_result"
    }
   ],
   "source": [
    "data_basic = soup.select('ul[class=\"data_basic\"]')[0].findAll('li')\n",
    "float(''.join(re.findall('<span class=\"space\">(\\w+)坪</span>', str(data_basic))))"
   ]
  },
  {
   "cell_type": "code",
   "execution_count": null,
   "metadata": {
    "collapsed": true
   },
   "outputs": [],
   "source": []
  }
 ],
 "metadata": {
  "kernelspec": {
   "display_name": "Python 3",
   "language": "python",
   "name": "python3"
  },
  "language_info": {
   "codemirror_mode": {
    "name": "ipython",
    "version": 3
   },
   "file_extension": ".py",
   "mimetype": "text/x-python",
   "name": "python",
   "nbconvert_exporter": "python",
   "pygments_lexer": "ipython3",
   "version": "3.6.1"
  }
 },
 "nbformat": 4,
 "nbformat_minor": 2
}
