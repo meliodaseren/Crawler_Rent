{
 "cells": [
  {
   "cell_type": "code",
   "execution_count": 1,
   "metadata": {
    "collapsed": true
   },
   "outputs": [],
   "source": [
    "import requests\n",
    "from bs4 import BeautifulSoup"
   ]
  },
  {
   "cell_type": "code",
   "execution_count": 3,
   "metadata": {
    "collapsed": true
   },
   "outputs": [],
   "source": [
    "res = requests.get('https://tw.news.yahoo.com/search?p=%E5%8F%B0%E5%8C%97+%E7%A7%9F%E6%88%BF')\n",
    "soup = BeautifulSoup(res.text,'lxml')"
   ]
  },
  {
   "cell_type": "code",
   "execution_count": 6,
   "metadata": {},
   "outputs": [
    {
     "data": {
      "text/plain": [
       "<h3 class=\"Mb(5px)\" data-reactid=\"10\"><a class=\"Fw(b) Fz(20px) Lh(23px) LineClamp(2,46px) Fz(17px)--sm1024 Lh(19px)--sm1024 LineClamp(2,38px)--sm1024 Td(n) C(#0078ff):h C(#000)\" data-reactid=\"11\" href=\"https://tw.news.yahoo.com/%E8%B2%B7%E5%B1%8B%E8%A8%98%E9%96%8B%E9%8F%A1-%E6%8E%A2%E8%A8%8E%E5%8F%B0%E7%81%A3%E9%AB%98%E6%88%BF%E5%83%B9%E8%AD%B0%E9%A1%8C-133036347.html\"><u class=\"StretchedBox\" data-reactid=\"12\"></u><!-- react-text: 13 -->買屋記開鏡 探討台灣高房價議題<!-- /react-text --></a></h3>"
      ]
     },
     "execution_count": 6,
     "metadata": {},
     "output_type": "execute_result"
    }
   ],
   "source": [
    "soup.select('.Mb(5px)')[0]"
   ]
  },
  {
   "cell_type": "code",
   "execution_count": null,
   "metadata": {
    "collapsed": true
   },
   "outputs": [],
   "source": []
  }
 ],
 "metadata": {
  "kernelspec": {
   "display_name": "Python 3",
   "language": "python",
   "name": "python3"
  },
  "language_info": {
   "codemirror_mode": {
    "name": "ipython",
    "version": 3
   },
   "file_extension": ".py",
   "mimetype": "text/x-python",
   "name": "python",
   "nbconvert_exporter": "python",
   "pygments_lexer": "ipython3",
   "version": "3.6.1"
  }
 },
 "nbformat": 4,
 "nbformat_minor": 2
}
