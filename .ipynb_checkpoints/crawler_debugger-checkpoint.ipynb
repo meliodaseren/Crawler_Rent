{
 "cells": [
  {
   "cell_type": "code",
   "execution_count": 5,
   "metadata": {
    "collapsed": true
   },
   "outputs": [],
   "source": [
    "import math\n",
    "import requests\n",
    "from bs4 import BeautifulSoup"
   ]
  },
  {
   "cell_type": "code",
   "execution_count": 6,
   "metadata": {
    "collapsed": true
   },
   "outputs": [],
   "source": [
    "res = requests.get(\"http://www.etwarm.com.tw/rent/object_list?area=台北市&keyword=套房\")\n",
    "soup = BeautifulSoup(res.text, \"lxml\")\n",
    "\n",
    "index = \"http://www.etwarm.com.tw/rent/object_list?area=台北市&keyword=套房&page=1\""
   ]
  },
  {
   "cell_type": "markdown",
   "metadata": {},
   "source": [
    "### 取得每個房屋物件的連結"
   ]
  },
  {
   "cell_type": "code",
   "execution_count": 11,
   "metadata": {
    "scrolled": true
   },
   "outputs": [
    {
     "data": {
      "text/plain": [
       "[<div class=\"obj_info\">\n",
       " <h3>\n",
       " <a href=\"http://www.etwarm.com.tw/rent-180985\" target=\"_blank\">\n",
       " \t\t\t        \t\t電梯華廈大<span class=\"search_txt\">套房</span> </a>\n",
       " </h3>\n",
       " <div class=\"obj_content\">台北市中山區松江路</div>\n",
       " <ul class=\"obj_detail\">\n",
       " <li>華廈</li>\n",
       " <li>20坪</li>\n",
       " <li>3/6(總樓層)</li>\n",
       " </ul>\n",
       " </div>, <div class=\"obj_info\">\n",
       " <h3>\n",
       " <a href=\"http://www.etwarm.com.tw/rent-180984\" target=\"_blank\">\n",
       " \t\t\t        \t\t雙連捷運小資電梯<span class=\"search_txt\">套房</span> </a>\n",
       " </h3>\n",
       " <div class=\"obj_content\">台北市大同區民生西路</div>\n",
       " <ul class=\"obj_detail\">\n",
       " <li>華廈</li>\n",
       " <li>5坪</li>\n",
       " <li>10/12(總樓層)</li>\n",
       " </ul>\n",
       " </div>, <div class=\"obj_info\">\n",
       " <h3>\n",
       " <a href=\"http://www.etwarm.com.tw/rent-180804\" target=\"_blank\">\n",
       " \t\t\t        \t\t電梯頂加<span class=\"search_txt\">套房</span>(F6)\t\t\t        \t</a>\n",
       " </h3>\n",
       " <div class=\"obj_content\">台北市中山區中山北路路三段</div>\n",
       " <ul class=\"obj_detail\">\n",
       " <li>華廈</li>\n",
       " <li>開放空間</li>\n",
       " <li>13.17坪</li>\n",
       " <li>9樓</li>\n",
       " </ul>\n",
       " </div>, <div class=\"obj_info\">\n",
       " <h3>\n",
       " <a href=\"http://www.etwarm.com.tw/rent-180778\" target=\"_blank\">\n",
       " \t\t\t        \t\t環境佳交通便利(近捷運龍山寺站)<span class=\"search_txt\">套房</span>出租\t\t\t        \t</a>\n",
       " </h3>\n",
       " <div class=\"obj_content\">台北市萬華區環河南路2段280巷</div>\n",
       " <ul class=\"obj_detail\">\n",
       " <li>公寓</li>\n",
       " <li>8坪</li>\n",
       " <li>4/4(總樓層)</li>\n",
       " </ul>\n",
       " </div>, <div class=\"obj_info\">\n",
       " <h3>\n",
       " <a href=\"http://www.etwarm.com.tw/rent-180765\" target=\"_blank\">\n",
       " \t\t\t        \t\t農安街美<span class=\"search_txt\">套房</span>F50\t\t\t        \t</a>\n",
       " </h3>\n",
       " <div class=\"obj_content\">台北市中山區農安街</div>\n",
       " <ul class=\"obj_detail\">\n",
       " <li>大樓</li>\n",
       " <li>1房1廳1衛</li>\n",
       " <li>9.8坪</li>\n",
       " <li>7 / 6(總樓層)</li>\n",
       " </ul>\n",
       " </div>, <div class=\"obj_info\">\n",
       " <h3>\n",
       " <a href=\"http://www.etwarm.com.tw/rent-180635\" target=\"_blank\">\n",
       " \t\t\t        \t\t12324-聖羅蘭<span class=\"search_txt\">套房</span> </a>\n",
       " </h3>\n",
       " <div class=\"obj_content\">台北市大安區仁愛路仁愛段</div>\n",
       " <ul class=\"obj_detail\">\n",
       " <li>華廈</li>\n",
       " <li>1房1廳1衛</li>\n",
       " <li>12.89坪</li>\n",
       " <li>2 / 11(總樓層)</li>\n",
       " </ul>\n",
       " </div>, <div class=\"obj_info\">\n",
       " <h3>\n",
       " <a href=\"http://www.etwarm.com.tw/rent-180607\" target=\"_blank\">\n",
       " \t\t\t        \t\t花博電梯溫馨<span class=\"search_txt\">套房</span>0926986801\t\t\t        \t</a>\n",
       " </h3>\n",
       " <div class=\"obj_content\">台北市中山區松江路</div>\n",
       " <ul class=\"obj_detail\">\n",
       " <li>華廈</li>\n",
       " <li>11坪</li>\n",
       " <li>3/6(總樓層)</li>\n",
       " </ul>\n",
       " </div>, <div class=\"obj_info\">\n",
       " <h3>\n",
       " <a href=\"http://www.etwarm.com.tw/rent-180564\" target=\"_blank\">\n",
       " \t\t\t        \t\t花博電梯陽光<span class=\"search_txt\">套房</span>0981-395619\t\t\t        \t</a>\n",
       " </h3>\n",
       " <div class=\"obj_content\">台北市中山區松江路</div>\n",
       " <ul class=\"obj_detail\">\n",
       " <li>華廈</li>\n",
       " <li>11坪</li>\n",
       " <li>2/6(總樓層)</li>\n",
       " </ul>\n",
       " </div>, <div class=\"obj_info\">\n",
       " <h3>\n",
       " <a href=\"http://www.etwarm.com.tw/rent-180535\" target=\"_blank\">\n",
       " \t\t\t        \t\t台北市羅斯福路安靜乾淨二樓公寓大<span class=\"search_txt\">套房</span>出租\t\t\t        \t</a>\n",
       " </h3>\n",
       " <div class=\"obj_content\">台北市文山區羅斯福路5段53巷</div>\n",
       " <ul class=\"obj_detail\">\n",
       " <li>公寓</li>\n",
       " <li>9坪</li>\n",
       " <li>2/4(總樓層)</li>\n",
       " </ul>\n",
       " </div>, <div class=\"obj_info\">\n",
       " <h3>\n",
       " <a href=\"http://www.etwarm.com.tw/rent-180534\" target=\"_blank\">\n",
       " \t\t\t        \t\t台北市一樓別墅花園獨立大<span class=\"search_txt\">套房</span>出租近捷運站\t\t\t        \t</a>\n",
       " </h3>\n",
       " <div class=\"obj_content\">台北市文山區興隆路四段1巷</div>\n",
       " <ul class=\"obj_detail\">\n",
       " <li>透天</li>\n",
       " <li>10坪</li>\n",
       " <li>1/3(總樓層)</li>\n",
       " </ul>\n",
       " </div>]"
      ]
     },
     "execution_count": 11,
     "metadata": {},
     "output_type": "execute_result"
    }
   ],
   "source": [
    "# BeautifulSoup(res.text, \"lxml\").select('ul[class=\"obj_list\"]')\n",
    "# soup.select('div[class=\"obj_info\"]')\n",
    "soup.select('div.obj_info')"
   ]
  },
  {
   "cell_type": "code",
   "execution_count": 9,
   "metadata": {
    "scrolled": true
   },
   "outputs": [
    {
     "ename": "ValueError",
     "evalue": "Unsupported or invalid CSS selector: \"a(9)\"",
     "output_type": "error",
     "traceback": [
      "\u001b[1;31m---------------------------------------------------------------------------\u001b[0m",
      "\u001b[1;31mValueError\u001b[0m                                Traceback (most recent call last)",
      "\u001b[1;32m<ipython-input-9-7cad9604281a>\u001b[0m in \u001b[0;36m<module>\u001b[1;34m()\u001b[0m\n\u001b[0;32m      1\u001b[0m \u001b[0msoup\u001b[0m\u001b[1;33m.\u001b[0m\u001b[0mselect\u001b[0m\u001b[1;33m(\u001b[0m\u001b[1;34m'div[class=\"obj_info\"]'\u001b[0m\u001b[1;33m)\u001b[0m\u001b[1;33m[\u001b[0m\u001b[1;36m9\u001b[0m\u001b[1;33m]\u001b[0m\u001b[1;33m.\u001b[0m\u001b[0mselect\u001b[0m\u001b[1;33m(\u001b[0m\u001b[1;34m'a'\u001b[0m\u001b[1;33m)\u001b[0m\u001b[1;33m[\u001b[0m\u001b[1;36m0\u001b[0m\u001b[1;33m]\u001b[0m\u001b[1;33m[\u001b[0m\u001b[1;34m'href'\u001b[0m\u001b[1;33m]\u001b[0m\u001b[1;33m\u001b[0m\u001b[0m\n\u001b[1;32m----> 2\u001b[1;33m \u001b[0msoup\u001b[0m\u001b[1;33m.\u001b[0m\u001b[0mselect\u001b[0m\u001b[1;33m(\u001b[0m\u001b[1;34m\".obj_info > a(9) > a(0) > href\"\u001b[0m\u001b[1;33m)\u001b[0m\u001b[1;33m\u001b[0m\u001b[0m\n\u001b[0m",
      "\u001b[1;32mD:\\Anaconda3\\lib\\site-packages\\bs4\\element.py\u001b[0m in \u001b[0;36mselect\u001b[1;34m(self, selector, _candidate_generator, limit)\u001b[0m\n\u001b[0;32m   1530\u001b[0m                     print(\"    Running candidate generator on %s %s\" % (\n\u001b[0;32m   1531\u001b[0m                         tag.name, repr(tag.attrs)))\n\u001b[1;32m-> 1532\u001b[1;33m                 \u001b[1;32mfor\u001b[0m \u001b[0mcandidate\u001b[0m \u001b[1;32min\u001b[0m \u001b[0m_use_candidate_generator\u001b[0m\u001b[1;33m(\u001b[0m\u001b[0mtag\u001b[0m\u001b[1;33m)\u001b[0m\u001b[1;33m:\u001b[0m\u001b[1;33m\u001b[0m\u001b[0m\n\u001b[0m\u001b[0;32m   1533\u001b[0m                     \u001b[1;32mif\u001b[0m \u001b[1;32mnot\u001b[0m \u001b[0misinstance\u001b[0m\u001b[1;33m(\u001b[0m\u001b[0mcandidate\u001b[0m\u001b[1;33m,\u001b[0m \u001b[0mTag\u001b[0m\u001b[1;33m)\u001b[0m\u001b[1;33m:\u001b[0m\u001b[1;33m\u001b[0m\u001b[0m\n\u001b[0;32m   1534\u001b[0m                         \u001b[1;32mcontinue\u001b[0m\u001b[1;33m\u001b[0m\u001b[0m\n",
      "\u001b[1;32mD:\\Anaconda3\\lib\\site-packages\\bs4\\element.py\u001b[0m in \u001b[0;36mrecursive_select\u001b[1;34m(tag)\u001b[0m\n\u001b[0;32m   1491\u001b[0m                         \u001b[0mprint\u001b[0m\u001b[1;33m(\u001b[0m\u001b[1;34m'    Calling select(\"%s\") recursively on %s %s'\u001b[0m \u001b[1;33m%\u001b[0m \u001b[1;33m(\u001b[0m\u001b[0mnext_token\u001b[0m\u001b[1;33m,\u001b[0m \u001b[0mtag\u001b[0m\u001b[1;33m.\u001b[0m\u001b[0mname\u001b[0m\u001b[1;33m,\u001b[0m \u001b[0mtag\u001b[0m\u001b[1;33m.\u001b[0m\u001b[0mattrs\u001b[0m\u001b[1;33m)\u001b[0m\u001b[1;33m)\u001b[0m\u001b[1;33m\u001b[0m\u001b[0m\n\u001b[0;32m   1492\u001b[0m                         \u001b[0mprint\u001b[0m\u001b[1;33m(\u001b[0m\u001b[1;34m'-'\u001b[0m \u001b[1;33m*\u001b[0m \u001b[1;36m40\u001b[0m\u001b[1;33m)\u001b[0m\u001b[1;33m\u001b[0m\u001b[0m\n\u001b[1;32m-> 1493\u001b[1;33m                     \u001b[1;32mfor\u001b[0m \u001b[0mi\u001b[0m \u001b[1;32min\u001b[0m \u001b[0mtag\u001b[0m\u001b[1;33m.\u001b[0m\u001b[0mselect\u001b[0m\u001b[1;33m(\u001b[0m\u001b[0mnext_token\u001b[0m\u001b[1;33m,\u001b[0m \u001b[0mrecursive_candidate_generator\u001b[0m\u001b[1;33m)\u001b[0m\u001b[1;33m:\u001b[0m\u001b[1;33m\u001b[0m\u001b[0m\n\u001b[0m\u001b[0;32m   1494\u001b[0m                         \u001b[1;32mif\u001b[0m \u001b[0mself\u001b[0m\u001b[1;33m.\u001b[0m\u001b[0m_select_debug\u001b[0m\u001b[1;33m:\u001b[0m\u001b[1;33m\u001b[0m\u001b[0m\n\u001b[0;32m   1495\u001b[0m                             \u001b[0mprint\u001b[0m\u001b[1;33m(\u001b[0m\u001b[1;34m'(Recursive select picked up candidate %s %s)'\u001b[0m \u001b[1;33m%\u001b[0m \u001b[1;33m(\u001b[0m\u001b[0mi\u001b[0m\u001b[1;33m.\u001b[0m\u001b[0mname\u001b[0m\u001b[1;33m,\u001b[0m \u001b[0mi\u001b[0m\u001b[1;33m.\u001b[0m\u001b[0mattrs\u001b[0m\u001b[1;33m)\u001b[0m\u001b[1;33m)\u001b[0m\u001b[1;33m\u001b[0m\u001b[0m\n",
      "\u001b[1;32mD:\\Anaconda3\\lib\\site-packages\\bs4\\element.py\u001b[0m in \u001b[0;36mselect\u001b[1;34m(self, selector, _candidate_generator, limit)\u001b[0m\n\u001b[0;32m   1475\u001b[0m             \u001b[1;32melse\u001b[0m\u001b[1;33m:\u001b[0m\u001b[1;33m\u001b[0m\u001b[0m\n\u001b[0;32m   1476\u001b[0m                 raise ValueError(\n\u001b[1;32m-> 1477\u001b[1;33m                     'Unsupported or invalid CSS selector: \"%s\"' % token)\n\u001b[0m\u001b[0;32m   1478\u001b[0m             \u001b[1;32mif\u001b[0m \u001b[0mrecursive_candidate_generator\u001b[0m\u001b[1;33m:\u001b[0m\u001b[1;33m\u001b[0m\u001b[0m\n\u001b[0;32m   1479\u001b[0m                 \u001b[1;31m# This happens when the selector looks like  \"> foo\".\u001b[0m\u001b[1;33m\u001b[0m\u001b[1;33m\u001b[0m\u001b[0m\n",
      "\u001b[1;31mValueError\u001b[0m: Unsupported or invalid CSS selector: \"a(9)\""
     ]
    }
   ],
   "source": [
    "soup.select('div[class=\"obj_info\"]')[9].select('a')[0]['href']\n"
   ]
  },
  {
   "cell_type": "markdown",
   "metadata": {},
   "source": [
    "### 取得每個房屋物件的標題"
   ]
  },
  {
   "cell_type": "code",
   "execution_count": 40,
   "metadata": {
    "scrolled": true
   },
   "outputs": [
    {
     "data": {
      "text/plain": [
       "<a href=\"http://www.etwarm.com.tw/rent-180985\" target=\"_blank\">\n",
       "\t\t\t        \t\t電梯華廈大<span class=\"search_txt\">套房</span> </a>"
      ]
     },
     "execution_count": 40,
     "metadata": {},
     "output_type": "execute_result"
    }
   ],
   "source": [
    "soup.select('div[class=\"obj_info\"]')[0].select('a')[0]"
   ]
  },
  {
   "cell_type": "code",
   "execution_count": 54,
   "metadata": {},
   "outputs": [
    {
     "data": {
      "text/plain": [
       "\"['電梯華廈大套房']\""
      ]
     },
     "execution_count": 54,
     "metadata": {},
     "output_type": "execute_result"
    }
   ],
   "source": [
    "title = soup.select('div[class=\"obj_info\"]')[0].select('a')[0].text.split()\n",
    "str(title)"
   ]
  },
  {
   "cell_type": "code",
   "execution_count": 55,
   "metadata": {},
   "outputs": [
    {
     "data": {
      "text/plain": [
       "re.compile(r\"['電梯華廈大套房']\", re.UNICODE)"
      ]
     },
     "execution_count": 55,
     "metadata": {},
     "output_type": "execute_result"
    }
   ],
   "source": [
    "import re\n",
    "re.compile(str(title), '$')"
   ]
  },
  {
   "cell_type": "markdown",
   "metadata": {},
   "source": [
    "### 取得總筆數及頁數"
   ]
  },
  {
   "cell_type": "code",
   "execution_count": 6,
   "metadata": {},
   "outputs": [
    {
     "data": {
      "text/plain": [
       "22"
      ]
     },
     "execution_count": 6,
     "metadata": {},
     "output_type": "execute_result"
    }
   ],
   "source": [
    "totalPieces = int(soup.select('div[class=\"object_mode\"]')[0].select('span')[0].text)\n",
    "totalPieces"
   ]
  },
  {
   "cell_type": "code",
   "execution_count": 7,
   "metadata": {},
   "outputs": [
    {
     "data": {
      "text/plain": [
       "3"
      ]
     },
     "execution_count": 7,
     "metadata": {},
     "output_type": "execute_result"
    }
   ],
   "source": [
    "totalPages = math.ceil(totalPieces / 10)\n",
    "totalPages"
   ]
  },
  {
   "cell_type": "code",
   "execution_count": 9,
   "metadata": {},
   "outputs": [
    {
     "data": {
      "text/plain": [
       "10"
      ]
     },
     "execution_count": 9,
     "metadata": {},
     "output_type": "execute_result"
    }
   ],
   "source": [
    "obj_info = soup.select('div[class=\"obj_info\"]')\n",
    "totalObj = len(obj_info)\n",
    "totalObj"
   ]
  },
  {
   "cell_type": "markdown",
   "metadata": {},
   "source": [
    "## Test 1"
   ]
  },
  {
   "cell_type": "code",
   "execution_count": 16,
   "metadata": {
    "collapsed": true
   },
   "outputs": [],
   "source": [
    "def getTotalPages(href):\n",
    "    res = requests.get(href)\n",
    "    soup = BeautifulSoup(res.text, \"lxml\")\n",
    "    totalPieces = int(soup.select('div[class=\"object_mode\"]')[0].select('span')[0].text)\n",
    "    res.close()\n",
    "    # 10 house objects in each page\n",
    "    totalPages = math.ceil(totalPieces / 10)\n",
    "    return totalPages"
   ]
  },
  {
   "cell_type": "code",
   "execution_count": 17,
   "metadata": {},
   "outputs": [
    {
     "name": "stdout",
     "output_type": "stream",
     "text": [
      "Total Pages: 3\n"
     ]
    }
   ],
   "source": [
    "totalPages = getTotalPages(index)\n",
    "print(\"Total Pages: \" + str(totalPages))"
   ]
  },
  {
   "cell_type": "markdown",
   "metadata": {},
   "source": [
    "## Test 2"
   ]
  },
  {
   "cell_type": "code",
   "execution_count": 20,
   "metadata": {
    "collapsed": true
   },
   "outputs": [],
   "source": [
    "for page in range(1, totalPages + 1):\n",
    "    indexf = index[:-1] + \"{}\"\n",
    "    href = indexf.format(page)\n",
    "    res = requests.get(href)\n",
    "    soup = BeautifulSoup(res.text, \"lxml\")"
   ]
  },
  {
   "cell_type": "code",
   "execution_count": 26,
   "metadata": {},
   "outputs": [
    {
     "data": {
      "text/plain": [
       "'http://www.etwarm.com.tw/rent/object_list?area=台北市&keyword=套房&page=1'"
      ]
     },
     "execution_count": 26,
     "metadata": {},
     "output_type": "execute_result"
    }
   ],
   "source": [
    "indexf = index[:-1] + \"{}\"\n",
    "href = indexf.format(1)\n",
    "href"
   ]
  },
  {
   "cell_type": "code",
   "execution_count": 32,
   "metadata": {
    "collapsed": true
   },
   "outputs": [],
   "source": [
    "res = requests.get(href)\n",
    "soup = BeautifulSoup(res.text, \"lxml\")\n",
    "obj_info = soup.select('div[class=\"obj_info\"]')\n",
    "totalObj = len(obj_info)"
   ]
  },
  {
   "cell_type": "code",
   "execution_count": 34,
   "metadata": {},
   "outputs": [
    {
     "data": {
      "text/plain": [
       "10"
      ]
     },
     "execution_count": 34,
     "metadata": {},
     "output_type": "execute_result"
    }
   ],
   "source": [
    "totalObj"
   ]
  },
  {
   "cell_type": "markdown",
   "metadata": {
    "collapsed": true
   },
   "source": [
    "### 連結內取得房屋物件的內容"
   ]
  },
  {
   "cell_type": "code",
   "execution_count": 2,
   "metadata": {
    "collapsed": true
   },
   "outputs": [],
   "source": [
    "href = \"http://www.etwarm.com.tw/rent/object_data2.php?id=180607\"\n",
    "res = requests.get(href)\n",
    "soup = BeautifulSoup(res.text, \"lxml\")"
   ]
  },
  {
   "cell_type": "code",
   "execution_count": 3,
   "metadata": {},
   "outputs": [
    {
     "data": {
      "text/plain": [
       "<!DOCTYPE HTML>\n",
       "<html itemscope=\"\" itemtype=\"http://schema.org/ItemPage\" lang=\"zh-TW\">\n",
       "<head>\n",
       "<meta charset=\"utf-8\"/>\n",
       "<meta content=\"花博電梯溫馨套房0926986801 - 東森房屋\" property=\"og:title\"/>\n",
       "<meta content=\"website\" property=\"og:type\"/>\n",
       "<meta content=\"http://www.etwarm.com.tw/rent/object_data2?id=180607\" property=\"og:url\"/>\n",
       "<meta content=\"http://img.etwarm.com.tw/rent_object/R0586331038_kozlvyyw.jpg\" property=\"og:image\"/>\n",
       "<meta content=\"東森房屋\" property=\"og:site_name\"/>\n",
       "<meta content=\"IE=edge,chrome=1\" http-equiv=\"X-UA-Compatible\"/>\n",
       "<meta content=\"\n",
       "Notice: Undefined variable: keywords in /var/www/w3v2/public/common/_head.php on line 2\n",
       "東森房屋,最近消息,我要買屋,我要賣屋,我要租屋,房地產投資,房屋百科,居家生活,企業內容,搜屋8達通,高雄館,影音看屋館,青年首購館,明星學校館,精選各區房屋,全域呈現,影音看屋,房貸資訊,居家裝潢,居家風水,法律專欄,生活妙方,搬家事宜,在地萬事通,全國服務據點,黃金廠房店面,投資,力霸,力霸房屋\" http-equiv=\"keywords\"/>\n",
       "<meta content=\"『花博電梯溫馨套房0926986801』台北市中山區松江路\" http-equiv=\"description\"/>\n",
       "<meta content=\"SKYPE_TOOLBAR_PARSER_COMPATIBLE\" name=\"SKYPE_TOOLBAR\"/>\n",
       "<meta content=\"app-id=541524474\" name=\"apple-itunes-app\"/>\n",
       "<link href=\"http://www.etwarm.com.tw/etwarm64.ico\" rel=\"shortcut icon\" type=\"image/x-icon\"/>\n",
       "<link href=\"http://www.etwarm.com.tw/favicon.ico\" rel=\"shortcut icon\"/>\n",
       "<link href=\"http://www.etwarm.com.tw/etwarm64.ico\" rel=\"image_src\"/>\n",
       "<title>花博電梯溫馨套房0926986801 - 東森房屋</title>\n",
       "<base href=\"http://www.etwarm.com.tw\"/>\n",
       "<link href=\"css/index.css\" rel=\"stylesheet\"/>\n",
       "<link href=\"css/reset.css\" rel=\"stylesheet\"/>\n",
       "<!--<link rel=\"stylesheet\" href=\"css/main_nav.css\"/>-->\n",
       "<link href=\"css/animate.css\" rel=\"stylesheet\"/>\n",
       "<link href=\"css/colorbox.css\" rel=\"stylesheet\"/>\n",
       "<link href=\"css/add.css\" rel=\"stylesheet\"/>\n",
       "<!--[if lte IE 8]>\n",
       "<script src=\"js/html5.js\"></script>\n",
       "<script type=\"text/javascript\" src=\"js/es5-shim.min.js\"></script>\n",
       "<script type=\"text/javascript\" src=\"js/es5-sham.min.js\"></script>\n",
       "<![endif]-->\n",
       "<script src=\"js/jsonArea.js\" type=\"text/javascript\"></script>\n",
       "<script src=\"js/jsonMrt.js\" type=\"text/javascript\"></script>\n",
       "<!-- Start Google GA CODE -->\n",
       "<script>\n",
       "  (function(i,s,o,g,r,a,m){i['GoogleAnalyticsObject']=r;i[r]=i[r]||function(){\n",
       "  (i[r].q=i[r].q||[]).push(arguments)},i[r].l=1*new Date();a=s.createElement(o),\n",
       "  m=s.getElementsByTagName(o)[0];a.async=1;a.src=g;m.parentNode.insertBefore(a,m)\n",
       "  })(window,document,'script','//www.google-analytics.com/analytics.js','ga');\n",
       "\n",
       "  ga('create', 'UA-1674925-6', 'auto');\n",
       "  ga('send', 'pageview');\n",
       "\n",
       "</script>\n",
       "<!-- End Google GA CODE -->\n",
       "<!-- Start Alexa Certify Javascript -->\n",
       "<script type=\"text/javascript\">\n",
       "_atrk_opts = { atrk_acct:\"K1o9i1acVE00Ef\", domain:\"etwarm.com.tw\",dynamic: true};\n",
       "(function() { var as = document.createElement('script'); as.type = 'text/javascript'; as.async = true; as.src = \"https://d31qbv1cthcecs.cloudfront.net/atrk.js\"; var s = document.getElementsByTagName('script')[0];s.parentNode.insertBefore(as, s); })();\n",
       "</script>\n",
       "<noscript><img alt=\"\" height=\"1\" src=\"https://d5nxst8fruw4z.cloudfront.net/atrk.gif?account=K1o9i1acVE00Ef\" style=\"display:none\" width=\"1\"/></noscript>\n",
       "<!-- End Alexa Certify Javascript -->\n",
       "<script defer=\"\" src=\"http://track.sitetag.us/tracking.js?hash=399111f7ec62e82889ab35b49000f892\" type=\"text/javascript\"></script>\n",
       "<!--<script type=\"text/javascript\">var sitebot_JsHost = \"http://www.sitebro.tw/\";var sitebot_userid = \"OTk0MjI=\";var sitebot_websiteid = \"NDgzMDM=\"; var sitebot_lang = \"zh_TW\";</script><script src=\"http://www.sitebro.tw/track.js\" type=\"text/javascript\"></script>-->\n",
       "<!-- Start Yahoo GA CODE -->\n",
       "<script>\n",
       "  (function(i,s,o,g,r,a,m){i['GoogleAnalyticsObject']=r;i[r]=i[r]||function(){\n",
       "  (i[r].q=i[r].q||[]).push(arguments)},i[r].l=1*new Date();a=s.createElement(o),\n",
       "  m=s.getElementsByTagName(o)[0];a.async=1;a.src=g;m.parentNode.insertBefore(a,m)\n",
       "  })(window,document,'script','//www.google-analytics.com/analytics.js','ga');\n",
       "\n",
       "  ga('create', 'UA-48893644-1', 'etwarm.com.tw');\n",
       "  ga('send', 'pageview');\n",
       "\n",
       "</script>\n",
       "<!-- End Yahoo GA CODE -->\n",
       "<!--  START http://home.etwarm.com.tw/ remarketing -->\n",
       "<!--<script type=\"application/javascript\"> (function(w,d,t,r,u){w[u]=w[u] ||[];w[u].push({'projectId':' 10000','properties':{'pixelId' :'10003388'}});var s=d.createElement(t);s.src=r; s.async=true;s.onload=s. onreadystatechange=function(){ var y,rs=this.readyState,c=w[u]; if(rs&&rs!=\"complete\"&&rs!=\" loaded\"){return}try{y=YAHOO. ywa.I13N.fireBeacon;w[u]=[];w[ u].push=function(p){y([p])};y( c)}catch(e){}};var scr=d.getElementsByTagName(t)[ 0],par=scr.parentNode;par. insertBefore(s,scr)})(window, document,\"script\",\"https://s. yimg.com/wi/ytc.js\",\"dotq\");</script>-->\n",
       "<!--  END http://home.etwarm.com.tw/ remarketing -->\n",
       "<!-- Start FB SDK -->\n",
       "<script>\n",
       "  window.fbAsyncInit = function() {\n",
       "    FB.init({\n",
       "      appId      : '1698204393757675',\n",
       "      xfbml      : true,\n",
       "      version    : 'v2.7'\n",
       "    });\n",
       "  };\n",
       "\n",
       "  (function(d, s, id){\n",
       "     var js, fjs = d.getElementsByTagName(s)[0];\n",
       "     if (d.getElementById(id)) {return;}\n",
       "     js = d.createElement(s); js.id = id;\n",
       "     js.src = \"//connect.facebook.net/en_US/sdk.js\";\n",
       "     fjs.parentNode.insertBefore(js, fjs);\n",
       "   }(document, 'script', 'facebook-jssdk'));\n",
       "</script>\n",
       "<!-- End FB SDK -->\n",
       "<link href=\"../css/buy.css\" rel=\"stylesheet\"/>\n",
       "<!--[if lte IE 9]>\n",
       "<script src=\"aight.min.js\"></script>\n",
       "<![endif]-->\n",
       "<link href=\"../css/flexslider.css\" rel=\"stylesheet\"/>\n",
       "<link href=\"../css/buy.css\" rel=\"stylesheet\"/>\n",
       "<link href=\"../css/nv.d3.css\" rel=\"stylesheet\"/>\n",
       "<link href=\"../css/img_box.css\" rel=\"stylesheet\"/>\n",
       "<link href=\"../css/colorbox.css\" rel=\"stylesheet\"/>\n",
       "<!-- mediaelementplayer-->\n",
       "<link href=\"../mediaelement/mediaelementplayer.css\" rel=\"stylesheet\"/>\n",
       "</head>\n",
       "<body>\n",
       "<!-- header -->\n",
       "<header id=\"header\">\n",
       "<div class=\"header_a\">\n",
       "<div class=\"logo\" itemscope=\"\" itemtype=\"http://schema.org/Organization\">\n",
       "<a href=\"http://www.etwarm.com.tw\" itemprop=\"url\" target=\"_self\">\n",
       "<img alt=\"東森房屋\" height=\"45\" itemprop=\"logo\" src=\"images/logo.png\" width=\"154\"/>\n",
       "</a>\n",
       "</div>\n",
       "<!-- 主選單 -->\n",
       "<nav>\n",
       "<ul class=\"menu\">\n",
       "<li class=\"border\">\n",
       "<a class=\"menu_link\" href=\"http://www.etwarm.com.tw/object_list\">買屋</a>\n",
       "<ul class=\"submenu\">\n",
       "<li><a href=\"http://www.etwarm.com.tw/object_list\">好屋搜尋</a></li>\n",
       "<li><a href=\"http://www.etwarm.com.tw/map_search\" target=\"_blank\">地圖找屋</a></li>\n",
       "<li><a href=\"http://www.etwarm.com.tw/object_list?theme=MRT\">捷運找屋</a></li>\n",
       "<li><a href=\"http://www.etwarm.com.tw/object_list?theme=DOWN_BUY\">降價專區</a></li>\n",
       "<li><a href=\"http://www.etwarm.com.tw/object_list?theme=STORE_BUY\">熱銷推薦</a></li>\n",
       "<li><a href=\"http://www.etwarm.com.tw/object_list?theme=GOOD_BUY\">優質物件</a></li>\n",
       "<li><a href=\"http://www.etwarm.com.tw/loan/\">房貸試算</a></li>\n",
       "<li><a href=\"http://www.etwarm.com.tw/buy_step\">買屋流程</a></li>\n",
       "<li><a href=\"http://www.etwarm.com.tw/buy\">我要買屋</a></li>\n",
       "</ul>\n",
       "</li>\n",
       "<li class=\"border\">\n",
       "<a class=\"menu_link\" href=\"http://www.etwarm.com.tw/sell_knowledge\">賣屋</a>\n",
       "<ul class=\"submenu\">\n",
       "<li><a href=\"http://www.etwarm.com.tw/sell_knowledge\">賣屋須知</a></li>\n",
       "<li><a href=\"http://www.etwarm.com.tw/tax/\">稅務解析</a></li>\n",
       "<li><a href=\"http://www.etwarm.com.tw/sell_step\">賣屋流程</a></li>\n",
       "<li><a href=\"http://www.etwarm.com.tw/sell\">我要賣屋</a></li>\n",
       "</ul>\n",
       "</li>\n",
       "<li class=\"border\">\n",
       "<a class=\"menu_link\" href=\"http://www.etwarm.com.tw/rent/object_list\">租屋</a>\n",
       "<ul class=\"submenu\">\n",
       "<li><a href=\"http://www.etwarm.com.tw/rent/object_list\">租屋搜尋</a></li>\n",
       "<!-- <li><a href=\"rent/rent_login.php\">房東出租刊登</a></li> -->\n",
       "<li><a href=\"http://www.etwarm.com.tw/map_search#rent\" target=\"_blank\">地圖找屋</a></li>\n",
       "<li><a href=\"http://www.etwarm.com.tw/rent/object_list?theme=MRT\">捷運找屋</a></li>\n",
       "<li><a href=\"http://www.etwarm.com.tw/rent/login\">免費刊登</a></li>\n",
       "<!-- <li><a href=\"http://www.etwarm.com.tw/rent/rent_news.php\">租屋相關知識</a></li> -->\n",
       "<li><a href=\"http://www.etwarm.com.tw/rent/rent_house_step.php\">房客租屋流程</a></li>\n",
       "<li><a href=\"http://www.etwarm.com.tw/rent/house_rent_step.php\">房東出租流程</a></li>\n",
       "</ul>\n",
       "</li>\n",
       "<!--\n",
       "        <li class=\"border\">\n",
       "          <a href=\"http://www.etwarm.com.tw/object_list?theme=STORE_BUY\" class=\"menu_link\">主題推薦</a>\n",
       "          <ul class=\"submenu\">            \n",
       "            <li><a href=\"http://www.etwarm.com.tw/object_list?theme=DOWN_BUY\">降價專區</a></li>\n",
       "            <li><a href=\"http://www.etwarm.com.tw/object_list?theme=YOUTH_BUY\">青年首購</a></li>\n",
       "            <li><a href=\"http://www.etwarm.com.tw/object_list?theme=NEW_BUY\">新成好屋</a></li>\n",
       "            <li><a href=\"http://www.etwarm.com.tw/object_list?theme=SCHOOL_BUY\">學區精選</a></li>\n",
       "            <li><a href=\"http://www.etwarm.com.tw/object_list?theme=TRAFFIC_BUY\">交通周邊</a></li>\n",
       "            <li><a href=\"http://www.etwarm.com.tw/object_list?theme=LAND_ONLY\">土地專區</a></li>\n",
       "          </ul>\n",
       "        </li>\n",
       "        -->\n",
       "<li class=\"border\">\n",
       "<a class=\"menu_link\" href=\"#\">海外房產</a>\n",
       "<ul class=\"submenu\">\n",
       "<li><a href=\"http://global.etwarm.com.tw/\" target=\"_blank\">國際不動產中心</a></li>\n",
       "<li><a href=\"http://29271147.5185.com.tw/index.php\" target=\"_blank\">柬埔寨</a></li>\n",
       "</ul>\n",
       "</li>\n",
       "<li class=\"border\"><a class=\"menu_link\" href=\"http://www.etwarm.com.tw/realvalue/map\" target=\"_blank\">成交行情</a></li>\n",
       "<li class=\"border\"><a class=\"menu_link\" href=\"http://www.etwarm.com.tw/franchise/\">加盟專區</a></li>\n",
       "<li class=\"border\"><a class=\"menu_link\" href=\"http://www.etwarm.com.tw/hr/\">人才招募</a></li>\n",
       "<li class=\"border\">\n",
       "<!--\n",
       "          <a href=\"http://www.etwarm.com.tw/realvalue/map\" class=\"menu_link\">服務據點</a> \n",
       "-->\n",
       "<div class=\"menu_link\">   \n",
       "          服務據點    \n",
       "          <select class=\"et_service w72\" id=\"etwarmMenuCity\" name=\"header_city\"><option disabled=\"\" selected=\"\" value=\"\">選縣市</option><option value=\"1\">台北市</option><option value=\"2\">新北市</option><option value=\"3\">宜蘭縣</option><option value=\"4\">基隆市</option><option value=\"5\">桃園市</option><option value=\"6\">新竹市</option><option value=\"7\">新竹縣</option><option value=\"8\">苗栗縣</option><option value=\"9\">台中市</option><option value=\"10\">彰化縣</option><option value=\"11\">南投縣</option><option value=\"12\">雲林縣</option><option value=\"13\">嘉義市</option><option value=\"14\">嘉義縣</option><option value=\"15\">台南市</option><option value=\"16\">高雄市</option><option value=\"17\">屏東縣</option><option value=\"18\">台東縣</option><option value=\"19\">花蓮縣</option><option value=\"20\">澎湖縣</option><option value=\"21\">金門縣</option><option value=\"22\">連江縣</option></select> <select class=\"et_service w72\" id=\"etwarmMenuArea\" name=\"header_area\"><option disabled=\"\" selected=\"\" value=\"\">選區域</option></select> </div>\n",
       "</li>\n",
       "<li class=\"border favorite_link\" id=\"favorite_box\">\n",
       "<a class=\"menu_link\" href=\"http://www.etwarm.com.tw/object_favorite\" target=\"_blank\">\n",
       "<p>\n",
       "              收藏\n",
       "              <span class=\"favorite_nums\">0</span>\n",
       "</p>\n",
       "</a>\n",
       "</li>\n",
       "<li>\n",
       "<div class=\"menu_link\">\n",
       "<a href=\"https://www.facebook.com/etwarm.no1\" style=\"display:inline-block\" target=\"_blank\"><img class=\"icon_menu\" height=\"21\" src=\"images/fb_icon.png\" width=\"21\"/></a>\n",
       "<a href=\"http://www.youtube.com/user/EASTERNREALTY\" style=\"display:inline-block\" target=\"_blank\"><img class=\"icon_menu\" height=\"21\" src=\"images/yt_icon.png\" width=\"21\"/></a>\n",
       "</div>\n",
       "</li>\n",
       "</ul>\n",
       "</nav>\n",
       "<div class=\"clearall\"></div>\n",
       "</div>\n",
       "</header>\n",
       "<article id=\"buy\">\n",
       "<section id=\"obj_data_info\">\n",
       "<div class=\"obj_data_route\">\n",
       "<img height=\"14\" src=\"images/buy/obj_data_route_icon.png\" width=\"16\"/>\n",
       "<div class=\"obj_data_router\" itemscope=\"\" itemtype=\"http://data-vocabulary.org/Breadcrumb\">\n",
       "<a href=\"http://www.etwarm.com.tw/object_list\" itemprop=\"url\">\n",
       "<span itemprop=\"title\">租屋</span>\n",
       "</a>\n",
       "</div>\n",
       "<div class=\"obj_data_router\" itemscope=\"\" itemtype=\"http://data-vocabulary.org/Breadcrumb\"> &gt; \n",
       "                            <a href=\"http://www.etwarm.com.tw/object_list?area=台北市\" itemprop=\"url\">\n",
       "<span itemprop=\"title\">台北市</span>\n",
       "</a>\n",
       "</div>\n",
       "<div class=\"obj_data_router\" itemscope=\"\" itemtype=\"http://data-vocabulary.org/Breadcrumb\"> &gt; \n",
       "                            <a href=\"http://www.etwarm.com.tw/object_list?area=台北市中山區\" itemprop=\"url\">\n",
       "<span itemprop=\"title\">中山區</span>\n",
       "</a>\n",
       "</div>\n",
       "<div class=\"obj_data_router\" itemscope=\"\" itemtype=\"http://data-vocabulary.org/Breadcrumb\"> &gt; \n",
       "                            <a href=\"http://www.etwarm.com.tw/object_list?area=台北市中山區&amp;keyword=松江路松江路\" itemprop=\"url\">\n",
       "<span itemprop=\"title\">松江路松江路</span>\n",
       "</a>\n",
       "</div>\n",
       "</div>\n",
       "<!-- 照片 -->\n",
       "<div class=\"obj_data_photo\">\n",
       "<div id=\"img_box\">\n",
       "<img data-origin=\"http://img.etwarm.com.tw/rent_object/R0586331038_kozlvyyw.jpg\"/>\n",
       "<img data-origin=\"http://img.etwarm.com.tw/rent_object/R0586331038_vyt3kyux.jpg\"/>\n",
       "<img data-origin=\"http://img.etwarm.com.tw/rent_object/R0586331038_6w59czi4.jpg\"/>\n",
       "<img data-origin=\"http://img.etwarm.com.tw/rent_object/R0586331038_howu8b8j.jpg\"/>\n",
       "<img data-origin=\"http://img.etwarm.com.tw/rent_object/R0586331038_pxvalkx7.jpg\"/>\n",
       "<img data-origin=\"http://img.etwarm.com.tw/rent_object/R0586331038_8h1i6m63.jpg\"/>\n",
       "</div>\n",
       "</div>\n",
       "<!-- 基本資料 -->\n",
       "<div class=\"obj_data_basic\" data-ettype=\"RENT\" data-id=\"180607\" id=\"obj_data_basic\">\n",
       "<!-- 基本資料 -->\n",
       "<h1>花博電梯溫馨套房0926986801</h1>\n",
       "<ul class=\"data_basic\">\n",
       "<li>\n",
       "<div class=\"obj_data_contain fl\">\n",
       "<span class=\"price\">12,000</span> 元 / 月\n",
       "            </div>\n",
       "</li>\n",
       "<!-- <li>租金包含：管理費、第四台、網路、水電費、瓦斯費</li> -->\n",
       "<li>面積 : <span class=\"space\">11坪</span></li>\n",
       "<li>用途/型態 : 獨立套房 / 華廈</li>\n",
       "<li>樓層 : 3/6(總樓層)</li>\n",
       "<li>地址 : 台北市中山區松江路</li>\n",
       "<li>\n",
       "<a href=\"rent/house_warning.html\" id=\"etwarm_rentwarning\">\n",
       "<img height=\"20\" src=\"images/icon_Warning.png\" style=\"vertical-align: middle;\" width=\"20\"/>\n",
       "<span style=\"color: #ff0000\">租屋注意事項&amp;房屋租賃定型化契約</span>\n",
       "</a>\n",
       "</li>\n",
       "</ul>\n",
       "<ul class=\"data_icon\">\n",
       "<li>\n",
       "<a href=\"sendFriends.php?type=rent&amp;id=180607\" id=\"etwarm_send_friend\">\n",
       "<img height=\"51\" onmouseout=\"this.src = 'images/buy/email_icon.png'\" onmouseover=\"this.src = 'images/buy/email_icon_s.png'\" src=\"images/buy/email_icon.png\" width=\"63\"/>\n",
       "<p>轉寄親友</p>\n",
       "</a>\n",
       "</li>\n",
       "<li>\n",
       "<a href=\"javascript:\" id=\"print_obj\" onclick=\"window.print();\" target=\"_blank\">\n",
       "<img height=\"51\" onmouseout=\"this.src = 'images/buy/print_icon.png'\" onmouseover=\"this.src = 'images/buy/print_icon_s.png'\" src=\"images/buy/print_icon.png\" width=\"63\"/>\n",
       "<p>列印</p>\n",
       "</a>\n",
       "</li>\n",
       "<li>\n",
       "<a href=\"javascript:ShowContent('obj_share')\">\n",
       "<img height=\"51\" onmouseout=\"this.src = 'images/buy/share_icon.png'\" onmouseover=\"this.src = 'images/buy/share_icon_s.png'\" src=\"images/buy/share_icon.png\" width=\"63\"/>\n",
       "<p>分享物件</p>\n",
       "</a>\n",
       "<div id=\"obj_share\">\n",
       "<div class=\"close_bt\">\n",
       "<a href=\"javascript:HideContent('obj_share')\">\n",
       "<img height=\"12\" src=\"images/close-icon.png\" width=\"12\"/>\n",
       "</a>\n",
       "</div>\n",
       "<div class=\"obj_box mt55\">\n",
       "<a class=\"fb_btn\" href=\"http://www.facebook.com/share.php?u=http%3A%2F%2Fwww.etwarm.com.tw%2Frent%2Fobject_data2%3Fid%3D180607\" target=\"_blank\"><img height=\"50\" src=\"images/buy/fb_icon.png\" width=\"50\"/></a>\n",
       "<a class=\"google_btn\" href=\"https://plus.google.com/share?url=http%3A%2F%2Fwww.etwarm.com.tw%2Frent%2Fobject_data2%3Fid%3D180607\" target=\"_blank\"><img height=\"50\" src=\"images/buy/gplus_icon.png\" width=\"50\"/></a>\n",
       "<a class=\"twitter_btn\" href=\"http://twitter.com/home/?status=%E8%8A%B1%E5%8D%9A%E9%9B%BB%E6%A2%AF%E6%BA%AB%E9%A6%A8%E5%A5%97%E6%88%BF0926986801+-+%E6%9D%B1%E6%A3%AE%E6%88%BF%E5%B1%8B\" target=\"_blank\"><img height=\"50\" src=\"images/buy/twitter_icon.png\" width=\"50\"/></a>\n",
       "</div>\n",
       "</div>\n",
       "</li>\n",
       "<li>\n",
       "<a href=\"rent/rent_house_step.php\" target=\"_blank\">\n",
       "<img height=\"51\" onmouseout=\"this.src='../images/buy/rent_icon.png'\" onmouseover=\"this.src='../images/buy/rent_icon_s.png'\" src=\"../images/buy/rent_icon.png\" width=\"63\"/>\n",
       "<p>租屋流程</p>\n",
       "</a>\n",
       "</li>\n",
       "<li>\n",
       "<a href=\"rent/rent_news.php\" target=\"_blank\">\n",
       "<img height=\"51\" onmouseout=\"this.src='../images/buy/tax_icon.png'\" onmouseover=\"this.src='../images/buy/tax_icon_s.png'\" src=\"../images/buy/tax_icon.png\" width=\"63\"/>\n",
       "<p>租屋知識</p>\n",
       "</a>\n",
       "</li>\n",
       "</ul>\n",
       "<div class=\"data_store\">\n",
       "<a href=\"book.php?type=rent&amp;id=180607\" id=\"etwarm_book\"><img alt=\"預約看屋\" height=\"130\" src=\"images/buy/reserve_bt.png\" width=\"130\"/></a>\n",
       "<span style=\"font-weight:bolder; font-size:20px\">屋主藍先生&amp;盧小姐</span><br/>\n",
       "<span class=\"tel\">0926986801</span><br/>\n",
       "                        (屋主聲明：仲介勿擾)<br/> </div>\n",
       "</div><!-- obj_data_basic --> </section>\n",
       "<!-- 詳細資料 -->\n",
       "<section id=\"obj_data_detail\">\n",
       "<h3>詳細資料</h3>\n",
       "<div id=\"table\">\n",
       "<div class=\"tr\">\n",
       "<div align=\"left\" class=\"td\">‧ 用途</div>\n",
       "<div align=\"left\" class=\"td\">獨立套房</div>\n",
       "<div align=\"left\" class=\"td\">‧ 型態</div>\n",
       "<div align=\"left\" class=\"td\">華廈</div>\n",
       "<div align=\"left\" class=\"td\">‧ 面積</div>\n",
       "<div align=\"left\" class=\"td\">11坪</div>\n",
       "</div>\n",
       "<div class=\"tr\">\n",
       "<div align=\"left\" class=\"td\">‧ 租金</div>\n",
       "<div align=\"left\" class=\"td\">12,000 元 / 月</div>\n",
       "<div align=\"left\" class=\"td\">‧ 押金</div>\n",
       "<div align=\"left\" class=\"td\">兩個月租金</div>\n",
       "<div align=\"left\" class=\"td\">‧ 最短租期</div>\n",
       "<div align=\"left\" class=\"td\">一年</div>\n",
       "</div>\n",
       "<div class=\"tr\">\n",
       "<div align=\"left\" class=\"td\">‧ 格局</div>\n",
       "<div align=\"left\" class=\"td\">-</div>\n",
       "<div align=\"left\" class=\"td\">‧ 車位</div>\n",
       "<div align=\"left\" class=\"td\">無</div>\n",
       "<div align=\"left\" class=\"td\">‧ 管理費</div>\n",
       "<div align=\"left\" class=\"td\">662 元</div>\n",
       "</div>\n",
       "<div class=\"tr\">\n",
       "<div align=\"left\" class=\"td\">‧ 座向</div>\n",
       "<div align=\"left\" class=\"td\">座西朝東</div>\n",
       "<div align=\"left\" class=\"td\">‧ 樓層</div>\n",
       "<div align=\"left\" class=\"td\">3/6(總樓層)</div>\n",
       "<div align=\"left\" class=\"td\">‧ 可遷入日</div>\n",
       "<div align=\"left\" class=\"td\">-</div>\n",
       "</div>\n",
       "</div>\n",
       "<div class=\"table\">\n",
       "<div class=\"tr\">\n",
       "<div align=\"left\" class=\"td\">‧ 身分要求</div>\n",
       "<div align=\"left\" class=\"td\"><span class=\"items\">學生</span>、<span class=\"items\">上班族</span>、<span class=\"items\">家庭</span></div>\n",
       "<div align=\"left\" class=\"td\">‧ 開伙</div>\n",
       "<div align=\"left\" class=\"td\">可以</div>\n",
       "<div align=\"left\" class=\"td\">‧ 養寵物</div>\n",
       "<div align=\"left\" class=\"td\">不可以</div>\n",
       "</div>\n",
       "</div>\n",
       "<div class=\"table\">\n",
       "<div class=\"tr\">\n",
       "<div align=\"left\" class=\"td\">‧ 租金包含</div>\n",
       "<div align=\"left\" class=\"td fixed\"><div>-</div></div>\n",
       "</div>\n",
       "</div>\n",
       "<div class=\"table\">\n",
       "<div class=\"tr\">\n",
       "<div align=\"left\" class=\"td\">‧ 生活機能</div>\n",
       "<div align=\"left\" class=\"td fixed\"><div>-</div></div>\n",
       "</div>\n",
       "</div>\n",
       "<div class=\"data_building_box\">\n",
       "<div class=\"data_building\">提供的周邊設備</div>\n",
       "<div id=\"table\">\n",
       "<div class=\"tr\">\n",
       "<div align=\"left\" class=\"td\" style=\"width:90px\">‧ 家俱</div>\n",
       "<div align=\"left\" class=\"td\" style=\"width:900px\"><span class=\"items\">床</span></div>\n",
       "</div>\n",
       "<div class=\"tr\">\n",
       "<div align=\"left\" class=\"td\" style=\"width:90px\">‧ 設備</div>\n",
       "<div align=\"left\" class=\"td\" style=\"width:900px\"><span class=\"items\">冷氣</span>、<span class=\"items\">冰箱</span></div>\n",
       "</div>\n",
       "</div>\n",
       "</div>\n",
       "<div class=\"data_building_box\">\n",
       "<div class=\"data_building\">附近交通</div>\n",
       "<div id=\"table\">\n",
       "<div class=\"tr\">\n",
       "<div align=\"left\" class=\"td\" style=\"width:90px\">‧ 公車站</div>\n",
       "<div align=\"left\" class=\"td\" style=\"width:900px\">-</div>\n",
       "</div>\n",
       "<div class=\"tr\">\n",
       "<div align=\"left\" class=\"td\" style=\"width:90px\">‧ 捷運站</div>\n",
       "<div align=\"left\" class=\"td\" style=\"width:900px\">-</div>\n",
       "</div>\n",
       "<div class=\"tr\">\n",
       "<div align=\"left\" class=\"td\" style=\"width:90px\">‧ 火車站</div>\n",
       "<div align=\"left\" class=\"td\" style=\"width:900px\">-</div>\n",
       "</div>\n",
       "</div>\n",
       "</div>\n",
       "</section> <!-- 特色推薦 -->\n",
       "<section id=\"obj_characteristic\">\n",
       "<h3>特色推薦</h3>\n",
       "<div><p>近行天宮捷運站，圓山捷運站，適商辦人士雙併電梯，24H管理，安全無煩惱、監視系統,，垃圾集中區(免分類免購環保袋)屋方正有窗、含傢俱立可進駐、生活機能樣樣齊全。<br/>\n",
       "VIP運動休閒設備免費使用,熱水器、流理台冷氣、另有車位可承租.<br/>\n",
       "百貨、大賣場、便利商店、濱江傳統市場、士林夜市、近新生公園綠地、近學校、近醫療機構、近警察局、近銀行、小吃,應有盡有<br/>\n",
       "電  費：使用者付費，台電帳單，由房客自行繳納<br/>\n",
       "水  費：使用者付費，水公司帳單，由房客自行繳納<br/>\n",
       "管理費：約662元/月，管委會收取，由房客自行繳納<br/>\n",
       "第四台：使用者付費，由房客自行申裝繳納<br/>\n",
       "網路費：使用者付費，由房客自行申裝繳納<br/>\n",
       "※請注意：本廣告是代房東刊登,房客安心,過程完全透明,看屋無須支付任何費用.歡迎查詢<br/>\n",
       "</p></div>\n",
       "</section>\n",
       "<!-- 機能地圖 -->\n",
       "<section id=\"obj_function_map\" name=\"obj_function_map\">\n",
       "<h3>機能地圖</h3><!--此物件周遭500公尺內之生活機能-->\n",
       "<div data-lat=\"25.0680329\" data-lng=\"121.53268700000001\" data-title=\"花博電梯溫馨套房0926986801\" id=\"obj_life_map\">\n",
       "<div id=\"obj_pano_show\"><div class=\"obj_map_btn\">顯示街景</div></div>\n",
       "<div id=\"obj_gmap\"></div>\n",
       "</div>\n",
       "<div id=\"obj_life_pano\"></div>\n",
       "<div class=\"clearall\"></div>\n",
       "<div id=\"obj_life_type\"></div>\n",
       "<div class=\"clearall\"></div>\n",
       "<div id=\"obj_life_info\"></div>\n",
       "</section>\n",
       "</article>\n",
       "<footer id=\"footer\">\n",
       "<section id=\"web_guide\">\n",
       "<nav id=\"guide\">\n",
       "<ul>\n",
       "<li>\n",
       "<div class=\"guide-sub\">\n",
       "<div class=\"guide-sub-inner\">\n",
       "<div class=\"sub_a sub_border\">\n",
       "<h3>買屋服務</h3>\n",
       "<ul>\n",
       "<li><a href=\"http://www.etwarm.com.tw/object_list\">好屋搜尋</a></li>\n",
       "<li><a href=\"http://www.etwarm.com.tw/map_search\" target=\"_blank\">地圖找屋</a></li>\n",
       "<li><a href=\"http://www.etwarm.com.tw/object_list?theme=MRT\">捷運找屋</a></li>\n",
       "<li><a href=\"http://www.etwarm.com.tw/object_list?theme=DOWN_BUY\">降價專區</a></li>\n",
       "<li><a href=\"http://www.etwarm.com.tw/object_list?theme=STORE_BUY\">熱銷推薦</a></li>\n",
       "<li><a href=\"http://www.etwarm.com.tw/object_list?theme=GOOD_BUY\">優質物件</a></li>\n",
       "<li><a href=\"http://www.etwarm.com.tw/loan/\">房貸試算</a></li>\n",
       "<li><a href=\"http://www.etwarm.com.tw/buy_step\">買屋流程</a></li>\n",
       "<li><a href=\"http://www.etwarm.com.tw/buy\">我要買屋</a></li>\n",
       "</ul>\n",
       "</div>\n",
       "<div class=\"sub_b sub_border\">\n",
       "<h3>賣屋服務</h3>\n",
       "<ul>\n",
       "<li><a href=\"http://www.etwarm.com.tw/sell_knowledge\">賣屋須知</a></li>\n",
       "<li><a href=\"http://www.etwarm.com.tw/tax/\">稅務解析</a></li>\n",
       "<li><a href=\"http://www.etwarm.com.tw/sell_step\">賣屋流程</a></li>\n",
       "<li><a href=\"http://www.etwarm.com.tw/sell\">我要賣屋</a></li>\n",
       "</ul>\n",
       "</div>\n",
       "<div class=\"sub_a sub_border\">\n",
       "<h3>主題找屋</h3>\n",
       "<ul>\n",
       "<li><a href=\"http://www.etwarm.com.tw/object_list?theme=YOUTH_BUY\">青年首購</a></li>\n",
       "<li><a href=\"http://www.etwarm.com.tw/object_list?theme=NEW_BUY\">新成好屋</a></li>\n",
       "<li><a href=\"http://www.etwarm.com.tw/object_list?theme=SCHOOL_BUY\">學區精選</a></li>\n",
       "<li><a href=\"http://www.etwarm.com.tw/object_list?theme=LAND_ONLY\">土地專區</a></li>\n",
       "<li><a href=\"http://www.etwarm.com.tw/object_list?theme=TRAFFIC_BUY\">交通周邊</a></li>\n",
       "</ul>\n",
       "</div>\n",
       "<div class=\"sub_b sub_border\">\n",
       "<h3>其他服務</h3>\n",
       "<ul>\n",
       "<li><a href=\"http://www.etwarm.com.tw/realvalue/map\" target=\"_blank\">成交行情</a></li>\n",
       "<li><a href=\"http://global.etwarm.com.tw/\" target=\"_blank\">海外房產</a></li>\n",
       "<li><a href=\"http://www.etwarm.com.tw/rent/object_list\">租屋服務</a></li>\n",
       "</ul>\n",
       "</div>\n",
       "<div class=\"sub_a\">\n",
       "<h3>最新消息</h3>\n",
       "<ul>\n",
       "<li><a href=\"http://www.etwarm.com.tw/news/\">房市新聞</a></li>\n",
       "<li><a href=\"http://www.etwarm.com.tw/et_action\">最新活動</a></li>\n",
       "<li><a href=\"http://www.etwarm.com.tw/adviser/\">專家分析</a></li>\n",
       "<li><a href=\"http://www.etwarm.com.tw/news/index.php?theme=regional\">在地活動</a></li>\n",
       "<li><a href=\"http://www.etwarm.com.tw/news/index.php?theme=magz\">東森雜誌</a></li>\n",
       "</ul>\n",
       "</div>\n",
       "<div class=\"sub_a\">\n",
       "<h3>關於東森</h3>\n",
       "<ul>\n",
       "<li><a href=\"http://www.etwarm.com.tw/about/about1.php\">公司簡介</a></li>\n",
       "<li><a href=\"http://www.etwarm.com.tw/et_store\">服務據點</a></li>\n",
       "<li><a href=\"http://www.etwarm.com.tw/franchise/\">加盟專區</a></li>\n",
       "<li><a href=\"http://www.etwarm.com.tw/hr/\">徵才專區</a></li>\n",
       "<li><a href=\"http://www.etwarm.com.tw/chairman/\">董事長區</a></li>\n",
       "<li><a href=\"http://www.etwarm.com.tw/top100/\">仲介菁英</a></li>\n",
       "<li><a href=\"http://www.etwarm.com.tw/kim_chung_awards/\">金仲獎</a></li>\n",
       "<li><a href=\"http://www.etwarm.com.tw/champion/\">年度月冠軍</a></li>\n",
       "</ul>\n",
       "</div>\n",
       "</div><!-- /guide-sub-inner -->\n",
       "</div><!-- /guide-sub -->\n",
       "</li>\n",
       "</ul>\n",
       "</nav>\n",
       "</section>\n",
       "<!-- 獎項 -->\n",
       "<section id=\"etwarm_award\">\n",
       "<div class=\"award\">\n",
       "<ul>\n",
       "<li><img height=\"85\" src=\"images/award_04.png\" width=\"58\"/><p>榮獲服務第壹大獎<br/>為房仲加盟品牌第一</p></li>\n",
       "<li><img height=\"85\" src=\"images/award_02.png\" width=\"61\"/><p>榮獲「ISO9002認證」</p></li>\n",
       "<li><img height=\"85\" src=\"images/award_03.png\" width=\"61\"/><p>榮獲「ISO14001認證」</p></li>\n",
       "<li><img height=\"85\" src=\"images/award_05.png\" width=\"75\"/><p>榮獲優良商號獎</p></li>\n",
       "<li><img height=\"85\" src=\"images/award_06.png\" width=\"58\"/><p>熱心公益<br/>榮獲兒福協尋英雄獎</p></li>\n",
       "</ul>\n",
       "</div>\n",
       "</section>\n",
       "<section class=\"etwarm_other\">\n",
       "<div class=\"others\">免費行動APP：<a href=\"https://itunes.apple.com/tw/app/dong-sen-fang-wu/id541524474?mt=8\" target=\"_blank\"><img height=\"130\" src=\"images/app_store.png\" width=\"130\"/></a><a href=\"https://play.google.com/store/apps/details?id=com.xpert.android.etwarm&amp;feature=search_result#?t=W251bGwsMSwxLDEsImNvbS54cGVydC5hbmRyb2lkLmV0d2FybSJd\" target=\"_blank\"><img height=\"130\" src=\"images/google_play.png\" width=\"130\"/></a>　　社群媒體頻道：<a href=\"https://www.facebook.com/etwarm.no1\" target=\"_blank\"><img height=\"30\" src=\"images/fb.png\" width=\"30\"/></a><a href=\"http://www.youtube.com/user/EASTERNREALTY\" target=\"_blank\"><img height=\"30\" src=\"images/youtube.png\" width=\"30\"/></a></div>\n",
       "<div class=\"copyright\"><p><img height=\"17\" src=\"images/map_icon.png\" width=\"12\"/>公司地址：台北市中正區館前路42號四樓  <img height=\"15\" src=\"images/tel_icon.png\" width=\"18\"/>連絡電話：(02)5559-0688　免付費客服電話：0800-011223</p><p></p>Copyright(c)2015 ETWARM 東森房屋股份有限公司  版權所有</div>\n",
       "</section>\n",
       "</footer>\n",
       "<div style=\"display:none;\">\n",
       "<script src=\"//www.googleadservices.com/pagead/conversion.js\" type=\"text/javascript\">\n",
       "</script>\n",
       "<noscript>\n",
       "<div style=\"display:inline;\">\n",
       "<img alt=\"\" height=\"1\" src=\"//googleads.g.doubleclick.net/pagead/viewthroughconversion/967777218/?value=0&amp;guid=ON&amp;script=0\" style=\"border-style:none;\" width=\"1\"/>\n",
       "</div>\n",
       "</noscript>\n",
       "</div>\n",
       "<!--Google 再行銷 START-->\n",
       "<div style=\"display:none;\">\n",
       "<script type=\"text/javascript\">\n",
       "/* <![CDATA[ */\n",
       "var google_conversion_id = 967777218;\n",
       "var google_custom_params = window.google_tag_params;\n",
       "var google_remarketing_only = true;\n",
       "/* ]]> */\n",
       "</script>\n",
       "<script src=\"//www.googleadservices.com/pagead/conversion.js\" type=\"text/javascript\"></script>\n",
       "</div>\n",
       "<noscript>\n",
       "<div style=\"display:inline;\">\n",
       "<img alt=\"\" height=\"1\" src=\"//googleads.g.doubleclick.net/pagead/viewthroughconversion/967777218/?value=0&amp;guid=ON&amp;script=0\" style=\"border-style:none;\" width=\"1\"/>\n",
       "</div>\n",
       "</noscript>\n",
       "<!--Google 再行銷 END-->\n",
       "<script src=\"js/vendor.js\" type=\"text/javascript\"></script>\n",
       "<script src=\"../mediaelement/mediaelement-and-player.min.js\" type=\"text/javascript\"></script>\n",
       "<script src=\"../js/jquery.flexslider-min.js\" type=\"text/javascript\"></script>\n",
       "<script src=\"https://maps.googleapis.com/maps/api/js?client=gme-etwarmrealty\" type=\"text/javascript\"></script>\n",
       "<script src=\"../js/d3.min.js\" type=\"text/javascript\"></script>\n",
       "<script src=\"../js/nv.d3.min.js\" type=\"text/javascript\"></script>\n",
       "<script src=\"../js/jquery.colorbox-min.js\" type=\"text/javascript\"></script>\n",
       "<script src=\"../js/object.js\" type=\"text/javascript\"></script>\n",
       "<script src=\"../js/silder.js\" type=\"text/javascript\"></script>\n",
       "<script src=\"../js/jquery.colorbox.js\" type=\"text/javascript\"></script>\n",
       "<script>\n",
       "$(document).ready(function(){\n",
       "    $(\".iframe\").colorbox({iframe:true, width:\"1200px\", height:\"80%\", fixed: true});\n",
       "});              \n",
       "</script>\n",
       "</body>\n",
       "</html>"
      ]
     },
     "execution_count": 3,
     "metadata": {},
     "output_type": "execute_result"
    }
   ],
   "source": [
    "soup"
   ]
  },
  {
   "cell_type": "code",
   "execution_count": null,
   "metadata": {
    "collapsed": true
   },
   "outputs": [],
   "source": []
  }
 ],
 "metadata": {
  "kernelspec": {
   "display_name": "Python 3",
   "language": "python",
   "name": "python3"
  },
  "language_info": {
   "codemirror_mode": {
    "name": "ipython",
    "version": 3
   },
   "file_extension": ".py",
   "mimetype": "text/x-python",
   "name": "python",
   "nbconvert_exporter": "python",
   "pygments_lexer": "ipython3",
   "version": "3.6.1"
  }
 },
 "nbformat": 4,
 "nbformat_minor": 2
}
